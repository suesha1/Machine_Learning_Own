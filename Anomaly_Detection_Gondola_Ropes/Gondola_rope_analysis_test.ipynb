{
  "nbformat": 4,
  "nbformat_minor": 0,
  "metadata": {
    "colab": {
      "name": "Gondola_rope_analysis",
      "provenance": [],
      "collapsed_sections": []
    },
    "kernelspec": {
      "name": "python3",
      "display_name": "Python 3"
    }
  },
  "cells": [
    {
      "cell_type": "code",
      "metadata": {
        "id": "02ANaevrmNym",
        "colab_type": "code",
        "colab": {}
      },
      "source": [
        "import numpy as np\n",
        "from sklearn.feature_extraction import image\n",
        "import pandas as pd\n",
        "import seaborn as sns\n",
        "import matplotlib.pyplot as plt\n",
        "# import squarify"
      ],
      "execution_count": null,
      "outputs": []
    },
    {
      "cell_type": "code",
      "metadata": {
        "id": "n48EjbP9opqO",
        "colab_type": "code",
        "colab": {
          "base_uri": "https://localhost:8080/",
          "height": 72
        },
        "outputId": "ed60683d-26b8-40d6-cd59-9fd5366f60d4"
      },
      "source": [
        "import pandas as pd\n",
        "df = pd.read_csv('https://query.data.world/s/htbtmgxmowb5rp5dsm4vz3on6wx4bn')"
      ],
      "execution_count": null,
      "outputs": [
        {
          "output_type": "stream",
          "text": [
            "/usr/local/lib/python3.6/dist-packages/IPython/core/interactiveshell.py:2718: DtypeWarning: Columns (1) have mixed types.Specify dtype option on import or set low_memory=False.\n",
            "  interactivity=interactivity, compiler=compiler, result=result)\n"
          ],
          "name": "stderr"
        }
      ]
    },
    {
      "cell_type": "code",
      "metadata": {
        "id": "xEYxoVXdm98P",
        "colab_type": "code",
        "colab": {
          "base_uri": "https://localhost:8080/",
          "height": 107
        },
        "outputId": "fcf63c43-2ce5-4761-9ab3-4058025fed31"
      },
      "source": [
        "pip install squarify"
      ],
      "execution_count": null,
      "outputs": [
        {
          "output_type": "stream",
          "text": [
            "Collecting squarify\n",
            "  Downloading https://files.pythonhosted.org/packages/0b/2b/2e77c35326efec19819cd1d729540d4d235e6c2a3f37658288a363a67da5/squarify-0.4.3-py3-none-any.whl\n",
            "Installing collected packages: squarify\n",
            "Successfully installed squarify-0.4.3\n"
          ],
          "name": "stdout"
        }
      ]
    },
    {
      "cell_type": "code",
      "metadata": {
        "id": "5u3GibyipqNu",
        "colab_type": "code",
        "colab": {
          "base_uri": "https://localhost:8080/",
          "height": 55
        },
        "outputId": "b71d45f4-3604-4621-8cfc-ed51ea81f756"
      },
      "source": [
        "from google.colab import drive\n",
        "drive.mount('/content/drive')"
      ],
      "execution_count": null,
      "outputs": [
        {
          "output_type": "stream",
          "text": [
            "Drive already mounted at /content/drive; to attempt to forcibly remount, call drive.mount(\"/content/drive\", force_remount=True).\n"
          ],
          "name": "stdout"
        }
      ]
    },
    {
      "cell_type": "code",
      "metadata": {
        "id": "dqhv4gcVnHmn",
        "colab_type": "code",
        "colab": {}
      },
      "source": [
        "df=pd.read_excel(\"/content/drive/My Drive/Steel_Rope_Data.xlsx\")"
      ],
      "execution_count": null,
      "outputs": []
    },
    {
      "cell_type": "code",
      "metadata": {
        "id": "Ss2s5-IBpiZE",
        "colab_type": "code",
        "colab": {
          "base_uri": "https://localhost:8080/",
          "height": 173
        },
        "outputId": "91da39cb-2afb-4826-ddeb-14f77ba7b003"
      },
      "source": [
        "df.columns = df.iloc[2]\n",
        "df.columns"
      ],
      "execution_count": null,
      "outputs": [
        {
          "output_type": "execute_result",
          "data": {
            "text/plain": [
              "Index([                           'Type',           'Nominal_Diameter_[mm]',\n",
              "               'Approximate_Mass_[kg/m]', 'Tensile_Strength(1770 Mpa)_[kN]',\n",
              "       'Tensile_Strength(1770 Mpa)_[Kg]', 'Tensile_Strength(1960 Mpa)_[kN]',\n",
              "       'Tensile_Strength(1960 Mpa)_[Kg]',       'Abrasion_Crush_Resistance',\n",
              "                    'Fatigue_Resistance',             'Rotation_Resistance',\n",
              "                           'Flexibility',                          'Target',\n",
              "                               'Sources',                               nan,\n",
              "                                     nan],\n",
              "      dtype='object', name=2)"
            ]
          },
          "metadata": {
            "tags": []
          },
          "execution_count": 23
        }
      ]
    },
    {
      "cell_type": "code",
      "metadata": {
        "id": "kuxhVJVVXquS",
        "colab_type": "code",
        "colab": {
          "base_uri": "https://localhost:8080/",
          "height": 52
        },
        "outputId": "7d197eef-2c82-401c-ed87-2be0a12204dc"
      },
      "source": [
        "print(df['Fatigue_Resistance'].unique())\n"
      ],
      "execution_count": null,
      "outputs": [
        {
          "output_type": "stream",
          "text": [
            "[nan 'Fatigue_Resistance' 'Less fatigue resistance'\n",
            " 'Good fatigue resistance' 'Medium fatigue resistance']\n"
          ],
          "name": "stdout"
        }
      ]
    },
    {
      "cell_type": "code",
      "metadata": {
        "id": "bLtP3QRBXacz",
        "colab_type": "code",
        "colab": {
          "base_uri": "https://localhost:8080/",
          "height": 239
        },
        "outputId": "f03cdc98-5fb8-45cb-a2ce-fd88b1f971af"
      },
      "source": [
        "df_8mm.head()"
      ],
      "execution_count": null,
      "outputs": [
        {
          "output_type": "execute_result",
          "data": {
            "text/html": [
              "<div>\n",
              "<style scoped>\n",
              "    .dataframe tbody tr th:only-of-type {\n",
              "        vertical-align: middle;\n",
              "    }\n",
              "\n",
              "    .dataframe tbody tr th {\n",
              "        vertical-align: top;\n",
              "    }\n",
              "\n",
              "    .dataframe thead th {\n",
              "        text-align: right;\n",
              "    }\n",
              "</style>\n",
              "<table border=\"1\" class=\"dataframe\">\n",
              "  <thead>\n",
              "    <tr style=\"text-align: right;\">\n",
              "      <th></th>\n",
              "      <th>Unnamed: 0</th>\n",
              "      <th>Nominal_Diameter_[mm]</th>\n",
              "      <th>Approximate_Mass_[kg/m]</th>\n",
              "      <th>Tensile_Strength(1770 Mpa)_[kN]</th>\n",
              "      <th>Tensile_Strength(1770 Mpa)_[Kg]</th>\n",
              "      <th>Tensile_Strength(1960 Mpa)_[kN]</th>\n",
              "      <th>Tensile_Strength(1960 Mpa)_[Kg]</th>\n",
              "      <th>Abrasion_Crush_Resistance_encoded</th>\n",
              "      <th>Fatigue_Resistance_encoded</th>\n",
              "      <th>Rotation_Resistance_encoded</th>\n",
              "      <th>Target</th>\n",
              "    </tr>\n",
              "  </thead>\n",
              "  <tbody>\n",
              "    <tr>\n",
              "      <th>0</th>\n",
              "      <td>0</td>\n",
              "      <td>8.0</td>\n",
              "      <td>0.262</td>\n",
              "      <td>40.30</td>\n",
              "      <td>4113.0</td>\n",
              "      <td>44.70</td>\n",
              "      <td>4555.0</td>\n",
              "      <td>0.195402</td>\n",
              "      <td>0.666667</td>\n",
              "      <td>0.425287</td>\n",
              "      <td>1</td>\n",
              "    </tr>\n",
              "    <tr>\n",
              "      <th>1</th>\n",
              "      <td>1</td>\n",
              "      <td>8.0</td>\n",
              "      <td>0.244</td>\n",
              "      <td>41.00</td>\n",
              "      <td>4180.0</td>\n",
              "      <td>45.40</td>\n",
              "      <td>4630.0</td>\n",
              "      <td>0.195402</td>\n",
              "      <td>0.235632</td>\n",
              "      <td>0.425287</td>\n",
              "      <td>1</td>\n",
              "    </tr>\n",
              "    <tr>\n",
              "      <th>2</th>\n",
              "      <td>2</td>\n",
              "      <td>8.0</td>\n",
              "      <td>0.260</td>\n",
              "      <td>40.30</td>\n",
              "      <td>4110.0</td>\n",
              "      <td>44.70</td>\n",
              "      <td>4560.0</td>\n",
              "      <td>0.390805</td>\n",
              "      <td>0.235632</td>\n",
              "      <td>0.195402</td>\n",
              "      <td>1</td>\n",
              "    </tr>\n",
              "    <tr>\n",
              "      <th>3</th>\n",
              "      <td>3</td>\n",
              "      <td>8.0</td>\n",
              "      <td>0.267</td>\n",
              "      <td>40.30</td>\n",
              "      <td>4110.0</td>\n",
              "      <td>44.70</td>\n",
              "      <td>4560.0</td>\n",
              "      <td>0.195402</td>\n",
              "      <td>0.666667</td>\n",
              "      <td>0.040230</td>\n",
              "      <td>1</td>\n",
              "    </tr>\n",
              "    <tr>\n",
              "      <th>4</th>\n",
              "      <td>4</td>\n",
              "      <td>8.0</td>\n",
              "      <td>0.257</td>\n",
              "      <td>37.16</td>\n",
              "      <td>3789.0</td>\n",
              "      <td>41.14</td>\n",
              "      <td>4196.0</td>\n",
              "      <td>0.195402</td>\n",
              "      <td>0.235632</td>\n",
              "      <td>0.155172</td>\n",
              "      <td>1</td>\n",
              "    </tr>\n",
              "  </tbody>\n",
              "</table>\n",
              "</div>"
            ],
            "text/plain": [
              "   Unnamed: 0  Nominal_Diameter_[mm]  ...  Rotation_Resistance_encoded  Target\n",
              "0           0                    8.0  ...                     0.425287       1\n",
              "1           1                    8.0  ...                     0.425287       1\n",
              "2           2                    8.0  ...                     0.195402       1\n",
              "3           3                    8.0  ...                     0.040230       1\n",
              "4           4                    8.0  ...                     0.155172       1\n",
              "\n",
              "[5 rows x 11 columns]"
            ]
          },
          "metadata": {
            "tags": []
          },
          "execution_count": 16
        }
      ]
    },
    {
      "cell_type": "code",
      "metadata": {
        "id": "gKOTVhr8qOsS",
        "colab_type": "code",
        "colab": {}
      },
      "source": [
        "df.head()\n",
        "df=df.iloc[3:,0:12]\n"
      ],
      "execution_count": null,
      "outputs": []
    },
    {
      "cell_type": "code",
      "metadata": {
        "id": "ZQ8Fl-SVVPal",
        "colab_type": "code",
        "colab": {}
      },
      "source": [
        "# df.loc[df['Nominal_Diameter_[mm]'] == 8, 'Target'] = 1\n",
        "# df.loc[df['Nominal_Diameter_[mm]'] != 10, 'Target'] = 0\n",
        "df['Target'][df['Nominal_Diameter_[mm]'] == 8] = 1\n",
        "df['Target'][df['Nominal_Diameter_[mm]'] != 8] = 0\n",
        "#print(df['Target'][df['Nominal_Diameter_[mm]'] == 8])"
      ],
      "execution_count": null,
      "outputs": []
    },
    {
      "cell_type": "code",
      "metadata": {
        "id": "d2CN7W3l86EE",
        "colab_type": "code",
        "colab": {}
      },
      "source": [
        "df"
      ],
      "execution_count": null,
      "outputs": []
    },
    {
      "cell_type": "code",
      "metadata": {
        "id": "TBfRociOWcDo",
        "colab_type": "code",
        "colab": {}
      },
      "source": [
        "df_8mm=df.loc[df['Nominal_Diameter_[mm]'] == 8]\n",
        "df_8mm=df_8mm.iloc[0:19,:]\n"
      ],
      "execution_count": null,
      "outputs": []
    },
    {
      "cell_type": "code",
      "metadata": {
        "id": "u1t5_dpHy3CJ",
        "colab_type": "code",
        "colab": {}
      },
      "source": [
        "\n"
      ],
      "execution_count": null,
      "outputs": []
    },
    {
      "cell_type": "code",
      "metadata": {
        "id": "4B3QY7b9z3xP",
        "colab_type": "code",
        "colab": {}
      },
      "source": [
        "df_8mm=df_8mm.dropna()"
      ],
      "execution_count": null,
      "outputs": []
    },
    {
      "cell_type": "code",
      "metadata": {
        "id": "oVVuc2oOy7Gq",
        "colab_type": "code",
        "colab": {}
      },
      "source": [
        "pip install ctgan"
      ],
      "execution_count": null,
      "outputs": []
    },
    {
      "cell_type": "code",
      "metadata": {
        "id": "OA0tQ_NizZdz",
        "colab_type": "code",
        "colab": {}
      },
      "source": [
        "df_8mm.columns\n",
        "colum=['Nominal_Diameter_[mm]', 'Approximate_Mass_[kg/m]',\n",
        "       'Tensile_Strength(1770 Mpa)_[kN]', 'Tensile_Strength(1770 Mpa)_[Kg]',\n",
        "       'Tensile_Strength(1960 Mpa)_[kN]', 'Tensile_Strength(1960 Mpa)_[Kg]',\n",
        "       'Abrasion_Crush_Resistance', 'Fatigue_Resistance',\n",
        "       'Rotation_Resistance', 'Flexibility', 'Target']"
      ],
      "execution_count": null,
      "outputs": []
    },
    {
      "cell_type": "code",
      "metadata": {
        "id": "JWeKtnNMzMwM",
        "colab_type": "code",
        "colab": {}
      },
      "source": [
        "from ctgan import CTGANSynthesizer\n",
        "\n",
        "ctgan = CTGANSynthesizer()\n",
        "ctgan.fit(df_8mm, colum)"
      ],
      "execution_count": null,
      "outputs": []
    },
    {
      "cell_type": "code",
      "metadata": {
        "id": "8kYlWhsQ0NsW",
        "colab_type": "code",
        "colab": {}
      },
      "source": [
        "df_8mm = ctgan.sample(200)"
      ],
      "execution_count": null,
      "outputs": []
    },
    {
      "cell_type": "code",
      "metadata": {
        "id": "CEE_amGL0VYy",
        "colab_type": "code",
        "colab": {
          "base_uri": "https://localhost:8080/",
          "height": 329
        },
        "outputId": "8900af90-0d6c-4faa-e8de-f403fc6e078d"
      },
      "source": [
        "print(df_8mm)"
      ],
      "execution_count": null,
      "outputs": [
        {
          "output_type": "stream",
          "text": [
            "2                                     Type  ... Target\n",
            "23                 6*36 WS IWRC Steel rope  ...      1\n",
            "58                     7*19 WSC Steel rope  ...      1\n",
            "75              8*19 Seale IWRC Steel rope  ...      1\n",
            "97                 8*31 WS IWRC Steel rope  ...      1\n",
            "123                   19*7 IWSC Steel rope  ...      1\n",
            "144             6*19 Fibre core Steel rope  ...      1\n",
            "201    6*31 WS Fibre core  Steel wire rope  ...      1\n",
            "225           6*31 WS IWRC Steel wire rope  ...      1\n",
            "325  8*19 Seale Fibre core Steel wire rope  ...      1\n",
            "347     8*31 WS Fibre core Steel wire rope  ...      1\n",
            "401        6*36 Fibre core Steel wire rope  ...      1\n",
            "431        18*7 Fibre core Steel wire rope  ...      1\n",
            "459       1*19 wire strand core Steel rope  ...      1\n",
            "493        PERFECTION-TK15 Steel wire rope  ...      1\n",
            "514        Evolution TK-16 Steel wire rope  ...      1\n",
            "\n",
            "[15 rows x 12 columns]\n"
          ],
          "name": "stdout"
        }
      ]
    },
    {
      "cell_type": "code",
      "metadata": {
        "id": "rtmf-A9EWO0U",
        "colab_type": "code",
        "colab": {}
      },
      "source": [
        "df_10mm=df.loc[df['Nominal_Diameter_[mm]'] == 10]"
      ],
      "execution_count": null,
      "outputs": []
    },
    {
      "cell_type": "code",
      "metadata": {
        "id": "QZm2P_peWkSb",
        "colab_type": "code",
        "colab": {}
      },
      "source": [
        "df_12mm=df.loc[df['Nominal_Diameter_[mm]'] == 12]"
      ],
      "execution_count": null,
      "outputs": []
    },
    {
      "cell_type": "code",
      "metadata": {
        "id": "8akR9NsIWnv4",
        "colab_type": "code",
        "colab": {}
      },
      "source": [
        "df_14mm=df.loc[df['Nominal_Diameter_[mm]'] == 14]"
      ],
      "execution_count": null,
      "outputs": []
    },
    {
      "cell_type": "code",
      "metadata": {
        "id": "0w0J7AN6XOYw",
        "colab_type": "code",
        "colab": {}
      },
      "source": [
        "df_13mm=df.loc[df['Nominal_Diameter_[mm]'] == 13]"
      ],
      "execution_count": null,
      "outputs": []
    },
    {
      "cell_type": "code",
      "metadata": {
        "id": "IRplTY4M5Xyb",
        "colab_type": "code",
        "colab": {
          "base_uri": "https://localhost:8080/",
          "height": 35
        },
        "outputId": "f60d7b15-0370-4091-923a-df023937d5cc"
      },
      "source": [
        "df_16mm=df.loc[df['Nominal_Diameter_[mm]'] == 16]\n",
        "df_16mm.shape"
      ],
      "execution_count": null,
      "outputs": [
        {
          "output_type": "execute_result",
          "data": {
            "text/plain": [
              "(23, 12)"
            ]
          },
          "metadata": {
            "tags": []
          },
          "execution_count": 115
        }
      ]
    },
    {
      "cell_type": "code",
      "metadata": {
        "id": "QnvaokK05iHC",
        "colab_type": "code",
        "colab": {
          "base_uri": "https://localhost:8080/",
          "height": 35
        },
        "outputId": "76510863-734c-4838-a72d-b249ae1c02a3"
      },
      "source": [
        "df_15mm=df.loc[df['Nominal_Diameter_[mm]'] == 16]\n",
        "df_15mm.shape"
      ],
      "execution_count": null,
      "outputs": [
        {
          "output_type": "execute_result",
          "data": {
            "text/plain": [
              "(23, 12)"
            ]
          },
          "metadata": {
            "tags": []
          },
          "execution_count": 116
        }
      ]
    },
    {
      "cell_type": "code",
      "metadata": {
        "id": "je9Y3PyfqNqO",
        "colab_type": "code",
        "colab": {
          "base_uri": "https://localhost:8080/",
          "height": 35
        },
        "outputId": "48867f3e-45c3-49f5-c6a4-4cebf3fa98fb"
      },
      "source": [
        "df_17mm=df.loc[df['Nominal_Diameter_[mm]'] == 16]\n",
        "df_17mm.shape"
      ],
      "execution_count": null,
      "outputs": [
        {
          "output_type": "execute_result",
          "data": {
            "text/plain": [
              "(23, 12)"
            ]
          },
          "metadata": {
            "tags": []
          },
          "execution_count": 117
        }
      ]
    },
    {
      "cell_type": "code",
      "metadata": {
        "id": "1afBtiqOqTJr",
        "colab_type": "code",
        "colab": {
          "base_uri": "https://localhost:8080/",
          "height": 35
        },
        "outputId": "a033cd61-a946-4a8d-a393-a8908f2c860b"
      },
      "source": [
        "df_18mm=df.loc[df['Nominal_Diameter_[mm]'] == 16]\n",
        "df_18mm.shape"
      ],
      "execution_count": null,
      "outputs": [
        {
          "output_type": "execute_result",
          "data": {
            "text/plain": [
              "(23, 12)"
            ]
          },
          "metadata": {
            "tags": []
          },
          "execution_count": 118
        }
      ]
    },
    {
      "cell_type": "code",
      "metadata": {
        "id": "8waZv-bo3Bsa",
        "colab_type": "code",
        "colab": {}
      },
      "source": [
        "frames=[df_8mm,df_10mm,df_12mm,df_14mm,df_13mm,df_15mm,df_16mm,df_17mm,df_18mm]\n",
        "df_8mm=pd.concat(frames)\n"
      ],
      "execution_count": null,
      "outputs": []
    },
    {
      "cell_type": "code",
      "metadata": {
        "id": "oUi7iv2T7d7B",
        "colab_type": "code",
        "colab": {}
      },
      "source": [
        "import pandas as pd"
      ],
      "execution_count": null,
      "outputs": []
    },
    {
      "cell_type": "code",
      "metadata": {
        "id": "fejOyjCgzw_x",
        "colab_type": "code",
        "colab": {}
      },
      "source": [
        "print(len(df_8mm))\n",
        "df_8mm"
      ],
      "execution_count": null,
      "outputs": []
    },
    {
      "cell_type": "code",
      "metadata": {
        "id": "5MCgS57l77ie",
        "colab_type": "code",
        "colab": {
          "base_uri": "https://localhost:8080/",
          "height": 308
        },
        "outputId": "a873d696-64fd-419c-c0d0-e3bbec118260"
      },
      "source": [
        "plt.figure(figsize=(20,6))\n",
        "sns.scatterplot(x=\"Tensile_Strength(1770 Mpa)_[kN]\", y=\"Tensile_Strength(1770 Mpa)_[Kg]\", data=df_8mm)"
      ],
      "execution_count": null,
      "outputs": [
        {
          "output_type": "execute_result",
          "data": {
            "text/plain": [
              "<matplotlib.axes._subplots.AxesSubplot at 0x7f4caa532a20>"
            ]
          },
          "metadata": {
            "tags": []
          },
          "execution_count": 198
        },
        {
          "output_type": "display_data",
          "data": {
            "image/png": "[encoded data removed]",
            "text/plain": [
              "<Figure size 1440x432 with 1 Axes>"
            ]
          },
          "metadata": {
            "tags": [],
            "needs_background": "light"
          }
        }
      ]
    },
    {
      "cell_type": "code",
      "metadata": {
        "id": "qgEnZdBV-VAi",
        "colab_type": "code",
        "colab": {
          "base_uri": "https://localhost:8080/",
          "height": 305
        },
        "outputId": "3336248c-e5eb-47ec-af2b-72fc95dee193"
      },
      "source": [
        "plt.figure(figsize=(20,6))\n",
        "sns.scatterplot(x=\"Tensile_Strength(1960 Mpa)_[kN]\", y=\"Tensile_Strength(1960 Mpa)_[Kg]\", data=df_8mm.dropna())"
      ],
      "execution_count": null,
      "outputs": [
        {
          "output_type": "execute_result",
          "data": {
            "text/plain": [
              "<matplotlib.axes._subplots.AxesSubplot at 0x7f0ca8b47a58>"
            ]
          },
          "metadata": {
            "tags": []
          },
          "execution_count": 91
        },
        {
          "output_type": "display_data",
          "data": {
            "image/png": "[encoded data removed]",
            "text/plain": [
              "<Figure size 1440x432 with 1 Axes>"
            ]
          },
          "metadata": {
            "tags": [],
            "needs_background": "light"
          }
        }
      ]
    },
    {
      "cell_type": "code",
      "metadata": {
        "id": "MZIn5gI-_asj",
        "colab_type": "code",
        "colab": {
          "base_uri": "https://localhost:8080/",
          "height": 476
        },
        "outputId": "6f6f515f-0a9d-4870-8808-0343b93e422b"
      },
      "source": [
        "plt.figure(figsize=(20,6))\n",
        "sns.jointplot(x = 'Tensile_Strength(1770 Mpa)_[kN]', y = 'Tensile_Strength(1770 Mpa)_[Kg]', data = df_8mm)"
      ],
      "execution_count": null,
      "outputs": [
        {
          "output_type": "execute_result",
          "data": {
            "text/plain": [
              "<seaborn.axisgrid.JointGrid at 0x7f0ca8bf3f98>"
            ]
          },
          "metadata": {
            "tags": []
          },
          "execution_count": 92
        },
        {
          "output_type": "display_data",
          "data": {
            "text/plain": [
              "<Figure size 1440x432 with 0 Axes>"
            ]
          },
          "metadata": {
            "tags": []
          }
        },
        {
          "output_type": "display_data",
          "data": {
            "image/png": "[encoded data removed]",
            "text/plain": [
              "<Figure size 432x432 with 3 Axes>"
            ]
          },
          "metadata": {
            "tags": [],
            "needs_background": "light"
          }
        }
      ]
    },
    {
      "cell_type": "code",
      "metadata": {
        "id": "nRY4Z4R3PPoc",
        "colab_type": "code",
        "colab": {}
      },
      "source": [
        "df_8mm=df_8mm.dropna(axis=1)\n",
        "df_8mm"
      ],
      "execution_count": null,
      "outputs": []
    },
    {
      "cell_type": "code",
      "metadata": {
        "id": "VYCwJBZGSpXQ",
        "colab_type": "code",
        "colab": {
          "base_uri": "https://localhost:8080/",
          "height": 260
        },
        "outputId": "f4611ca9-9b90-4413-8d88-79907c6b37fe"
      },
      "source": [
        "df_8mm.dtypes"
      ],
      "execution_count": null,
      "outputs": [
        {
          "output_type": "execute_result",
          "data": {
            "text/plain": [
              "2\n",
              "Type                               object\n",
              "Nominal_Diameter_[mm]              object\n",
              "Approximate_Mass_[kg/m]            object\n",
              "Tensile_Strength(1770 Mpa)_[kN]    object\n",
              "Tensile_Strength(1770 Mpa)_[Kg]    object\n",
              "Tensile_Strength(1960 Mpa)_[kN]    object\n",
              "Tensile_Strength(1960 Mpa)_[Kg]    object\n",
              "Abrasion_Crush_Resistance          object\n",
              "Fatigue_Resistance                 object\n",
              "Rotation_Resistance                object\n",
              "Flexibility                        object\n",
              "Target                             object\n",
              "dtype: object"
            ]
          },
          "metadata": {
            "tags": []
          },
          "execution_count": 12
        }
      ]
    },
    {
      "cell_type": "code",
      "metadata": {
        "id": "UpkFGwx7TYbn",
        "colab_type": "code",
        "colab": {}
      },
      "source": [
        "df_8mm['Approximate_Mass_[kg/m]']=df_8mm['Approximate_Mass_[kg/m]'].astype(float)\n",
        "df_8mm['Tensile_Strength(1770 Mpa)_[kN]']=df_8mm['Tensile_Strength(1770 Mpa)_[kN]'].astype(str).str.replace(',', '')\n",
        "df_8mm['Tensile_Strength(1770 Mpa)_[kN]']=df_8mm['Tensile_Strength(1770 Mpa)_[kN]'].astype(float)\n",
        "df_8mm['Tensile_Strength(1770 Mpa)_[Kg]']=df_8mm['Tensile_Strength(1770 Mpa)_[Kg]'].astype(str).str.replace(',', '')\n",
        "df_8mm['Tensile_Strength(1770 Mpa)_[Kg]']=df_8mm['Tensile_Strength(1770 Mpa)_[Kg]'].astype(float)"
      ],
      "execution_count": null,
      "outputs": []
    },
    {
      "cell_type": "code",
      "metadata": {
        "id": "xW7GQ6sfVG2s",
        "colab_type": "code",
        "colab": {
          "base_uri": "https://localhost:8080/",
          "height": 225
        },
        "outputId": "a5ed51de-c07b-47f8-8177-fc7585f47fda"
      },
      "source": [
        "df_8mm.dtypes"
      ],
      "execution_count": null,
      "outputs": [
        {
          "output_type": "execute_result",
          "data": {
            "text/plain": [
              "2\n",
              "Type                                object\n",
              "Nominal_Diameter_[mm]               object\n",
              "Approximate_Mass_[kg/m]            float64\n",
              "Tensile_Strength(1770 Mpa)_[kN]    float64\n",
              "Tensile_Strength(1770 Mpa)_[Kg]    float64\n",
              "Abrasion_Crush_Resistance           object\n",
              "Fatigue_Resistance                  object\n",
              "Rotation_Resistance                 object\n",
              "Flexibility                         object\n",
              "Target                              object\n",
              "dtype: object"
            ]
          },
          "metadata": {
            "tags": []
          },
          "execution_count": 15
        }
      ]
    },
    {
      "cell_type": "code",
      "metadata": {
        "id": "GhEPWsC8V1wl",
        "colab_type": "code",
        "colab": {
          "base_uri": "https://localhost:8080/",
          "height": 441
        },
        "outputId": "6f9f469b-0aaa-4388-90c1-34d0439abf74"
      },
      "source": [
        "df_8mm.describe(include=\"all\")"
      ],
      "execution_count": null,
      "outputs": [
        {
          "output_type": "execute_result",
          "data": {
            "text/html": [
              "<div>\n",
              "<style scoped>\n",
              "    .dataframe tbody tr th:only-of-type {\n",
              "        vertical-align: middle;\n",
              "    }\n",
              "\n",
              "    .dataframe tbody tr th {\n",
              "        vertical-align: top;\n",
              "    }\n",
              "\n",
              "    .dataframe thead th {\n",
              "        text-align: right;\n",
              "    }\n",
              "</style>\n",
              "<table border=\"1\" class=\"dataframe\">\n",
              "  <thead>\n",
              "    <tr style=\"text-align: right;\">\n",
              "      <th>2</th>\n",
              "      <th>Type</th>\n",
              "      <th>Nominal_Diameter_[mm]</th>\n",
              "      <th>Approximate_Mass_[kg/m]</th>\n",
              "      <th>Tensile_Strength(1770 Mpa)_[kN]</th>\n",
              "      <th>Tensile_Strength(1770 Mpa)_[Kg]</th>\n",
              "      <th>Abrasion_Crush_Resistance</th>\n",
              "      <th>Fatigue_Resistance</th>\n",
              "      <th>Rotation_Resistance</th>\n",
              "      <th>Flexibility</th>\n",
              "      <th>Target</th>\n",
              "    </tr>\n",
              "  </thead>\n",
              "  <tbody>\n",
              "    <tr>\n",
              "      <th>count</th>\n",
              "      <td>24</td>\n",
              "      <td>24.0</td>\n",
              "      <td>24.000000</td>\n",
              "      <td>24.000000</td>\n",
              "      <td>24.000000</td>\n",
              "      <td>24</td>\n",
              "      <td>24</td>\n",
              "      <td>24</td>\n",
              "      <td>24</td>\n",
              "      <td>24.0</td>\n",
              "    </tr>\n",
              "    <tr>\n",
              "      <th>unique</th>\n",
              "      <td>20</td>\n",
              "      <td>1.0</td>\n",
              "      <td>NaN</td>\n",
              "      <td>NaN</td>\n",
              "      <td>NaN</td>\n",
              "      <td>4</td>\n",
              "      <td>3</td>\n",
              "      <td>5</td>\n",
              "      <td>2</td>\n",
              "      <td>2.0</td>\n",
              "    </tr>\n",
              "    <tr>\n",
              "      <th>top</th>\n",
              "      <td>Nylon rope</td>\n",
              "      <td>8.0</td>\n",
              "      <td>NaN</td>\n",
              "      <td>NaN</td>\n",
              "      <td>NaN</td>\n",
              "      <td>Medium resistant to abrasion and crushing</td>\n",
              "      <td>Good fatigue resistance</td>\n",
              "      <td>NOT rotation or spin resistant</td>\n",
              "      <td>Good flexibility</td>\n",
              "      <td>1.0</td>\n",
              "    </tr>\n",
              "    <tr>\n",
              "      <th>freq</th>\n",
              "      <td>5</td>\n",
              "      <td>24.0</td>\n",
              "      <td>NaN</td>\n",
              "      <td>NaN</td>\n",
              "      <td>NaN</td>\n",
              "      <td>12</td>\n",
              "      <td>12</td>\n",
              "      <td>18</td>\n",
              "      <td>17</td>\n",
              "      <td>19.0</td>\n",
              "    </tr>\n",
              "    <tr>\n",
              "      <th>mean</th>\n",
              "      <td>NaN</td>\n",
              "      <td>NaN</td>\n",
              "      <td>0.223333</td>\n",
              "      <td>34.415000</td>\n",
              "      <td>3656.291667</td>\n",
              "      <td>NaN</td>\n",
              "      <td>NaN</td>\n",
              "      <td>NaN</td>\n",
              "      <td>NaN</td>\n",
              "      <td>NaN</td>\n",
              "    </tr>\n",
              "    <tr>\n",
              "      <th>std</th>\n",
              "      <td>NaN</td>\n",
              "      <td>NaN</td>\n",
              "      <td>0.078377</td>\n",
              "      <td>12.726747</td>\n",
              "      <td>1043.073489</td>\n",
              "      <td>NaN</td>\n",
              "      <td>NaN</td>\n",
              "      <td>NaN</td>\n",
              "      <td>NaN</td>\n",
              "      <td>NaN</td>\n",
              "    </tr>\n",
              "    <tr>\n",
              "      <th>min</th>\n",
              "      <td>NaN</td>\n",
              "      <td>NaN</td>\n",
              "      <td>0.036000</td>\n",
              "      <td>9.500000</td>\n",
              "      <td>1500.000000</td>\n",
              "      <td>NaN</td>\n",
              "      <td>NaN</td>\n",
              "      <td>NaN</td>\n",
              "      <td>NaN</td>\n",
              "      <td>NaN</td>\n",
              "    </tr>\n",
              "    <tr>\n",
              "      <th>25%</th>\n",
              "      <td>NaN</td>\n",
              "      <td>NaN</td>\n",
              "      <td>0.216000</td>\n",
              "      <td>31.400000</td>\n",
              "      <td>3172.500000</td>\n",
              "      <td>NaN</td>\n",
              "      <td>NaN</td>\n",
              "      <td>NaN</td>\n",
              "      <td>NaN</td>\n",
              "      <td>NaN</td>\n",
              "    </tr>\n",
              "    <tr>\n",
              "      <th>50%</th>\n",
              "      <td>NaN</td>\n",
              "      <td>NaN</td>\n",
              "      <td>0.239500</td>\n",
              "      <td>37.300000</td>\n",
              "      <td>3799.500000</td>\n",
              "      <td>NaN</td>\n",
              "      <td>NaN</td>\n",
              "      <td>NaN</td>\n",
              "      <td>NaN</td>\n",
              "      <td>NaN</td>\n",
              "    </tr>\n",
              "    <tr>\n",
              "      <th>75%</th>\n",
              "      <td>NaN</td>\n",
              "      <td>NaN</td>\n",
              "      <td>0.262000</td>\n",
              "      <td>40.300000</td>\n",
              "      <td>4110.750000</td>\n",
              "      <td>NaN</td>\n",
              "      <td>NaN</td>\n",
              "      <td>NaN</td>\n",
              "      <td>NaN</td>\n",
              "      <td>NaN</td>\n",
              "    </tr>\n",
              "    <tr>\n",
              "      <th>max</th>\n",
              "      <td>NaN</td>\n",
              "      <td>NaN</td>\n",
              "      <td>0.340000</td>\n",
              "      <td>59.500000</td>\n",
              "      <td>6062.000000</td>\n",
              "      <td>NaN</td>\n",
              "      <td>NaN</td>\n",
              "      <td>NaN</td>\n",
              "      <td>NaN</td>\n",
              "      <td>NaN</td>\n",
              "    </tr>\n",
              "  </tbody>\n",
              "</table>\n",
              "</div>"
            ],
            "text/plain": [
              "2             Type  Nominal_Diameter_[mm]  ...       Flexibility  Target\n",
              "count           24                   24.0  ...                24    24.0\n",
              "unique          20                    1.0  ...                 2     2.0\n",
              "top     Nylon rope                    8.0  ...  Good flexibility     1.0\n",
              "freq             5                   24.0  ...                17    19.0\n",
              "mean           NaN                    NaN  ...               NaN     NaN\n",
              "std            NaN                    NaN  ...               NaN     NaN\n",
              "min            NaN                    NaN  ...               NaN     NaN\n",
              "25%            NaN                    NaN  ...               NaN     NaN\n",
              "50%            NaN                    NaN  ...               NaN     NaN\n",
              "75%            NaN                    NaN  ...               NaN     NaN\n",
              "max            NaN                    NaN  ...               NaN     NaN\n",
              "\n",
              "[11 rows x 10 columns]"
            ]
          },
          "metadata": {
            "tags": []
          },
          "execution_count": 16
        }
      ]
    },
    {
      "cell_type": "code",
      "metadata": {
        "id": "UbEoMZqXvyMX",
        "colab_type": "code",
        "colab": {}
      },
      "source": [
        "df_8mm.columns\n",
        "column=['Approximate_Mass_[kg/m]',\n",
        "       'Tensile_Strength(1770 Mpa)_[kN]', 'Tensile_Strength(1770 Mpa)_[Kg]',\n",
        "       'Tensile_Strength(1960 Mpa)_[kN]', 'Tensile_Strength(1960 Mpa)_[Kg]',\n",
        "       'Abrasion_Crush_Resistance_encoded', 'Fatigue_Resistance_encoded',\n",
        "       'Rotation_Resistance_encoded']"
      ],
      "execution_count": null,
      "outputs": []
    },
    {
      "cell_type": "code",
      "metadata": {
        "id": "IwaJ0sP2PBgZ",
        "colab_type": "code",
        "colab": {
          "base_uri": "https://localhost:8080/",
          "height": 498
        },
        "outputId": "3180f5ee-6c0c-4f9b-c385-50aa6b3329db"
      },
      "source": [
        "corrmat = df_8mm[column].corr()\n",
        "top_corr_features = corrmat.index\n",
        "#print(top_corr_features)\n",
        "plt.figure(figsize=(9,5))\n",
        "#plot heat map\n",
        "g=sns.heatmap(df_8mm[top_corr_features].corr(),annot=True,cmap=\"RdYlGn\")"
      ],
      "execution_count": null,
      "outputs": [
        {
          "output_type": "display_data",
          "data": {
            "image/png": "[encoded data removed]",
            "text/plain": [
              "<Figure size 648x360 with 2 Axes>"
            ]
          },
          "metadata": {
            "tags": [],
            "needs_background": "light"
          }
        }
      ]
    },
    {
      "cell_type": "code",
      "metadata": {
        "id": "ur-OLbkPXcvz",
        "colab_type": "code",
        "colab": {
          "base_uri": "https://localhost:8080/",
          "height": 141
        },
        "outputId": "7626f7f7-05a3-4734-916f-efb2fd8397ae"
      },
      "source": [
        "df_8mm['Rotation_Resistance'] = df_8mm['Rotation_Resistance'].replace('Rotation  resistant ','Rotation resistant')"
      ],
      "execution_count": null,
      "outputs": [
        {
          "output_type": "stream",
          "text": [
            "/usr/local/lib/python3.6/dist-packages/ipykernel_launcher.py:1: SettingWithCopyWarning: \n",
            "A value is trying to be set on a copy of a slice from a DataFrame.\n",
            "Try using .loc[row_indexer,col_indexer] = value instead\n",
            "\n",
            "See the caveats in the documentation: https://pandas.pydata.org/pandas-docs/stable/user_guide/indexing.html#returning-a-view-versus-a-copy\n",
            "  \"\"\"Entry point for launching an IPython kernel.\n"
          ],
          "name": "stderr"
        }
      ]
    },
    {
      "cell_type": "code",
      "metadata": {
        "id": "T_3qCNPxYOtn",
        "colab_type": "code",
        "colab": {
          "base_uri": "https://localhost:8080/",
          "height": 173
        },
        "outputId": "7f9101de-0850-4290-95d0-6ee295678bbe"
      },
      "source": [
        "print(df_8mm['Abrasion_Crush_Resistance'].unique())\n",
        "print(df_8mm['Fatigue_Resistance'].unique())\n",
        "print(df_8mm['Rotation_Resistance'].unique())\n",
        "print(df_8mm['Flexibility'].unique())"
      ],
      "execution_count": null,
      "outputs": [
        {
          "output_type": "stream",
          "text": [
            "['Medium resistant to abrasion and crushing'\n",
            " 'Good resistant to abrasion and crushing'\n",
            " 'Good resistant to abrasion and medium crush resistance'\n",
            " 'Low abrasion and crush resistance']\n",
            "['Good fatigue resistance' 'Medium fatigue resistance'\n",
            " 'Less fatigue resistance']\n",
            "['NOT rotation or spin resistant' 'Less spin and rotation resistant'\n",
            " 'Rotation resistant' 'Rotation  resistant but Non rotating']\n",
            "['Medium flexibility' 'Good flexibility']\n"
          ],
          "name": "stdout"
        }
      ]
    },
    {
      "cell_type": "code",
      "metadata": {
        "id": "5cJrqZ0RfJTx",
        "colab_type": "code",
        "colab": {
          "base_uri": "https://localhost:8080/",
          "height": 551
        },
        "outputId": "a55be2f5-3902-43da-8e30-59fdf6e97c37"
      },
      "source": [
        "\n",
        "df_8mm=temp\n",
        "df_8mm.head()"
      ],
      "execution_count": null,
      "outputs": [
        {
          "output_type": "execute_result",
          "data": {
            "text/html": [
              "<div>\n",
              "<style scoped>\n",
              "    .dataframe tbody tr th:only-of-type {\n",
              "        vertical-align: middle;\n",
              "    }\n",
              "\n",
              "    .dataframe tbody tr th {\n",
              "        vertical-align: top;\n",
              "    }\n",
              "\n",
              "    .dataframe thead th {\n",
              "        text-align: right;\n",
              "    }\n",
              "</style>\n",
              "<table border=\"1\" class=\"dataframe\">\n",
              "  <thead>\n",
              "    <tr style=\"text-align: right;\">\n",
              "      <th>2</th>\n",
              "      <th>Type</th>\n",
              "      <th>Nominal_Diameter_[mm]</th>\n",
              "      <th>Approximate_Mass_[kg/m]</th>\n",
              "      <th>Tensile_Strength(1770 Mpa)_[kN]</th>\n",
              "      <th>Tensile_Strength(1770 Mpa)_[Kg]</th>\n",
              "      <th>Tensile_Strength(1960 Mpa)_[kN]</th>\n",
              "      <th>Tensile_Strength(1960 Mpa)_[Kg]</th>\n",
              "      <th>Abrasion_Crush_Resistance</th>\n",
              "      <th>Fatigue_Resistance</th>\n",
              "      <th>Rotation_Resistance</th>\n",
              "      <th>Flexibility</th>\n",
              "      <th>Target</th>\n",
              "    </tr>\n",
              "  </thead>\n",
              "  <tbody>\n",
              "    <tr>\n",
              "      <th>23</th>\n",
              "      <td>6*36 WS IWRC Steel rope</td>\n",
              "      <td>8</td>\n",
              "      <td>0.262</td>\n",
              "      <td>40.30</td>\n",
              "      <td>4113.0</td>\n",
              "      <td>44.7</td>\n",
              "      <td>4555</td>\n",
              "      <td>Medium resistant to abrasion and crushing</td>\n",
              "      <td>Good fatigue resistance</td>\n",
              "      <td>NOT rotation or spin resistant</td>\n",
              "      <td>Medium flexibility</td>\n",
              "      <td>1</td>\n",
              "    </tr>\n",
              "    <tr>\n",
              "      <th>58</th>\n",
              "      <td>7*19 WSC Steel rope</td>\n",
              "      <td>8</td>\n",
              "      <td>0.244</td>\n",
              "      <td>41.00</td>\n",
              "      <td>4180.0</td>\n",
              "      <td>45.4</td>\n",
              "      <td>4630</td>\n",
              "      <td>Medium resistant to abrasion and crushing</td>\n",
              "      <td>Medium fatigue resistance</td>\n",
              "      <td>NOT rotation or spin resistant</td>\n",
              "      <td>Good flexibility</td>\n",
              "      <td>1</td>\n",
              "    </tr>\n",
              "    <tr>\n",
              "      <th>75</th>\n",
              "      <td>8*19 Seale IWRC Steel rope</td>\n",
              "      <td>8</td>\n",
              "      <td>0.260</td>\n",
              "      <td>40.30</td>\n",
              "      <td>4110.0</td>\n",
              "      <td>44.7</td>\n",
              "      <td>4560</td>\n",
              "      <td>Good resistant to abrasion and crushing</td>\n",
              "      <td>Medium fatigue resistance</td>\n",
              "      <td>Less spin and rotation resistant</td>\n",
              "      <td>Medium flexibility</td>\n",
              "      <td>1</td>\n",
              "    </tr>\n",
              "    <tr>\n",
              "      <th>97</th>\n",
              "      <td>8*31 WS IWRC Steel rope</td>\n",
              "      <td>8</td>\n",
              "      <td>0.267</td>\n",
              "      <td>40.30</td>\n",
              "      <td>4110.0</td>\n",
              "      <td>44.7</td>\n",
              "      <td>4560</td>\n",
              "      <td>Medium resistant to abrasion and crushing</td>\n",
              "      <td>Good fatigue resistance</td>\n",
              "      <td>Rotation resistant</td>\n",
              "      <td>Medium flexibility</td>\n",
              "      <td>1</td>\n",
              "    </tr>\n",
              "    <tr>\n",
              "      <th>123</th>\n",
              "      <td>19*7 IWSC Steel rope</td>\n",
              "      <td>8</td>\n",
              "      <td>0.257</td>\n",
              "      <td>37.16</td>\n",
              "      <td>3789.0</td>\n",
              "      <td>41.14</td>\n",
              "      <td>4196</td>\n",
              "      <td>Medium resistant to abrasion and crushing</td>\n",
              "      <td>Medium fatigue resistance</td>\n",
              "      <td>Rotation  resistant but Non rotating</td>\n",
              "      <td>Good flexibility</td>\n",
              "      <td>1</td>\n",
              "    </tr>\n",
              "  </tbody>\n",
              "</table>\n",
              "</div>"
            ],
            "text/plain": [
              "2                           Type  ... Target\n",
              "23       6*36 WS IWRC Steel rope  ...      1\n",
              "58           7*19 WSC Steel rope  ...      1\n",
              "75    8*19 Seale IWRC Steel rope  ...      1\n",
              "97       8*31 WS IWRC Steel rope  ...      1\n",
              "123         19*7 IWSC Steel rope  ...      1\n",
              "\n",
              "[5 rows x 12 columns]"
            ]
          },
          "metadata": {
            "tags": []
          },
          "execution_count": 101
        }
      ]
    },
    {
      "cell_type": "code",
      "metadata": {
        "id": "aRSEqYIWbAT9",
        "colab_type": "code",
        "colab": {}
      },
      "source": [
        "categorical_cols=['Abrasion_Crush_Resistance', 'Fatigue_Resistance',\n",
        "       'Rotation_Resistance', 'Flexibility']"
      ],
      "execution_count": null,
      "outputs": []
    },
    {
      "cell_type": "code",
      "metadata": {
        "id": "myE71zqZcENN",
        "colab_type": "code",
        "colab": {}
      },
      "source": [
        "from sklearn.preprocessing import LabelEncoder\n",
        "# instantiate labelencoder object\n",
        "le = LabelEncoder()"
      ],
      "execution_count": null,
      "outputs": []
    },
    {
      "cell_type": "code",
      "metadata": {
        "id": "oVPZDDISeOkj",
        "colab_type": "code",
        "colab": {}
      },
      "source": [
        "df_8mm['Abrasion_Crush_Resistance_encoded'] = le.fit_transform(df_8mm['Abrasion_Crush_Resistance'].values)\n",
        "df_8mm['Fatigue_Resistance_encoded'] = le.fit_transform(df_8mm['Fatigue_Resistance'].values)\n",
        "df_8mm['Rotation_Resistance_encoded'] = le.fit_transform(df_8mm['Rotation_Resistance'].values)\n",
        "df_8mm['Flexibility_encoded'] = le.fit_transform(df_8mm['Flexibility'].values)"
      ],
      "execution_count": null,
      "outputs": []
    },
    {
      "cell_type": "code",
      "metadata": {
        "id": "axYYqf7ke2gm",
        "colab_type": "code",
        "colab": {
          "base_uri": "https://localhost:8080/",
          "height": 139
        },
        "outputId": "bb0144f8-9ed1-4470-816e-137adb446429"
      },
      "source": [
        "df_8mm.columns"
      ],
      "execution_count": null,
      "outputs": [
        {
          "output_type": "execute_result",
          "data": {
            "text/plain": [
              "Index(['Type', 'Nominal_Diameter_[mm]', 'Approximate_Mass_[kg/m]',\n",
              "       'Tensile_Strength(1770 Mpa)_[kN]', 'Tensile_Strength(1770 Mpa)_[Kg]',\n",
              "       'Abrasion_Crush_Resistance', 'Fatigue_Resistance',\n",
              "       'Rotation_Resistance', 'Flexibility', 'Target',\n",
              "       'Abrasion_Crush_Resistance_encoded', 'Fatigue_Resistance_encoded',\n",
              "       'Rotation_Resistance_encoded', 'Flexibility_encoded'],\n",
              "      dtype='object', name=2)"
            ]
          },
          "metadata": {
            "tags": []
          },
          "execution_count": 30
        }
      ]
    },
    {
      "cell_type": "code",
      "metadata": {
        "id": "FXszxG3ihyGe",
        "colab_type": "code",
        "colab": {
          "base_uri": "https://localhost:8080/",
          "height": 452
        },
        "outputId": "4d2add1e-d2e1-4548-d761-63c2fa08ec13"
      },
      "source": [
        "fig, ax = plt.subplots(1, 4, figsize=(20, 5))\n",
        "for variable, subplot in zip(categorical_cols, ax.flatten()):\n",
        "    sns.countplot(df_8mm[variable], ax=subplot)\n",
        "    for label in subplot.get_xticklabels():\n",
        "        label.set_rotation(90)"
      ],
      "execution_count": null,
      "outputs": [
        {
          "output_type": "display_data",
          "data": {
            "image/png": "[encoded data removed]",
            "text/plain": [
              "<Figure size 1440x360 with 4 Axes>"
            ]
          },
          "metadata": {
            "tags": [],
            "needs_background": "light"
          }
        }
      ]
    },
    {
      "cell_type": "code",
      "metadata": {
        "id": "UtUbTenfepKV",
        "colab_type": "code",
        "colab": {
          "base_uri": "https://localhost:8080/",
          "height": 401
        },
        "outputId": "ee640981-988b-4ca0-9d29-be98665d712d"
      },
      "source": [
        "plt.figure(figsize=(20,5))\n",
        "sns.catplot(y=\"Abrasion_Crush_Resistance\", hue=\"Target\", kind=\"count\",\n",
        "            palette=\"pastel\", edgecolor=\".6\",data=df_8mm);"
      ],
      "execution_count": null,
      "outputs": [
        {
          "output_type": "display_data",
          "data": {
            "text/plain": [
              "<Figure size 1440x360 with 0 Axes>"
            ]
          },
          "metadata": {
            "tags": []
          }
        },
        {
          "output_type": "display_data",
          "data": {
            "image/png": "[encoded data removed]",
            "text/plain": [
              "<Figure size 402.375x360 with 1 Axes>"
            ]
          },
          "metadata": {
            "tags": [],
            "needs_background": "light"
          }
        }
      ]
    },
    {
      "cell_type": "code",
      "metadata": {
        "id": "BTpVyADcfWs0",
        "colab_type": "code",
        "colab": {
          "base_uri": "https://localhost:8080/",
          "height": 401
        },
        "outputId": "33fa5908-14c6-47e4-ff55-41434ead4016"
      },
      "source": [
        "#https://seaborn.pydata.org/tutorial/categorical.html\n",
        "plt.figure(figsize=(10,5))\n",
        "sns.catplot(y=\"Fatigue_Resistance\", hue=\"Target\", kind=\"count\",\n",
        "            palette=\"pastel\", edgecolor=\".6\",data=df_8mm);"
      ],
      "execution_count": null,
      "outputs": [
        {
          "output_type": "display_data",
          "data": {
            "text/plain": [
              "<Figure size 720x360 with 0 Axes>"
            ]
          },
          "metadata": {
            "tags": []
          }
        },
        {
          "output_type": "display_data",
          "data": {
            "image/png": "[encoded data removed]",
            "text/plain": [
              "<Figure size 402.375x360 with 1 Axes>"
            ]
          },
          "metadata": {
            "tags": [],
            "needs_background": "light"
          }
        }
      ]
    },
    {
      "cell_type": "code",
      "metadata": {
        "id": "2Jbhfg44nzPp",
        "colab_type": "code",
        "colab": {
          "base_uri": "https://localhost:8080/",
          "height": 401
        },
        "outputId": "d415fd8a-29af-449b-92a9-a46e1e384caa"
      },
      "source": [
        "plt.figure(figsize=(10,5))\n",
        "sns.catplot(y=\"Rotation_Resistance\",hue=\"Target\", kind=\"count\",  palette=\"pastel\", edgecolor=\".6\",data=df_8mm);"
      ],
      "execution_count": null,
      "outputs": [
        {
          "output_type": "display_data",
          "data": {
            "text/plain": [
              "<Figure size 720x360 with 0 Axes>"
            ]
          },
          "metadata": {
            "tags": []
          }
        },
        {
          "output_type": "display_data",
          "data": {
            "image/png": "[encoded data removed]",
            "text/plain": [
              "<Figure size 402.375x360 with 1 Axes>"
            ]
          },
          "metadata": {
            "tags": [],
            "needs_background": "light"
          }
        }
      ]
    },
    {
      "cell_type": "code",
      "metadata": {
        "id": "yNEerWWonPe3",
        "colab_type": "code",
        "colab": {
          "base_uri": "https://localhost:8080/",
          "height": 387
        },
        "outputId": "21e6e915-70b3-4db7-e694-e4520f4e2571"
      },
      "source": [
        "plt.figure(figsize=(5,5))\n",
        "sns.catplot(x=\"Flexibility\",hue=\"Target\", kind=\"count\", palette=\"pastel\", edgecolor=\".6\", data=df_8mm);"
      ],
      "execution_count": null,
      "outputs": [
        {
          "output_type": "display_data",
          "data": {
            "text/plain": [
              "<Figure size 360x360 with 0 Axes>"
            ]
          },
          "metadata": {
            "tags": []
          }
        },
        {
          "output_type": "display_data",
          "data": {
            "image/png": "[encoded data removed]",
            "text/plain": [
              "<Figure size 402.375x360 with 1 Axes>"
            ]
          },
          "metadata": {
            "tags": [],
            "needs_background": "light"
          }
        }
      ]
    },
    {
      "cell_type": "code",
      "metadata": {
        "id": "abRbts5xrGKD",
        "colab_type": "code",
        "colab": {}
      },
      "source": [
        "nominal_cols=['Approximate_Mass_[kg/m]',\n",
        "       'Tensile_Strength(1770 Mpa)_[kN]', 'Tensile_Strength(1770 Mpa)_[Kg]']\n"
      ],
      "execution_count": null,
      "outputs": []
    },
    {
      "cell_type": "code",
      "metadata": {
        "id": "vVeDcEU-7zyC",
        "colab_type": "code",
        "colab": {
          "base_uri": "https://localhost:8080/",
          "height": 357
        },
        "outputId": "4734b25a-38fa-4382-d16f-df789c2e3880"
      },
      "source": [
        "fig = plt.figure(figsize=(8, 6))\n",
        "ax = fig.add_subplot(111, projection='3d')\n",
        "\n",
        "xs = df_8mm['Approximate_Mass_[kg/m]']\n",
        "ys = df_8mm['Tensile_Strength(1770 Mpa)_[kN]']\n",
        "zs = df_8mm['Tensile_Strength(1770 Mpa)_[Kg]']\n",
        "ax.scatter(xs, ys, zs, s=50, alpha=0.6, edgecolors='w')\n",
        "\n",
        "ax.set_xlabel('Approximate_Mass')\n",
        "ax.set_ylabel('Tensile_Strength(1770 Mpa)_[kN]')\n",
        "ax.set_zlabel('Tensile_Strength(1770 Mpa)_[kg]')\n",
        "\n",
        "plt.show()"
      ],
      "execution_count": null,
      "outputs": [
        {
          "output_type": "display_data",
          "data": {
            "image/png": "[encoded data removed]",
            "text/plain": [
              "<Figure size 576x432 with 1 Axes>"
            ]
          },
          "metadata": {
            "tags": [],
            "needs_background": "light"
          }
        }
      ]
    },
    {
      "cell_type": "code",
      "metadata": {
        "id": "8y_Jhumcq3rw",
        "colab_type": "code",
        "colab": {
          "base_uri": "https://localhost:8080/",
          "height": 387
        },
        "outputId": "69c10e4b-f46e-45d8-a96a-231087855397"
      },
      "source": [
        "plt.figure(figsize=(5,5))\n",
        "sns.catplot(data=df_8mm[nominal_cols], orient=\"h\", kind=\"box\");"
      ],
      "execution_count": null,
      "outputs": [
        {
          "output_type": "display_data",
          "data": {
            "text/plain": [
              "<Figure size 360x360 with 0 Axes>"
            ]
          },
          "metadata": {
            "tags": []
          }
        },
        {
          "output_type": "display_data",
          "data": {
            "image/png": "[encoded data removed]",
            "text/plain": [
              "<Figure size 360x360 with 1 Axes>"
            ]
          },
          "metadata": {
            "tags": [],
            "needs_background": "light"
          }
        }
      ]
    },
    {
      "cell_type": "code",
      "metadata": {
        "id": "DwidgToanXBP",
        "colab_type": "code",
        "colab": {
          "base_uri": "https://localhost:8080/",
          "height": 547
        },
        "outputId": "33048c4c-e9de-45c4-cddb-4f834f18f8f5"
      },
      "source": [
        "sns.catplot(x=\"Rotation_Resistance\", y=\"Approximate_Mass_[kg/m]\", hue=\"Target\",\n",
        "            kind=\"box\", dodge=False, data=df_8mm);\n",
        "plt.xticks(rotation=70)"
      ],
      "execution_count": null,
      "outputs": [
        {
          "output_type": "execute_result",
          "data": {
            "text/plain": [
              "(array([0, 1, 2, 3]), <a list of 4 Text major ticklabel objects>)"
            ]
          },
          "metadata": {
            "tags": []
          },
          "execution_count": 113
        },
        {
          "output_type": "display_data",
          "data": {
            "image/png": "[encoded data removed]",
            "text/plain": [
              "<Figure size 402.375x360 with 1 Axes>"
            ]
          },
          "metadata": {
            "tags": [],
            "needs_background": "light"
          }
        }
      ]
    },
    {
      "cell_type": "code",
      "metadata": {
        "id": "JoyhhrefsU5V",
        "colab_type": "code",
        "colab": {
          "base_uri": "https://localhost:8080/",
          "height": 265
        },
        "outputId": "a6645108-21c3-41cf-ee9e-a99af1499365"
      },
      "source": [
        "fig, ax = plt.subplots(1, 3, figsize=(20, 5))\n",
        "for variable, subplot in zip(nominal_cols, ax.flatten()):\n",
        "    sns.distplot(df_8mm[variable], ax=subplot)\n",
        "    for label in subplot.get_xticklabels():\n",
        "        label.set_rotation(90)"
      ],
      "execution_count": null,
      "outputs": [
        {
          "output_type": "display_data",
          "data": {
            "image/png": "[encoded data removed]",
            "text/plain": [
              "<Figure size 1440x360 with 3 Axes>"
            ]
          },
          "metadata": {
            "tags": [],
            "needs_background": "light"
          }
        }
      ]
    },
    {
      "cell_type": "code",
      "metadata": {
        "id": "FlBwXa-ruQf0",
        "colab_type": "code",
        "colab": {}
      },
      "source": [
        "df_8mm['Approximate_Mass_[kg/m]']=df_8mm['Approximate_Mass_[kg/m]']*100\n",
        "df_8mm.head()"
      ],
      "execution_count": null,
      "outputs": []
    },
    {
      "cell_type": "code",
      "metadata": {
        "id": "T4KraP9w7vxs",
        "colab_type": "code",
        "colab": {}
      },
      "source": [
        "df_8mm['Tensile_Strength(1770 Mpa)_[Kg]']=df_8mm['Tensile_Strength(1770 Mpa)_[Kg]']/100\n"
      ],
      "execution_count": null,
      "outputs": []
    },
    {
      "cell_type": "code",
      "metadata": {
        "id": "IxWUiPgA8ajX",
        "colab_type": "code",
        "colab": {
          "base_uri": "https://localhost:8080/",
          "height": 459
        },
        "outputId": "c5e94551-d0ac-410f-b8be-3da5469f4302"
      },
      "source": [
        "g = sns.jointplot('Tensile_Strength(1770 Mpa)_[kN]','Tensile_Strength(1770 Mpa)_[Kg]' , kind='reg', scatter = False ,data=df_8mm)\n",
        "g.ax_joint.scatter('Tensile_Strength(1770 Mpa)_[kN]','Tensile_Strength(1770 Mpa)_[Kg]' , c='Target',data=df_8mm)"
      ],
      "execution_count": null,
      "outputs": [
        {
          "output_type": "execute_result",
          "data": {
            "text/plain": [
              "<matplotlib.collections.PathCollection at 0x7f4a64a34080>"
            ]
          },
          "metadata": {
            "tags": []
          },
          "execution_count": 33
        },
        {
          "output_type": "display_data",
          "data": {
            "image/png": "[encoded data removed]",
            "text/plain": [
              "<Figure size 432x432 with 3 Axes>"
            ]
          },
          "metadata": {
            "tags": [],
            "needs_background": "light"
          }
        }
      ]
    },
    {
      "cell_type": "code",
      "metadata": {
        "id": "9vV5Jr3PAuXh",
        "colab_type": "code",
        "colab": {
          "base_uri": "https://localhost:8080/",
          "height": 459
        },
        "outputId": "526e4428-b65c-4e10-c733-828780a5d781"
      },
      "source": [
        "g = sns.jointplot('Approximate_Mass_[kg/m]','Tensile_Strength(1770 Mpa)_[Kg]' , kind='reg', scatter = False ,data=df_8mm)\n",
        "g.ax_joint.scatter('Approximate_Mass_[kg/m]','Tensile_Strength(1770 Mpa)_[Kg]' , c='Target',data=df_8mm)"
      ],
      "execution_count": null,
      "outputs": [
        {
          "output_type": "execute_result",
          "data": {
            "text/plain": [
              "<matplotlib.collections.PathCollection at 0x7f4a64961f28>"
            ]
          },
          "metadata": {
            "tags": []
          },
          "execution_count": 32
        },
        {
          "output_type": "display_data",
          "data": {
            "image/png": "[encoded data removed]",
            "text/plain": [
              "<Figure size 432x432 with 3 Axes>"
            ]
          },
          "metadata": {
            "tags": [],
            "needs_background": "light"
          }
        }
      ]
    },
    {
      "cell_type": "code",
      "metadata": {
        "id": "Y5jnSMVFAyOj",
        "colab_type": "code",
        "colab": {
          "base_uri": "https://localhost:8080/",
          "height": 459
        },
        "outputId": "dbed03da-96f3-4e7d-82c6-73d7647571ea"
      },
      "source": [
        "g = sns.jointplot('Tensile_Strength(1770 Mpa)_[kN]','Approximate_Mass_[kg/m]' , kind='reg', scatter = False ,data=df_8mm)\n",
        "g.ax_joint.scatter('Tensile_Strength(1770 Mpa)_[kN]','Approximate_Mass_[kg/m]' , c='Target',data=df_8mm)\n"
      ],
      "execution_count": null,
      "outputs": [
        {
          "output_type": "execute_result",
          "data": {
            "text/plain": [
              "<matplotlib.collections.PathCollection at 0x7f4a64fb9f60>"
            ]
          },
          "metadata": {
            "tags": []
          },
          "execution_count": 34
        },
        {
          "output_type": "display_data",
          "data": {
            "image/png": "[encoded data removed]",
            "text/plain": [
              "<Figure size 432x432 with 3 Axes>"
            ]
          },
          "metadata": {
            "tags": [],
            "needs_background": "light"
          }
        }
      ]
    },
    {
      "cell_type": "code",
      "metadata": {
        "id": "-mtqlT05BZBr",
        "colab_type": "code",
        "colab": {}
      },
      "source": [
        "df_8mm.head()"
      ],
      "execution_count": null,
      "outputs": []
    },
    {
      "cell_type": "code",
      "metadata": {
        "id": "FfCgvu_aBlUM",
        "colab_type": "code",
        "colab": {}
      },
      "source": [
        "cols=['Approximate_Mass_[kg/m]',\n",
        "       'Tensile_Strength(1770 Mpa)_[kN]', 'Tensile_Strength(1770 Mpa)_[Kg]','Abrasion_Crush_Resistance_encoded', 'Fatigue_Resistance_encoded',]"
      ],
      "execution_count": null,
      "outputs": []
    },
    {
      "cell_type": "code",
      "metadata": {
        "id": "k1EfopP0lxKq",
        "colab_type": "code",
        "colab": {}
      },
      "source": [
        "from sklearn.model_selection import KFold, StratifiedKFold, train_test_split, cross_validate, cross_val_score\n",
        "from sklearn.svm import OneClassSVM \n",
        "from sklearn.metrics import confusion_matrix\n",
        "from sklearn.metrics import accuracy_score, classification_report\n",
        "from statistics import mean\n",
        "from sklearn.ensemble import IsolationForest"
      ],
      "execution_count": null,
      "outputs": []
    },
    {
      "cell_type": "code",
      "metadata": {
        "id": "n78ug57gl_83",
        "colab_type": "code",
        "colab": {}
      },
      "source": [
        "df_8mm.reset_index()\n",
        "kf4 = KFold(n_splits=4, shuffle=True)"
      ],
      "execution_count": null,
      "outputs": []
    },
    {
      "cell_type": "code",
      "metadata": {
        "id": "DG-Xs3gcmZlB",
        "colab_type": "code",
        "colab": {
          "base_uri": "https://localhost:8080/",
          "height": 277
        },
        "outputId": "0e984567-bcd3-4270-d09e-7b7a2640caf4"
      },
      "source": [
        "i=0\n",
        "avg_score=[]\n",
        "for train_index, test_index in kf4.split(df_8mm):\n",
        "  X_train = df_8mm.iloc[train_index].loc[:, cols]\n",
        "  X_test =df_8mm.iloc[test_index][cols]\n",
        "  y_train = df_8mm.iloc[train_index].loc[:,'Target']\n",
        "  y_test = df_8mm.iloc[test_index]['Target']\n",
        "  train_normal = y_train[y_train==1] \n",
        "  train_outliers = y_train[y_train==0] \n",
        "  outlier_prop = len(train_outliers) / len(train_normal) \n",
        "  svm = OneClassSVM(kernel='rbf', nu=outlier_prop, gamma=0.000001) \n",
        "  svm.fit(X_train,y_train)\n",
        "  y_pred=svm.predict(X_test)\n",
        "  print(y_pred)\n",
        "  for i in range(len(y_pred)):\n",
        "    if y_pred[i]==-1:\n",
        "      y_pred[i]=0\n",
        "  y_test=y_test.tolist()\n",
        "  print(f\"Accuracy for the fold no. {i} on the test set: {confusion_matrix(y_test, y_pred)}\")\n",
        "  i =i+1\n",
        "  score=accuracy_score(y_test,y_pred)\n",
        "  print(score)  \n",
        "  avg_score.append(score)\n",
        "  #print(train_index, test_index)"
      ],
      "execution_count": null,
      "outputs": [
        {
          "output_type": "stream",
          "text": [
            "[-1  1 -1 -1 -1 -1]\n",
            "Accuracy for the fold no. 5 on the test set: [[2 0]\n",
            " [3 1]]\n",
            "0.5\n",
            "[1 1 1 1 1 1]\n",
            "Accuracy for the fold no. 5 on the test set: [[6]]\n",
            "1.0\n",
            "[ 1  1  1  1  1 -1]\n",
            "Accuracy for the fold no. 5 on the test set: [[1 0]\n",
            " [0 5]]\n",
            "1.0\n",
            "[ 1  1  1 -1 -1  1]\n",
            "Accuracy for the fold no. 5 on the test set: [[1 1]\n",
            " [1 3]]\n",
            "0.6666666666666666\n"
          ],
          "name": "stdout"
        }
      ]
    },
    {
      "cell_type": "code",
      "metadata": {
        "id": "rKGxTOqLzPmx",
        "colab_type": "code",
        "colab": {
          "base_uri": "https://localhost:8080/",
          "height": 35
        },
        "outputId": "20d0b50a-3a42-48a8-c9e0-7cba08bad4a8"
      },
      "source": [
        "print(mean(avg_score))"
      ],
      "execution_count": null,
      "outputs": [
        {
          "output_type": "stream",
          "text": [
            "0.7916666666666666\n"
          ],
          "name": "stdout"
        }
      ]
    },
    {
      "cell_type": "code",
      "metadata": {
        "id": "E06-bqZnVb_I",
        "colab_type": "code",
        "colab": {
          "base_uri": "https://localhost:8080/",
          "height": 297
        },
        "outputId": "ced37902-ef7d-473c-9a19-03145f361fec"
      },
      "source": [
        "x = X_test['Tensile_Strength(1770 Mpa)_[kN]'] \n",
        "y = X_test['Approximate_Mass_[kg/m]'] \n",
        "plt.scatter(x, y, alpha=0.7, c=y_test) \n",
        "plt.xlabel('Tensile_Strength(1770 Mpa)_[kN]') \n",
        "plt.ylabel('Approximate_Mass_[kg/m]')"
      ],
      "execution_count": null,
      "outputs": [
        {
          "output_type": "execute_result",
          "data": {
            "text/plain": [
              "Text(0, 0.5, 'Approximate_Mass_[kg/m]')"
            ]
          },
          "metadata": {
            "tags": []
          },
          "execution_count": 116
        },
        {
          "output_type": "display_data",
          "data": {
            "image/png": "[encoded data removed]",
            "text/plain": [
              "<Figure size 432x288 with 1 Axes>"
            ]
          },
          "metadata": {
            "tags": [],
            "needs_background": "light"
          }
        }
      ]
    },
    {
      "cell_type": "code",
      "metadata": {
        "id": "-TdsL7-QZAPE",
        "colab_type": "code",
        "colab": {
          "base_uri": "https://localhost:8080/",
          "height": 297
        },
        "outputId": "ad277ae1-e401-415f-b5bc-2ad90267f872"
      },
      "source": [
        "x = X_test['Tensile_Strength(1770 Mpa)_[kN]'] \n",
        "y = X_test['Tensile_Strength(1770 Mpa)_[Kg]'] \n",
        "plt.scatter(x, y, alpha=0.7, c=y_test) \n",
        "plt.xlabel('Tensile_Strength(1770 Mpa)_[kN]') \n",
        "plt.ylabel('Tensile_Strength(1770 Mpa)_[Kg]')"
      ],
      "execution_count": null,
      "outputs": [
        {
          "output_type": "execute_result",
          "data": {
            "text/plain": [
              "Text(0, 0.5, 'Tensile_Strength(1770 Mpa)_[Kg]')"
            ]
          },
          "metadata": {
            "tags": []
          },
          "execution_count": 117
        },
        {
          "output_type": "display_data",
          "data": {
            "image/png": "[encoded data removed]",
            "text/plain": [
              "<Figure size 432x288 with 1 Axes>"
            ]
          },
          "metadata": {
            "tags": [],
            "needs_background": "light"
          }
        }
      ]
    },
    {
      "cell_type": "code",
      "metadata": {
        "id": "1fwOCwNeyohY",
        "colab_type": "code",
        "colab": {
          "base_uri": "https://localhost:8080/",
          "height": 52
        },
        "outputId": "65b9352d-db0d-4562-93ba-da64cdab6e9f"
      },
      "source": [
        "\n",
        "model=IsolationForest(n_estimators=50, max_samples='auto', contamination=float(0.1),max_features=5)\n",
        "model.fit(X_train)\n",
        "# predictions\n",
        "y_pred_train = model.predict(X_train)\n",
        "y_pred_test = model.predict(X_test)\n",
        "print(y_pred_train)\n",
        "print(y_train.to_list())"
      ],
      "execution_count": null,
      "outputs": [
        {
          "output_type": "stream",
          "text": [
            "[ 1  1  1  1  1  1  1  1  1  1  1  1  1  1  1 -1 -1  1]\n",
            "[1, 1, 1, 1, 1, 1, 1, 1, 1, 1, 1, 1, 1, 1, 1, 0, 0, 0]\n"
          ],
          "name": "stdout"
        }
      ]
    },
    {
      "cell_type": "code",
      "metadata": {
        "id": "4hMtqlID2F5Z",
        "colab_type": "code",
        "colab": {
          "base_uri": "https://localhost:8080/",
          "height": 347
        },
        "outputId": "be74fc95-f0ce-4840-f5c2-c9fe000050dd"
      },
      "source": [
        "i=0\n",
        "avg_score=[]\n",
        "for train_index, test_index in kf4.split(df_8mm):\n",
        "  X_train = df_8mm.iloc[train_index].loc[:, cols]\n",
        "  X_test =df_8mm.iloc[test_index][cols]\n",
        "  y_train = df_8mm.iloc[train_index].loc[:,'Target']\n",
        "  y_test = df_8mm.iloc[test_index]['Target']\n",
        "  train_normal = y_train[y_train==1] \n",
        "  train_outliers = y_train[y_train==0] \n",
        "  outlier_prop = len(train_outliers) / len(train_normal) \n",
        "  model=IsolationForest(n_estimators=50, max_samples='auto', contamination=float(outlier_prop),max_features=5)\n",
        "  model.fit(X_train)\n",
        "  y_pred=model.predict(X_test)\n",
        "  print(f\"Predicted values: {y_pred}\")\n",
        "  for i in range(len(y_pred)):\n",
        "    if y_pred[i]==-1:\n",
        "      y_pred[i]=0\n",
        "  y_test=y_test.tolist()\n",
        "  print(f\"Actual values: {y_test}\")\n",
        "  print(f\"Accuracy for the fold no. {i} on the test set: {confusion_matrix(y_test, y_pred)}\")\n",
        "  i =i+1\n",
        "  score=accuracy_score(y_test,y_pred)\n",
        "  print(score)  \n",
        "  avg_score.append(score)\n",
        "  "
      ],
      "execution_count": null,
      "outputs": [
        {
          "output_type": "stream",
          "text": [
            "Predicted values: [ 1  1  1 -1 -1  1]\n",
            "Actual values: [1, 1, 1, 0, 0, 0]\n",
            "Accuracy for the fold no. 5 on the test set: [[2 1]\n",
            " [0 3]]\n",
            "0.8333333333333334\n",
            "Predicted values: [ 1  1  1  1 -1 -1]\n",
            "Actual values: [1, 1, 1, 1, 0, 0]\n",
            "Accuracy for the fold no. 5 on the test set: [[2 0]\n",
            " [0 4]]\n",
            "1.0\n",
            "Predicted values: [ 1 -1  1 -1  1 -1]\n",
            "Actual values: [1, 1, 1, 1, 1, 1]\n",
            "Accuracy for the fold no. 5 on the test set: [[0 0]\n",
            " [3 3]]\n",
            "0.5\n",
            "Predicted values: [1 1 1 1 1 1]\n",
            "Actual values: [1, 1, 1, 1, 1, 1]\n",
            "Accuracy for the fold no. 5 on the test set: [[6]]\n",
            "1.0\n"
          ],
          "name": "stdout"
        }
      ]
    },
    {
      "cell_type": "code",
      "metadata": {
        "id": "nRTGC44P3OJJ",
        "colab_type": "code",
        "colab": {
          "base_uri": "https://localhost:8080/",
          "height": 35
        },
        "outputId": "82452167-da64-441b-b30b-93edad5a3119"
      },
      "source": [
        "print(mean(avg_score))"
      ],
      "execution_count": null,
      "outputs": [
        {
          "output_type": "stream",
          "text": [
            "0.8333333333333334\n"
          ],
          "name": "stdout"
        }
      ]
    },
    {
      "cell_type": "code",
      "metadata": {
        "id": "7wK497fDkl-9",
        "colab_type": "code",
        "colab": {}
      },
      "source": [
        "temp=df_8mm"
      ],
      "execution_count": null,
      "outputs": []
    },
    {
      "cell_type": "code",
      "metadata": {
        "id": "_ZBPszwH9jX9",
        "colab_type": "code",
        "colab": {}
      },
      "source": [
        "df_8mm[df_8mm[\"Target\"]==1]"
      ],
      "execution_count": null,
      "outputs": []
    },
    {
      "cell_type": "code",
      "metadata": {
        "id": "C7CYGHNZ3y5I",
        "colab_type": "code",
        "colab": {}
      },
      "source": [
        "df_8mm=temp"
      ],
      "execution_count": null,
      "outputs": []
    },
    {
      "cell_type": "markdown",
      "metadata": {
        "id": "QYjmPSXHEcyM",
        "colab_type": "text"
      },
      "source": [
        "**ADDING GAUSSIAN NOISE AND CHECKING**\n"
      ]
    },
    {
      "cell_type": "code",
      "metadata": {
        "id": "p4ioOPnkEmgv",
        "colab_type": "code",
        "colab": {
          "base_uri": "https://localhost:8080/",
          "height": 765
        },
        "outputId": "0d08a004-0c72-4118-d7c8-56a8187faedb"
      },
      "source": [
        "#df_8mm.reset_index()\n",
        "df_8mm.shape\n",
        "df_8mm=df_8mm.iloc[:,0:12]\n",
        "df_8mm"
      ],
      "execution_count": null,
      "outputs": [
        {
          "output_type": "execute_result",
          "data": {
            "text/html": [
              "<div>\n",
              "<style scoped>\n",
              "    .dataframe tbody tr th:only-of-type {\n",
              "        vertical-align: middle;\n",
              "    }\n",
              "\n",
              "    .dataframe tbody tr th {\n",
              "        vertical-align: top;\n",
              "    }\n",
              "\n",
              "    .dataframe thead th {\n",
              "        text-align: right;\n",
              "    }\n",
              "</style>\n",
              "<table border=\"1\" class=\"dataframe\">\n",
              "  <thead>\n",
              "    <tr style=\"text-align: right;\">\n",
              "      <th>2</th>\n",
              "      <th>Type</th>\n",
              "      <th>Nominal_Diameter_[mm]</th>\n",
              "      <th>Approximate_Mass_[kg/m]</th>\n",
              "      <th>Tensile_Strength(1770 Mpa)_[kN]</th>\n",
              "      <th>Tensile_Strength(1770 Mpa)_[Kg]</th>\n",
              "      <th>Tensile_Strength(1960 Mpa)_[kN]</th>\n",
              "      <th>Tensile_Strength(1960 Mpa)_[Kg]</th>\n",
              "      <th>Abrasion_Crush_Resistance</th>\n",
              "      <th>Fatigue_Resistance</th>\n",
              "      <th>Rotation_Resistance</th>\n",
              "      <th>Flexibility</th>\n",
              "      <th>Target</th>\n",
              "    </tr>\n",
              "  </thead>\n",
              "  <tbody>\n",
              "    <tr>\n",
              "      <th>23</th>\n",
              "      <td>6*36 WS IWRC Steel rope</td>\n",
              "      <td>8</td>\n",
              "      <td>0.262</td>\n",
              "      <td>40.3</td>\n",
              "      <td>4113</td>\n",
              "      <td>44.7</td>\n",
              "      <td>4555</td>\n",
              "      <td>Medium resistant to abrasion and crushing</td>\n",
              "      <td>Good fatigue resistance</td>\n",
              "      <td>NOT rotation or spin resistant</td>\n",
              "      <td>Medium flexibility</td>\n",
              "      <td>1</td>\n",
              "    </tr>\n",
              "    <tr>\n",
              "      <th>58</th>\n",
              "      <td>7*19 WSC Steel rope</td>\n",
              "      <td>8</td>\n",
              "      <td>0.244</td>\n",
              "      <td>41</td>\n",
              "      <td>4180</td>\n",
              "      <td>45.4</td>\n",
              "      <td>4630</td>\n",
              "      <td>Medium resistant to abrasion and crushing</td>\n",
              "      <td>Medium fatigue resistance</td>\n",
              "      <td>NOT rotation or spin resistant</td>\n",
              "      <td>Good flexibility</td>\n",
              "      <td>1</td>\n",
              "    </tr>\n",
              "    <tr>\n",
              "      <th>75</th>\n",
              "      <td>8*19 Seale IWRC Steel rope</td>\n",
              "      <td>8</td>\n",
              "      <td>0.26</td>\n",
              "      <td>40.3</td>\n",
              "      <td>4110</td>\n",
              "      <td>44.7</td>\n",
              "      <td>4560</td>\n",
              "      <td>Good resistant to abrasion and crushing</td>\n",
              "      <td>Medium fatigue resistance</td>\n",
              "      <td>Less spin and rotation resistant</td>\n",
              "      <td>Medium flexibility</td>\n",
              "      <td>1</td>\n",
              "    </tr>\n",
              "    <tr>\n",
              "      <th>97</th>\n",
              "      <td>8*31 WS IWRC Steel rope</td>\n",
              "      <td>8</td>\n",
              "      <td>0.267</td>\n",
              "      <td>40.3</td>\n",
              "      <td>4110</td>\n",
              "      <td>44.7</td>\n",
              "      <td>4560</td>\n",
              "      <td>Medium resistant to abrasion and crushing</td>\n",
              "      <td>Good fatigue resistance</td>\n",
              "      <td>Rotation resistant</td>\n",
              "      <td>Medium flexibility</td>\n",
              "      <td>1</td>\n",
              "    </tr>\n",
              "    <tr>\n",
              "      <th>123</th>\n",
              "      <td>19*7 IWSC Steel rope</td>\n",
              "      <td>8</td>\n",
              "      <td>0.257</td>\n",
              "      <td>37.16</td>\n",
              "      <td>3789</td>\n",
              "      <td>41.14</td>\n",
              "      <td>4196</td>\n",
              "      <td>Medium resistant to abrasion and crushing</td>\n",
              "      <td>Medium fatigue resistance</td>\n",
              "      <td>Rotation  resistant but Non rotating</td>\n",
              "      <td>Good flexibility</td>\n",
              "      <td>1</td>\n",
              "    </tr>\n",
              "    <tr>\n",
              "      <th>...</th>\n",
              "      <td>...</td>\n",
              "      <td>...</td>\n",
              "      <td>...</td>\n",
              "      <td>...</td>\n",
              "      <td>...</td>\n",
              "      <td>...</td>\n",
              "      <td>...</td>\n",
              "      <td>...</td>\n",
              "      <td>...</td>\n",
              "      <td>...</td>\n",
              "      <td>...</td>\n",
              "      <td>...</td>\n",
              "    </tr>\n",
              "    <tr>\n",
              "      <th>409</th>\n",
              "      <td>6*36 Fibre core Steel wire rope</td>\n",
              "      <td>16</td>\n",
              "      <td>0.94</td>\n",
              "      <td>149.5</td>\n",
              "      <td>15252</td>\n",
              "      <td>165.6</td>\n",
              "      <td>16889</td>\n",
              "      <td>Low abrasion and crush resistance</td>\n",
              "      <td>Good fatigue resistance</td>\n",
              "      <td>NOT rotation or spin resistant</td>\n",
              "      <td>Good flexibility</td>\n",
              "      <td>0</td>\n",
              "    </tr>\n",
              "    <tr>\n",
              "      <th>439</th>\n",
              "      <td>18*7 Fibre core Steel wire rope</td>\n",
              "      <td>16</td>\n",
              "      <td>0.978</td>\n",
              "      <td>149</td>\n",
              "      <td>15158</td>\n",
              "      <td>165</td>\n",
              "      <td>16785</td>\n",
              "      <td>Low abrasion and crush resistance</td>\n",
              "      <td>Medium fatigue resistance</td>\n",
              "      <td>Rotation  resistant but Non rotating</td>\n",
              "      <td>Medium flexibility</td>\n",
              "      <td>0</td>\n",
              "    </tr>\n",
              "    <tr>\n",
              "      <th>465</th>\n",
              "      <td>1*19 wire strand core Steel rope</td>\n",
              "      <td>16</td>\n",
              "      <td>1.267</td>\n",
              "      <td>237.9</td>\n",
              "      <td>24250</td>\n",
              "      <td>263.4</td>\n",
              "      <td>26853</td>\n",
              "      <td>Medium resistant to abrasion and crushing</td>\n",
              "      <td>Less fatigue resistance</td>\n",
              "      <td>NOT rotation or spin resistant</td>\n",
              "      <td>Medium flexibility</td>\n",
              "      <td>0</td>\n",
              "    </tr>\n",
              "    <tr>\n",
              "      <th>475</th>\n",
              "      <td>Evolution-TK17 Steel wire rope</td>\n",
              "      <td>16</td>\n",
              "      <td>1.26</td>\n",
              "      <td>214</td>\n",
              "      <td>21822</td>\n",
              "      <td>236</td>\n",
              "      <td>24065</td>\n",
              "      <td>Good resistant to abrasion and crushing</td>\n",
              "      <td>Good fatigue resistance</td>\n",
              "      <td>Rotation  resistant</td>\n",
              "      <td>Good flexibility</td>\n",
              "      <td>0</td>\n",
              "    </tr>\n",
              "    <tr>\n",
              "      <th>501</th>\n",
              "      <td>PERFECTION-TK15 Steel wire rope</td>\n",
              "      <td>16</td>\n",
              "      <td>1.16</td>\n",
              "      <td>191</td>\n",
              "      <td>19477</td>\n",
              "      <td>211</td>\n",
              "      <td>21516</td>\n",
              "      <td>Good resistant to abrasion and crushing</td>\n",
              "      <td>Good fatigue resistance</td>\n",
              "      <td>Rotation  resistant</td>\n",
              "      <td>Good flexibility</td>\n",
              "      <td>0</td>\n",
              "    </tr>\n",
              "  </tbody>\n",
              "</table>\n",
              "<p>189 rows × 12 columns</p>\n",
              "</div>"
            ],
            "text/plain": [
              "2                                Type  ... Target\n",
              "23            6*36 WS IWRC Steel rope  ...      1\n",
              "58                7*19 WSC Steel rope  ...      1\n",
              "75         8*19 Seale IWRC Steel rope  ...      1\n",
              "97            8*31 WS IWRC Steel rope  ...      1\n",
              "123              19*7 IWSC Steel rope  ...      1\n",
              "..                                ...  ...    ...\n",
              "409   6*36 Fibre core Steel wire rope  ...      0\n",
              "439   18*7 Fibre core Steel wire rope  ...      0\n",
              "465  1*19 wire strand core Steel rope  ...      0\n",
              "475    Evolution-TK17 Steel wire rope  ...      0\n",
              "501   PERFECTION-TK15 Steel wire rope  ...      0\n",
              "\n",
              "[189 rows x 12 columns]"
            ]
          },
          "metadata": {
            "tags": []
          },
          "execution_count": 124
        }
      ]
    },
    {
      "cell_type": "code",
      "metadata": {
        "id": "d3TDNKDz4GQd",
        "colab_type": "code",
        "colab": {}
      },
      "source": [
        "df_8mm=df_8mm[df_8mm['Type'] != 'Nylon rope'] \n",
        "  "
      ],
      "execution_count": null,
      "outputs": []
    },
    {
      "cell_type": "code",
      "metadata": {
        "id": "L_8hBTcRnR8b",
        "colab_type": "code",
        "colab": {}
      },
      "source": [
        "df_8mm['Approximate_Mass_[kg/m]']=df_8mm['Approximate_Mass_[kg/m]'].astype(float)\n",
        "df_8mm['Tensile_Strength(1770 Mpa)_[kN]']=df_8mm['Tensile_Strength(1770 Mpa)_[kN]'].astype(str).str.replace(',', '')\n",
        "df_8mm['Tensile_Strength(1770 Mpa)_[kN]']=df_8mm['Tensile_Strength(1770 Mpa)_[kN]'].astype(float)\n",
        "df_8mm['Tensile_Strength(1770 Mpa)_[Kg]']=df_8mm['Tensile_Strength(1770 Mpa)_[Kg]'].astype(str).str.replace(',', '')\n",
        "df_8mm['Tensile_Strength(1770 Mpa)_[Kg]']=df_8mm['Tensile_Strength(1770 Mpa)_[Kg]'].astype(float)\n",
        "df_8mm['Tensile_Strength(1960 Mpa)_[kN]']=df_8mm['Tensile_Strength(1960 Mpa)_[kN]'].astype(str).str.replace(',', '')\n",
        "df_8mm['Tensile_Strength(1960 Mpa)_[kN]']=df_8mm['Tensile_Strength(1960 Mpa)_[kN]'].astype(float)\n",
        "df_8mm['Tensile_Strength(1960 Mpa)_[Kg]']=df_8mm['Tensile_Strength(1960 Mpa)_[Kg]'].astype(str).str.replace(',', '')\n",
        "df_8mm['Tensile_Strength(1960 Mpa)_[Kg]']=df_8mm['Tensile_Strength(1960 Mpa)_[Kg]'].astype(float)"
      ],
      "execution_count": null,
      "outputs": []
    },
    {
      "cell_type": "code",
      "metadata": {
        "id": "Cu4EEEMTt9Oz",
        "colab_type": "code",
        "colab": {
          "base_uri": "https://localhost:8080/",
          "height": 35
        },
        "outputId": "628fb092-15fe-414d-edfd-9a0f0c8fc205"
      },
      "source": [
        "df_8mm=df_8mm.dropna()\n",
        "df_8mm.shape"
      ],
      "execution_count": null,
      "outputs": [
        {
          "output_type": "execute_result",
          "data": {
            "text/plain": [
              "(189, 12)"
            ]
          },
          "metadata": {
            "tags": []
          },
          "execution_count": 127
        }
      ]
    },
    {
      "cell_type": "code",
      "metadata": {
        "id": "9vTEVaUnoRlx",
        "colab_type": "code",
        "colab": {}
      },
      "source": [
        "from sklearn.preprocessing import LabelEncoder\n",
        "# instantiate labelencoder object\n",
        "le = LabelEncoder()"
      ],
      "execution_count": null,
      "outputs": []
    },
    {
      "cell_type": "code",
      "metadata": {
        "id": "YdxirB7GoTTw",
        "colab_type": "code",
        "colab": {}
      },
      "source": [
        "df_8mm['Abrasion_Crush_Resistance_encoded'] = le.fit_transform(df_8mm['Abrasion_Crush_Resistance'].values)\n",
        "df_8mm['Fatigue_Resistance_encoded'] = le.fit_transform(df_8mm['Fatigue_Resistance'].values)\n",
        "df_8mm['Rotation_Resistance_encoded'] = le.fit_transform(df_8mm['Rotation_Resistance'].values)\n",
        "df_8mm['Flexibility_encoded'] = le.fit_transform(df_8mm['Flexibility'].values)"
      ],
      "execution_count": null,
      "outputs": []
    },
    {
      "cell_type": "code",
      "metadata": {
        "id": "7yOWHVc7ov_1",
        "colab_type": "code",
        "colab": {}
      },
      "source": [
        "cols=['Nominal_Diameter_[mm]','Approximate_Mass_[kg/m]',\n",
        "       'Tensile_Strength(1770 Mpa)_[kN]', 'Tensile_Strength(1770 Mpa)_[Kg]',\n",
        "       'Tensile_Strength(1960 Mpa)_[kN]', 'Tensile_Strength(1960 Mpa)_[Kg]','Abrasion_Crush_Resistance_encoded','Fatigue_Resistance_encoded','Rotation_Resistance_encoded']"
      ],
      "execution_count": null,
      "outputs": []
    },
    {
      "cell_type": "code",
      "metadata": {
        "id": "OzjhfGDPo7V-",
        "colab_type": "code",
        "colab": {}
      },
      "source": [
        "df_8mm[cols]\n",
        "df_8mm.reset_index()"
      ],
      "execution_count": null,
      "outputs": []
    },
    {
      "cell_type": "code",
      "metadata": {
        "id": "JGObbyab8crN",
        "colab_type": "code",
        "colab": {}
      },
      "source": [
        "df_8mm[df_8mm['Target']==0]"
      ],
      "execution_count": null,
      "outputs": []
    },
    {
      "cell_type": "code",
      "metadata": {
        "id": "0__rCgNMXoGc",
        "colab_type": "code",
        "colab": {
          "base_uri": "https://localhost:8080/",
          "height": 736
        },
        "outputId": "29c94720-aa9d-4f64-8fa1-b92c343f3927"
      },
      "source": [
        "from collections import Counter\n",
        "from sklearn.datasets import make_classification\n",
        "from imblearn.over_sampling import SVMSMOTE\n",
        "from matplotlib import pyplot\n",
        "from numpy import where\n",
        "# define dataset\n",
        "X=df_8mm[cols]\n",
        "df_8mm['Target']=df_8mm['Target'].astype(int)\n",
        "print(df_8mm['Target'])\n",
        "y= df_8mm.loc[:,'Target']\n",
        "counter = Counter(y)\n",
        "print(counter)\n",
        "# transform the dataset\n",
        "oversample = SVMSMOTE()\n",
        "X, y = oversample.fit_resample(X, y)\n",
        "# summarize the new class distribution\n",
        "counter = Counter(y)\n",
        "print(counter)\n",
        "# scatter plot of examples by class label\n",
        "for label, _ in counter.items():\n",
        "\trow_ix = where(y == label)[0]\n",
        "\tpyplot.scatter(X[row_ix, 0], X[row_ix, 1], label=str(label))\n",
        "pyplot.legend()\n",
        "pyplot.show()"
      ],
      "execution_count": null,
      "outputs": [
        {
          "output_type": "stream",
          "text": [
            "23     1\n",
            "58     1\n",
            "75     1\n",
            "97     1\n",
            "123    1\n",
            "      ..\n",
            "409    0\n",
            "439    0\n",
            "465    0\n",
            "475    0\n",
            "501    0\n",
            "Name: Target, Length: 189, dtype: int64\n",
            "Counter({0: 174, 1: 15})\n",
            "Counter({1: 174, 0: 174})\n"
          ],
          "name": "stdout"
        },
        {
          "output_type": "stream",
          "text": [
            "/usr/local/lib/python3.6/dist-packages/sklearn/utils/deprecation.py:87: FutureWarning: Function safe_indexing is deprecated; safe_indexing is deprecated in version 0.22 and will be removed in version 0.24.\n",
            "  warnings.warn(msg, category=FutureWarning)\n",
            "/usr/local/lib/python3.6/dist-packages/sklearn/utils/deprecation.py:87: FutureWarning: Function safe_indexing is deprecated; safe_indexing is deprecated in version 0.22 and will be removed in version 0.24.\n",
            "  warnings.warn(msg, category=FutureWarning)\n",
            "/usr/local/lib/python3.6/dist-packages/sklearn/utils/deprecation.py:87: FutureWarning: Function safe_indexing is deprecated; safe_indexing is deprecated in version 0.22 and will be removed in version 0.24.\n",
            "  warnings.warn(msg, category=FutureWarning)\n",
            "/usr/local/lib/python3.6/dist-packages/sklearn/utils/deprecation.py:87: FutureWarning: Function safe_indexing is deprecated; safe_indexing is deprecated in version 0.22 and will be removed in version 0.24.\n",
            "  warnings.warn(msg, category=FutureWarning)\n",
            "/usr/local/lib/python3.6/dist-packages/sklearn/utils/deprecation.py:87: FutureWarning: Function safe_indexing is deprecated; safe_indexing is deprecated in version 0.22 and will be removed in version 0.24.\n",
            "  warnings.warn(msg, category=FutureWarning)\n",
            "/usr/local/lib/python3.6/dist-packages/sklearn/utils/deprecation.py:87: FutureWarning: Function safe_indexing is deprecated; safe_indexing is deprecated in version 0.22 and will be removed in version 0.24.\n",
            "  warnings.warn(msg, category=FutureWarning)\n"
          ],
          "name": "stderr"
        },
        {
          "output_type": "display_data",
          "data": {
            "image/png": "[encoded data removed]",
            "text/plain": [
              "<Figure size 432x288 with 1 Axes>"
            ]
          },
          "metadata": {
            "tags": [],
            "needs_background": "light"
          }
        }
      ]
    },
    {
      "cell_type": "code",
      "metadata": {
        "id": "SBNWdEFYbDux",
        "colab_type": "code",
        "colab": {}
      },
      "source": [
        "data=pd.DataFrame(X,columns=cols)\n",
        "df_8mm=data[data['Nominal_Diameter_[mm]']==8]\n",
        "df_8mm"
      ],
      "execution_count": null,
      "outputs": []
    },
    {
      "cell_type": "code",
      "metadata": {
        "id": "fBc5H3vg6LXP",
        "colab_type": "code",
        "colab": {
          "base_uri": "https://localhost:8080/",
          "height": 956
        },
        "outputId": "aecf73e8-2d92-462c-ba9b-09dd33c03881"
      },
      "source": [
        "df_8mm['Fatigue_Resistance_encoded']=df_8mm['Fatigue_Resistance_encoded'].astype(int)\n",
        "print(df_8mm['Fatigue_Resistance_encoded'].unique())\n",
        "df_8mm['Abrasion_Crush_Resistance_encoded']=df_8mm['Abrasion_Crush_Resistance_encoded'].astype(int)\n",
        "print(df_8mm['Abrasion_Crush_Resistance_encoded'].unique())\n",
        "df_8mm['Abrasion_Crush_Resistance_encoded'][df_8mm['Abrasion_Crush_Resistance_encoded'] == -1] = 0\n",
        "\n",
        "df_8mm['Abrasion_Crush_Resistance_encoded'][df_8mm['Abrasion_Crush_Resistance_encoded'] == 5] = 4\n",
        "print(df_8mm['Abrasion_Crush_Resistance_encoded'].unique())\n",
        "df_8mm['Rotation_Resistance_encoded']=df_8mm['Rotation_Resistance_encoded'].astype(int)\n",
        "print(df_8mm['Rotation_Resistance_encoded'].unique())\n",
        "\n",
        "df_8mm['Rotation_Resistance_encoded'][df_8mm['Rotation_Resistance_encoded'] == 5] = 4\n",
        "df_8mm['Rotation_Resistance_encoded'][df_8mm['Rotation_Resistance_encoded'] <=-1] = 0\n",
        "print(df_8mm['Rotation_Resistance_encoded'].unique())\n"
      ],
      "execution_count": null,
      "outputs": [
        {
          "output_type": "stream",
          "text": [
            "[0 2 1]\n",
            "[ 4  0  1  2  3  5 -1]\n",
            "[4 0 1 2 3]\n",
            "[1 0 4 3 2 5]\n",
            "[1 0 4 3 2]\n"
          ],
          "name": "stdout"
        },
        {
          "output_type": "stream",
          "text": [
            "/usr/local/lib/python3.6/dist-packages/ipykernel_launcher.py:1: SettingWithCopyWarning: \n",
            "A value is trying to be set on a copy of a slice from a DataFrame.\n",
            "Try using .loc[row_indexer,col_indexer] = value instead\n",
            "\n",
            "See the caveats in the documentation: http://pandas.pydata.org/pandas-docs/stable/user_guide/indexing.html#returning-a-view-versus-a-copy\n",
            "  \"\"\"Entry point for launching an IPython kernel.\n",
            "/usr/local/lib/python3.6/dist-packages/ipykernel_launcher.py:3: SettingWithCopyWarning: \n",
            "A value is trying to be set on a copy of a slice from a DataFrame.\n",
            "Try using .loc[row_indexer,col_indexer] = value instead\n",
            "\n",
            "See the caveats in the documentation: http://pandas.pydata.org/pandas-docs/stable/user_guide/indexing.html#returning-a-view-versus-a-copy\n",
            "  This is separate from the ipykernel package so we can avoid doing imports until\n",
            "/usr/local/lib/python3.6/dist-packages/ipykernel_launcher.py:5: SettingWithCopyWarning: \n",
            "A value is trying to be set on a copy of a slice from a DataFrame\n",
            "\n",
            "See the caveats in the documentation: http://pandas.pydata.org/pandas-docs/stable/user_guide/indexing.html#returning-a-view-versus-a-copy\n",
            "  \"\"\"\n",
            "/usr/local/lib/python3.6/dist-packages/pandas/core/generic.py:9114: SettingWithCopyWarning: \n",
            "A value is trying to be set on a copy of a slice from a DataFrame\n",
            "\n",
            "See the caveats in the documentation: http://pandas.pydata.org/pandas-docs/stable/user_guide/indexing.html#returning-a-view-versus-a-copy\n",
            "  self._update_inplace(new_data)\n",
            "/usr/local/lib/python3.6/dist-packages/IPython/core/interactiveshell.py:2882: SettingWithCopyWarning: \n",
            "A value is trying to be set on a copy of a slice from a DataFrame\n",
            "\n",
            "See the caveats in the documentation: http://pandas.pydata.org/pandas-docs/stable/user_guide/indexing.html#returning-a-view-versus-a-copy\n",
            "  exec(code_obj, self.user_global_ns, self.user_ns)\n",
            "/usr/local/lib/python3.6/dist-packages/ipykernel_launcher.py:7: SettingWithCopyWarning: \n",
            "A value is trying to be set on a copy of a slice from a DataFrame\n",
            "\n",
            "See the caveats in the documentation: http://pandas.pydata.org/pandas-docs/stable/user_guide/indexing.html#returning-a-view-versus-a-copy\n",
            "  import sys\n",
            "/usr/local/lib/python3.6/dist-packages/ipykernel_launcher.py:9: SettingWithCopyWarning: \n",
            "A value is trying to be set on a copy of a slice from a DataFrame.\n",
            "Try using .loc[row_indexer,col_indexer] = value instead\n",
            "\n",
            "See the caveats in the documentation: http://pandas.pydata.org/pandas-docs/stable/user_guide/indexing.html#returning-a-view-versus-a-copy\n",
            "  if __name__ == '__main__':\n",
            "/usr/local/lib/python3.6/dist-packages/ipykernel_launcher.py:12: SettingWithCopyWarning: \n",
            "A value is trying to be set on a copy of a slice from a DataFrame\n",
            "\n",
            "See the caveats in the documentation: http://pandas.pydata.org/pandas-docs/stable/user_guide/indexing.html#returning-a-view-versus-a-copy\n",
            "  if sys.path[0] == '':\n",
            "/usr/local/lib/python3.6/dist-packages/ipykernel_launcher.py:13: SettingWithCopyWarning: \n",
            "A value is trying to be set on a copy of a slice from a DataFrame\n",
            "\n",
            "See the caveats in the documentation: http://pandas.pydata.org/pandas-docs/stable/user_guide/indexing.html#returning-a-view-versus-a-copy\n",
            "  del sys.path[0]\n"
          ],
          "name": "stderr"
        }
      ]
    },
    {
      "cell_type": "code",
      "metadata": {
        "id": "3_pxPSrqbrel",
        "colab_type": "code",
        "colab": {}
      },
      "source": [
        "# cols=['Approximate_Mass_[kg/m]', 'Tensile_Strength(1770 Mpa)_[kN]','Tensile_Strength(1770 Mpa)_[Kg]',\n",
        "#  'Tensile_Strength(1960 Mpa)_[kN]','Tensile_Strength(1960 Mpa)_[Kg]']"
      ],
      "execution_count": null,
      "outputs": []
    },
    {
      "cell_type": "code",
      "metadata": {
        "id": "1p8U-oXLcNBS",
        "colab_type": "code",
        "colab": {
          "base_uri": "https://localhost:8080/",
          "height": 159
        },
        "outputId": "010cd00c-e86a-4f10-ea7e-7430632640f1"
      },
      "source": [
        "df_8mm['Target']=1\n",
        "df_8mm.head()\n",
        "df_8mm.shape"
      ],
      "execution_count": null,
      "outputs": [
        {
          "output_type": "stream",
          "text": [
            "/usr/local/lib/python3.6/dist-packages/ipykernel_launcher.py:1: SettingWithCopyWarning: \n",
            "A value is trying to be set on a copy of a slice from a DataFrame.\n",
            "Try using .loc[row_indexer,col_indexer] = value instead\n",
            "\n",
            "See the caveats in the documentation: http://pandas.pydata.org/pandas-docs/stable/user_guide/indexing.html#returning-a-view-versus-a-copy\n",
            "  \"\"\"Entry point for launching an IPython kernel.\n"
          ],
          "name": "stderr"
        },
        {
          "output_type": "execute_result",
          "data": {
            "text/plain": [
              "(174, 10)"
            ]
          },
          "metadata": {
            "tags": []
          },
          "execution_count": 135
        }
      ]
    },
    {
      "cell_type": "code",
      "metadata": {
        "id": "b1PtlwsSbmoc",
        "colab_type": "code",
        "colab": {}
      },
      "source": [
        "print(df_8mm.groupby('Rotation_Resistance_encoded')['Target'].count())\n",
        "print(df_8mm.groupby('Abrasion_Crush_Resistance_encoded')['Target'].count())\n",
        "print(df_8mm.groupby('Fatigue_Resistance_encoded')['Target'].count())"
      ],
      "execution_count": null,
      "outputs": []
    },
    {
      "cell_type": "code",
      "metadata": {
        "id": "fDRtr8E6d8SJ",
        "colab_type": "code",
        "colab": {}
      },
      "source": [
        "enc_nom_1 = (df_8mm.groupby('Rotation_Resistance_encoded').size()) / len(df_8mm)\n",
        "df_8mm['Rotation_Resistance_encoded'] = df_8mm['Rotation_Resistance_encoded'].apply(lambda x : enc_nom_1[x])\n",
        "df_8mm['Rotation_Resistance_encoded'] "
      ],
      "execution_count": null,
      "outputs": []
    },
    {
      "cell_type": "code",
      "metadata": {
        "id": "6k8qvCoigGE1",
        "colab_type": "code",
        "colab": {
          "base_uri": "https://localhost:8080/",
          "height": 453
        },
        "outputId": "70c80b20-3bd4-4b2c-eb06-7b81b026d275"
      },
      "source": [
        "enc_nom_1 = (df_8mm.groupby('Abrasion_Crush_Resistance_encoded').size()) / len(df_8mm)\n",
        "df_8mm['Abrasion_Crush_Resistance_encoded'] = df_8mm['Abrasion_Crush_Resistance_encoded'].apply(lambda x : enc_nom_1[x])\n",
        "enc_nom_1 = (df_8mm.groupby('Fatigue_Resistance_encoded').size()) / len(df_8mm)\n",
        "df_8mm['Fatigue_Resistance_encoded'] = df_8mm['Fatigue_Resistance_encoded'].apply(lambda x : enc_nom_1[x])\n",
        "df_8mm['Fatigue_Resistance_encoded'] "
      ],
      "execution_count": null,
      "outputs": [
        {
          "output_type": "stream",
          "text": [
            "/usr/local/lib/python3.6/dist-packages/ipykernel_launcher.py:2: SettingWithCopyWarning: \n",
            "A value is trying to be set on a copy of a slice from a DataFrame.\n",
            "Try using .loc[row_indexer,col_indexer] = value instead\n",
            "\n",
            "See the caveats in the documentation: http://pandas.pydata.org/pandas-docs/stable/user_guide/indexing.html#returning-a-view-versus-a-copy\n",
            "  \n",
            "/usr/local/lib/python3.6/dist-packages/ipykernel_launcher.py:4: SettingWithCopyWarning: \n",
            "A value is trying to be set on a copy of a slice from a DataFrame.\n",
            "Try using .loc[row_indexer,col_indexer] = value instead\n",
            "\n",
            "See the caveats in the documentation: http://pandas.pydata.org/pandas-docs/stable/user_guide/indexing.html#returning-a-view-versus-a-copy\n",
            "  after removing the cwd from sys.path.\n"
          ],
          "name": "stderr"
        },
        {
          "output_type": "execute_result",
          "data": {
            "text/plain": [
              "0      0.666667\n",
              "1      0.235632\n",
              "2      0.235632\n",
              "3      0.666667\n",
              "4      0.235632\n",
              "         ...   \n",
              "343    0.235632\n",
              "344    0.235632\n",
              "345    0.666667\n",
              "346    0.666667\n",
              "347    0.666667\n",
              "Name: Fatigue_Resistance_encoded, Length: 174, dtype: float64"
            ]
          },
          "metadata": {
            "tags": []
          },
          "execution_count": 141
        }
      ]
    },
    {
      "cell_type": "code",
      "metadata": {
        "id": "Ly8l9YLhqXSC",
        "colab_type": "code",
        "colab": {}
      },
      "source": [
        "df_8mm.to_csv(\"/content/drive/My Drive/df_8mm.csv\")"
      ],
      "execution_count": null,
      "outputs": []
    },
    {
      "cell_type": "code",
      "metadata": {
        "id": "OoylhKX81Nlq",
        "colab_type": "code",
        "colab": {
          "base_uri": "https://localhost:8080/",
          "height": 167
        },
        "outputId": "a23de392-1143-4ba5-e954-a52f091eda32"
      },
      "source": [
        "df_8mm.to_csv(\"/content/drive/My Drive/df_8mm_ctgan.csv\")"
      ],
      "execution_count": null,
      "outputs": [
        {
          "output_type": "error",
          "ename": "NameError",
          "evalue": "ignored",
          "traceback": [
            "\u001b[0;31m---------------------------------------------------------------------------\u001b[0m",
            "\u001b[0;31mNameError\u001b[0m                                 Traceback (most recent call last)",
            "\u001b[0;32m<ipython-input-3-8d7f8abee690>\u001b[0m in \u001b[0;36m<module>\u001b[0;34m()\u001b[0m\n\u001b[0;32m----> 1\u001b[0;31m \u001b[0mdf_8mm\u001b[0m\u001b[0;34m.\u001b[0m\u001b[0mto_csv\u001b[0m\u001b[0;34m(\u001b[0m\u001b[0;34m\"/content/drive/My Drive/df_8mm_ctgan.csv\"\u001b[0m\u001b[0;34m)\u001b[0m\u001b[0;34m\u001b[0m\u001b[0;34m\u001b[0m\u001b[0m\n\u001b[0m",
            "\u001b[0;31mNameError\u001b[0m: name 'df_8mm' is not defined"
          ]
        }
      ]
    },
    {
      "cell_type": "code",
      "metadata": {
        "id": "5H0rTqBmqaTz",
        "colab_type": "code",
        "colab": {}
      },
      "source": [
        "import pandas as pd\n",
        "import numpy as np\n",
        "df_8mm=pd.read_csv(\"/content/drive/My Drive/df_8mm.csv\")"
      ],
      "execution_count": null,
      "outputs": []
    },
    {
      "cell_type": "code",
      "metadata": {
        "id": "OI1lf5OPbqLr",
        "colab_type": "code",
        "colab": {}
      },
      "source": [
        "nominal_cols=['Approximate_Mass_[kg/m]',\n",
        "       'Tensile_Strength(1770 Mpa)_[kN]', 'Tensile_Strength(1770 Mpa)_[Kg]',\n",
        "       'Tensile_Strength(1960 Mpa)_[kN]', 'Tensile_Strength(1960 Mpa)_[Kg]']"
      ],
      "execution_count": null,
      "outputs": []
    },
    {
      "cell_type": "code",
      "metadata": {
        "id": "cJYItqkr9Cnv",
        "colab_type": "code",
        "colab": {}
      },
      "source": [
        "cols=['Nominal_Diameter_[mm]','Approximate_Mass_[kg/m]',\n",
        "       'Tensile_Strength(1770 Mpa)_[kN]', 'Tensile_Strength(1770 Mpa)_[Kg]',\n",
        "       'Tensile_Strength(1960 Mpa)_[kN]', 'Tensile_Strength(1960 Mpa)_[Kg]','Abrasion_Crush_Resistance_encoded','Fatigue_Resistance_encoded','Rotation_Resistance_encoded']"
      ],
      "execution_count": null,
      "outputs": []
    },
    {
      "cell_type": "code",
      "metadata": {
        "id": "2XjXqOhGbksb",
        "colab_type": "code",
        "colab": {}
      },
      "source": [
        "for feature_name in nominal_cols:\n",
        "        max_value = df_8mm[feature_name].max()\n",
        "        min_value = df_8mm[feature_name].min()\n",
        "        df_8mm[feature_name] = (df_8mm[feature_name] - min_value) / (max_value - min_value)"
      ],
      "execution_count": null,
      "outputs": []
    },
    {
      "cell_type": "code",
      "metadata": {
        "id": "UAx3pgNAcEEy",
        "colab_type": "code",
        "colab": {
          "base_uri": "https://localhost:8080/",
          "height": 239
        },
        "outputId": "21782e64-3d58-4b37-fda3-cb84d3f669b2"
      },
      "source": [
        "df_8mm.head()"
      ],
      "execution_count": null,
      "outputs": [
        {
          "output_type": "execute_result",
          "data": {
            "text/html": [
              "<div>\n",
              "<style scoped>\n",
              "    .dataframe tbody tr th:only-of-type {\n",
              "        vertical-align: middle;\n",
              "    }\n",
              "\n",
              "    .dataframe tbody tr th {\n",
              "        vertical-align: top;\n",
              "    }\n",
              "\n",
              "    .dataframe thead th {\n",
              "        text-align: right;\n",
              "    }\n",
              "</style>\n",
              "<table border=\"1\" class=\"dataframe\">\n",
              "  <thead>\n",
              "    <tr style=\"text-align: right;\">\n",
              "      <th></th>\n",
              "      <th>Unnamed: 0</th>\n",
              "      <th>Nominal_Diameter_[mm]</th>\n",
              "      <th>Approximate_Mass_[kg/m]</th>\n",
              "      <th>Tensile_Strength(1770 Mpa)_[kN]</th>\n",
              "      <th>Tensile_Strength(1770 Mpa)_[Kg]</th>\n",
              "      <th>Tensile_Strength(1960 Mpa)_[kN]</th>\n",
              "      <th>Tensile_Strength(1960 Mpa)_[Kg]</th>\n",
              "      <th>Abrasion_Crush_Resistance_encoded</th>\n",
              "      <th>Fatigue_Resistance_encoded</th>\n",
              "      <th>Rotation_Resistance_encoded</th>\n",
              "      <th>Target</th>\n",
              "    </tr>\n",
              "  </thead>\n",
              "  <tbody>\n",
              "    <tr>\n",
              "      <th>0</th>\n",
              "      <td>0</td>\n",
              "      <td>8.0</td>\n",
              "      <td>0.262</td>\n",
              "      <td>40.30</td>\n",
              "      <td>4113.0</td>\n",
              "      <td>44.70</td>\n",
              "      <td>4555.0</td>\n",
              "      <td>0.195402</td>\n",
              "      <td>0.666667</td>\n",
              "      <td>0.425287</td>\n",
              "      <td>1</td>\n",
              "    </tr>\n",
              "    <tr>\n",
              "      <th>1</th>\n",
              "      <td>1</td>\n",
              "      <td>8.0</td>\n",
              "      <td>0.244</td>\n",
              "      <td>41.00</td>\n",
              "      <td>4180.0</td>\n",
              "      <td>45.40</td>\n",
              "      <td>4630.0</td>\n",
              "      <td>0.195402</td>\n",
              "      <td>0.235632</td>\n",
              "      <td>0.425287</td>\n",
              "      <td>1</td>\n",
              "    </tr>\n",
              "    <tr>\n",
              "      <th>2</th>\n",
              "      <td>2</td>\n",
              "      <td>8.0</td>\n",
              "      <td>0.260</td>\n",
              "      <td>40.30</td>\n",
              "      <td>4110.0</td>\n",
              "      <td>44.70</td>\n",
              "      <td>4560.0</td>\n",
              "      <td>0.390805</td>\n",
              "      <td>0.235632</td>\n",
              "      <td>0.195402</td>\n",
              "      <td>1</td>\n",
              "    </tr>\n",
              "    <tr>\n",
              "      <th>3</th>\n",
              "      <td>3</td>\n",
              "      <td>8.0</td>\n",
              "      <td>0.267</td>\n",
              "      <td>40.30</td>\n",
              "      <td>4110.0</td>\n",
              "      <td>44.70</td>\n",
              "      <td>4560.0</td>\n",
              "      <td>0.195402</td>\n",
              "      <td>0.666667</td>\n",
              "      <td>0.040230</td>\n",
              "      <td>1</td>\n",
              "    </tr>\n",
              "    <tr>\n",
              "      <th>4</th>\n",
              "      <td>4</td>\n",
              "      <td>8.0</td>\n",
              "      <td>0.257</td>\n",
              "      <td>37.16</td>\n",
              "      <td>3789.0</td>\n",
              "      <td>41.14</td>\n",
              "      <td>4196.0</td>\n",
              "      <td>0.195402</td>\n",
              "      <td>0.235632</td>\n",
              "      <td>0.155172</td>\n",
              "      <td>1</td>\n",
              "    </tr>\n",
              "  </tbody>\n",
              "</table>\n",
              "</div>"
            ],
            "text/plain": [
              "   Unnamed: 0  Nominal_Diameter_[mm]  ...  Rotation_Resistance_encoded  Target\n",
              "0           0                    8.0  ...                     0.425287       1\n",
              "1           1                    8.0  ...                     0.425287       1\n",
              "2           2                    8.0  ...                     0.195402       1\n",
              "3           3                    8.0  ...                     0.040230       1\n",
              "4           4                    8.0  ...                     0.155172       1\n",
              "\n",
              "[5 rows x 11 columns]"
            ]
          },
          "metadata": {
            "tags": []
          },
          "execution_count": 8
        }
      ]
    },
    {
      "cell_type": "code",
      "metadata": {
        "id": "rgAccQdK9J-n",
        "colab_type": "code",
        "colab": {
          "base_uri": "https://localhost:8080/",
          "height": 362
        },
        "outputId": "92fd3ee6-378e-4e64-a013-761d00a9727d"
      },
      "source": [
        "df_8mm[cols].corr()"
      ],
      "execution_count": null,
      "outputs": [
        {
          "output_type": "execute_result",
          "data": {
            "text/html": [
              "<div>\n",
              "<style scoped>\n",
              "    .dataframe tbody tr th:only-of-type {\n",
              "        vertical-align: middle;\n",
              "    }\n",
              "\n",
              "    .dataframe tbody tr th {\n",
              "        vertical-align: top;\n",
              "    }\n",
              "\n",
              "    .dataframe thead th {\n",
              "        text-align: right;\n",
              "    }\n",
              "</style>\n",
              "<table border=\"1\" class=\"dataframe\">\n",
              "  <thead>\n",
              "    <tr style=\"text-align: right;\">\n",
              "      <th></th>\n",
              "      <th>Nominal_Diameter_[mm]</th>\n",
              "      <th>Approximate_Mass_[kg/m]</th>\n",
              "      <th>Tensile_Strength(1770 Mpa)_[kN]</th>\n",
              "      <th>Tensile_Strength(1770 Mpa)_[Kg]</th>\n",
              "      <th>Tensile_Strength(1960 Mpa)_[kN]</th>\n",
              "      <th>Tensile_Strength(1960 Mpa)_[Kg]</th>\n",
              "      <th>Abrasion_Crush_Resistance_encoded</th>\n",
              "      <th>Fatigue_Resistance_encoded</th>\n",
              "      <th>Rotation_Resistance_encoded</th>\n",
              "    </tr>\n",
              "  </thead>\n",
              "  <tbody>\n",
              "    <tr>\n",
              "      <th>Nominal_Diameter_[mm]</th>\n",
              "      <td>NaN</td>\n",
              "      <td>NaN</td>\n",
              "      <td>NaN</td>\n",
              "      <td>NaN</td>\n",
              "      <td>NaN</td>\n",
              "      <td>NaN</td>\n",
              "      <td>NaN</td>\n",
              "      <td>NaN</td>\n",
              "      <td>NaN</td>\n",
              "    </tr>\n",
              "    <tr>\n",
              "      <th>Approximate_Mass_[kg/m]</th>\n",
              "      <td>NaN</td>\n",
              "      <td>1.000000</td>\n",
              "      <td>0.961162</td>\n",
              "      <td>0.961525</td>\n",
              "      <td>0.961561</td>\n",
              "      <td>0.961789</td>\n",
              "      <td>0.459532</td>\n",
              "      <td>0.490784</td>\n",
              "      <td>-0.118387</td>\n",
              "    </tr>\n",
              "    <tr>\n",
              "      <th>Tensile_Strength(1770 Mpa)_[kN]</th>\n",
              "      <td>NaN</td>\n",
              "      <td>0.961162</td>\n",
              "      <td>1.000000</td>\n",
              "      <td>0.999991</td>\n",
              "      <td>0.999057</td>\n",
              "      <td>0.999056</td>\n",
              "      <td>0.488383</td>\n",
              "      <td>0.442030</td>\n",
              "      <td>-0.002533</td>\n",
              "    </tr>\n",
              "    <tr>\n",
              "      <th>Tensile_Strength(1770 Mpa)_[Kg]</th>\n",
              "      <td>NaN</td>\n",
              "      <td>0.961525</td>\n",
              "      <td>0.999991</td>\n",
              "      <td>1.000000</td>\n",
              "      <td>0.999045</td>\n",
              "      <td>0.999034</td>\n",
              "      <td>0.488459</td>\n",
              "      <td>0.442529</td>\n",
              "      <td>-0.001814</td>\n",
              "    </tr>\n",
              "    <tr>\n",
              "      <th>Tensile_Strength(1960 Mpa)_[kN]</th>\n",
              "      <td>NaN</td>\n",
              "      <td>0.961561</td>\n",
              "      <td>0.999057</td>\n",
              "      <td>0.999045</td>\n",
              "      <td>1.000000</td>\n",
              "      <td>0.999992</td>\n",
              "      <td>0.473663</td>\n",
              "      <td>0.439506</td>\n",
              "      <td>-0.007917</td>\n",
              "    </tr>\n",
              "    <tr>\n",
              "      <th>Tensile_Strength(1960 Mpa)_[Kg]</th>\n",
              "      <td>NaN</td>\n",
              "      <td>0.961789</td>\n",
              "      <td>0.999056</td>\n",
              "      <td>0.999034</td>\n",
              "      <td>0.999992</td>\n",
              "      <td>1.000000</td>\n",
              "      <td>0.473838</td>\n",
              "      <td>0.438932</td>\n",
              "      <td>-0.009068</td>\n",
              "    </tr>\n",
              "    <tr>\n",
              "      <th>Abrasion_Crush_Resistance_encoded</th>\n",
              "      <td>NaN</td>\n",
              "      <td>0.459532</td>\n",
              "      <td>0.488383</td>\n",
              "      <td>0.488459</td>\n",
              "      <td>0.473663</td>\n",
              "      <td>0.473838</td>\n",
              "      <td>1.000000</td>\n",
              "      <td>0.003605</td>\n",
              "      <td>-0.102706</td>\n",
              "    </tr>\n",
              "    <tr>\n",
              "      <th>Fatigue_Resistance_encoded</th>\n",
              "      <td>NaN</td>\n",
              "      <td>0.490784</td>\n",
              "      <td>0.442030</td>\n",
              "      <td>0.442529</td>\n",
              "      <td>0.439506</td>\n",
              "      <td>0.438932</td>\n",
              "      <td>0.003605</td>\n",
              "      <td>1.000000</td>\n",
              "      <td>-0.009337</td>\n",
              "    </tr>\n",
              "    <tr>\n",
              "      <th>Rotation_Resistance_encoded</th>\n",
              "      <td>NaN</td>\n",
              "      <td>-0.118387</td>\n",
              "      <td>-0.002533</td>\n",
              "      <td>-0.001814</td>\n",
              "      <td>-0.007917</td>\n",
              "      <td>-0.009068</td>\n",
              "      <td>-0.102706</td>\n",
              "      <td>-0.009337</td>\n",
              "      <td>1.000000</td>\n",
              "    </tr>\n",
              "  </tbody>\n",
              "</table>\n",
              "</div>"
            ],
            "text/plain": [
              "                                   Nominal_Diameter_[mm]  ...  Rotation_Resistance_encoded\n",
              "Nominal_Diameter_[mm]                                NaN  ...                          NaN\n",
              "Approximate_Mass_[kg/m]                              NaN  ...                    -0.118387\n",
              "Tensile_Strength(1770 Mpa)_[kN]                      NaN  ...                    -0.002533\n",
              "Tensile_Strength(1770 Mpa)_[Kg]                      NaN  ...                    -0.001814\n",
              "Tensile_Strength(1960 Mpa)_[kN]                      NaN  ...                    -0.007917\n",
              "Tensile_Strength(1960 Mpa)_[Kg]                      NaN  ...                    -0.009068\n",
              "Abrasion_Crush_Resistance_encoded                    NaN  ...                    -0.102706\n",
              "Fatigue_Resistance_encoded                           NaN  ...                    -0.009337\n",
              "Rotation_Resistance_encoded                          NaN  ...                     1.000000\n",
              "\n",
              "[9 rows x 9 columns]"
            ]
          },
          "metadata": {
            "tags": []
          },
          "execution_count": 21
        }
      ]
    },
    {
      "cell_type": "code",
      "metadata": {
        "id": "aeLLzaBE1pEC",
        "colab_type": "code",
        "colab": {}
      },
      "source": [
        "scale_factor=0.8\n",
        "sigma_col=[]\n",
        "mu=0\n",
        "df_noise=pd.DataFrame(columns=cols)\n",
        "for x in cols:\n",
        "  sigma=df_8mm[x].std()\n",
        "  sigma_col.append(sigma)\n",
        "  noise= scale_factor*np.random.normal(mu,sigma, size=df_8mm[x].shape)\n",
        "  df_noise[x]=df_8mm[x]+noise\n",
        "  #print(df_noise[x])\n"
      ],
      "execution_count": null,
      "outputs": []
    },
    {
      "cell_type": "code",
      "metadata": {
        "id": "seBvHs076--0",
        "colab_type": "code",
        "colab": {}
      },
      "source": [
        "# df_noise['Fatigue_Resistance_encoded']=df_noise['Fatigue_Resistance_encoded'].astype(int)\n",
        "# print(df_noise['Fatigue_Resistance_encoded'].unique())\n",
        "# df_noise['Fatigue_Resistance_encoded'][df_noise['Fatigue_Resistance_encoded'] >= 2] = 2\n",
        "# df_noise['Fatigue_Resistance_encoded'][df_noise['Fatigue_Resistance_encoded'] <=-1] = 0\n",
        "# print(df_noise['Fatigue_Resistance_encoded'].unique())\n",
        "\n",
        "# df_noise['Abrasion_Crush_Resistance_encoded']=df_noise['Abrasion_Crush_Resistance_encoded'].astype(int)\n",
        "# print(df_noise['Abrasion_Crush_Resistance_encoded'].unique())\n",
        "# df_noise['Abrasion_Crush_Resistance_encoded'][df_noise['Abrasion_Crush_Resistance_encoded'] >= 4] = 3\n",
        "# df_noise['Abrasion_Crush_Resistance_encoded'][df_noise['Abrasion_Crush_Resistance_encoded'] <=-1] = 0\n",
        "# print(df_noise['Abrasion_Crush_Resistance_encoded'].unique())\n",
        "\n",
        "# df_noise['Rotation_Resistance_encoded']=df_noise['Rotation_Resistance_encoded'].astype(int)\n",
        "# print(df_noise['Rotation_Resistance_encoded'].unique())\n",
        "# df_noise['Rotation_Resistance_encoded'][df_noise['Rotation_Resistance_encoded'] >= 4] = 3\n",
        "# df_noise['Rotation_Resistance_encoded'][df_noise['Rotation_Resistance_encoded'] <=-1] = 0\n",
        "# print(df_noise['Rotation_Resistance_encoded'].unique())"
      ],
      "execution_count": null,
      "outputs": []
    },
    {
      "cell_type": "code",
      "metadata": {
        "id": "abgF7AtclU8-",
        "colab_type": "code",
        "colab": {
          "base_uri": "https://localhost:8080/",
          "height": 453
        },
        "outputId": "250611c9-a0ac-4f11-9406-26328de90363"
      },
      "source": [
        "df_noise['Target']=0\n",
        "df_noise=df_noise.sample(n = 20) \n",
        "frames=[df_8mm,df_noise]\n",
        "df_8mm=pd.concat(frames)\n",
        "df_8mm"
      ],
      "execution_count": null,
      "outputs": [
        {
          "output_type": "execute_result",
          "data": {
            "text/html": [
              "<div>\n",
              "<style scoped>\n",
              "    .dataframe tbody tr th:only-of-type {\n",
              "        vertical-align: middle;\n",
              "    }\n",
              "\n",
              "    .dataframe tbody tr th {\n",
              "        vertical-align: top;\n",
              "    }\n",
              "\n",
              "    .dataframe thead th {\n",
              "        text-align: right;\n",
              "    }\n",
              "</style>\n",
              "<table border=\"1\" class=\"dataframe\">\n",
              "  <thead>\n",
              "    <tr style=\"text-align: right;\">\n",
              "      <th></th>\n",
              "      <th>Unnamed: 0</th>\n",
              "      <th>Nominal_Diameter_[mm]</th>\n",
              "      <th>Approximate_Mass_[kg/m]</th>\n",
              "      <th>Tensile_Strength(1770 Mpa)_[kN]</th>\n",
              "      <th>Tensile_Strength(1770 Mpa)_[Kg]</th>\n",
              "      <th>Tensile_Strength(1960 Mpa)_[kN]</th>\n",
              "      <th>Tensile_Strength(1960 Mpa)_[Kg]</th>\n",
              "      <th>Abrasion_Crush_Resistance_encoded</th>\n",
              "      <th>Fatigue_Resistance_encoded</th>\n",
              "      <th>Rotation_Resistance_encoded</th>\n",
              "      <th>Target</th>\n",
              "    </tr>\n",
              "  </thead>\n",
              "  <tbody>\n",
              "    <tr>\n",
              "      <th>0</th>\n",
              "      <td>0.0</td>\n",
              "      <td>8.0</td>\n",
              "      <td>0.262000</td>\n",
              "      <td>40.300000</td>\n",
              "      <td>4113.000000</td>\n",
              "      <td>44.700000</td>\n",
              "      <td>4555.000000</td>\n",
              "      <td>0.195402</td>\n",
              "      <td>0.666667</td>\n",
              "      <td>0.425287</td>\n",
              "      <td>1</td>\n",
              "    </tr>\n",
              "    <tr>\n",
              "      <th>1</th>\n",
              "      <td>1.0</td>\n",
              "      <td>8.0</td>\n",
              "      <td>0.244000</td>\n",
              "      <td>41.000000</td>\n",
              "      <td>4180.000000</td>\n",
              "      <td>45.400000</td>\n",
              "      <td>4630.000000</td>\n",
              "      <td>0.195402</td>\n",
              "      <td>0.235632</td>\n",
              "      <td>0.425287</td>\n",
              "      <td>1</td>\n",
              "    </tr>\n",
              "    <tr>\n",
              "      <th>2</th>\n",
              "      <td>2.0</td>\n",
              "      <td>8.0</td>\n",
              "      <td>0.260000</td>\n",
              "      <td>40.300000</td>\n",
              "      <td>4110.000000</td>\n",
              "      <td>44.700000</td>\n",
              "      <td>4560.000000</td>\n",
              "      <td>0.390805</td>\n",
              "      <td>0.235632</td>\n",
              "      <td>0.195402</td>\n",
              "      <td>1</td>\n",
              "    </tr>\n",
              "    <tr>\n",
              "      <th>3</th>\n",
              "      <td>3.0</td>\n",
              "      <td>8.0</td>\n",
              "      <td>0.267000</td>\n",
              "      <td>40.300000</td>\n",
              "      <td>4110.000000</td>\n",
              "      <td>44.700000</td>\n",
              "      <td>4560.000000</td>\n",
              "      <td>0.195402</td>\n",
              "      <td>0.666667</td>\n",
              "      <td>0.040230</td>\n",
              "      <td>1</td>\n",
              "    </tr>\n",
              "    <tr>\n",
              "      <th>4</th>\n",
              "      <td>4.0</td>\n",
              "      <td>8.0</td>\n",
              "      <td>0.257000</td>\n",
              "      <td>37.160000</td>\n",
              "      <td>3789.000000</td>\n",
              "      <td>41.140000</td>\n",
              "      <td>4196.000000</td>\n",
              "      <td>0.195402</td>\n",
              "      <td>0.235632</td>\n",
              "      <td>0.155172</td>\n",
              "      <td>1</td>\n",
              "    </tr>\n",
              "    <tr>\n",
              "      <th>...</th>\n",
              "      <td>...</td>\n",
              "      <td>...</td>\n",
              "      <td>...</td>\n",
              "      <td>...</td>\n",
              "      <td>...</td>\n",
              "      <td>...</td>\n",
              "      <td>...</td>\n",
              "      <td>...</td>\n",
              "      <td>...</td>\n",
              "      <td>...</td>\n",
              "      <td>...</td>\n",
              "    </tr>\n",
              "    <tr>\n",
              "      <th>124</th>\n",
              "      <td>NaN</td>\n",
              "      <td>8.0</td>\n",
              "      <td>0.229423</td>\n",
              "      <td>31.866576</td>\n",
              "      <td>3146.193482</td>\n",
              "      <td>41.943686</td>\n",
              "      <td>2430.396846</td>\n",
              "      <td>0.039171</td>\n",
              "      <td>0.095418</td>\n",
              "      <td>0.207066</td>\n",
              "      <td>0</td>\n",
              "    </tr>\n",
              "    <tr>\n",
              "      <th>52</th>\n",
              "      <td>NaN</td>\n",
              "      <td>8.0</td>\n",
              "      <td>0.269069</td>\n",
              "      <td>41.554686</td>\n",
              "      <td>4842.672998</td>\n",
              "      <td>50.554048</td>\n",
              "      <td>5186.536913</td>\n",
              "      <td>0.027767</td>\n",
              "      <td>-0.159685</td>\n",
              "      <td>0.432869</td>\n",
              "      <td>0</td>\n",
              "    </tr>\n",
              "    <tr>\n",
              "      <th>159</th>\n",
              "      <td>NaN</td>\n",
              "      <td>8.0</td>\n",
              "      <td>0.250405</td>\n",
              "      <td>38.008094</td>\n",
              "      <td>3982.384212</td>\n",
              "      <td>41.831521</td>\n",
              "      <td>4144.221394</td>\n",
              "      <td>0.234062</td>\n",
              "      <td>0.567813</td>\n",
              "      <td>0.156777</td>\n",
              "      <td>0</td>\n",
              "    </tr>\n",
              "    <tr>\n",
              "      <th>54</th>\n",
              "      <td>NaN</td>\n",
              "      <td>8.0</td>\n",
              "      <td>0.283825</td>\n",
              "      <td>37.898094</td>\n",
              "      <td>4441.830433</td>\n",
              "      <td>38.524177</td>\n",
              "      <td>4514.753942</td>\n",
              "      <td>0.287961</td>\n",
              "      <td>0.050487</td>\n",
              "      <td>0.237414</td>\n",
              "      <td>0</td>\n",
              "    </tr>\n",
              "    <tr>\n",
              "      <th>53</th>\n",
              "      <td>NaN</td>\n",
              "      <td>8.0</td>\n",
              "      <td>0.318458</td>\n",
              "      <td>46.614259</td>\n",
              "      <td>4986.046821</td>\n",
              "      <td>54.591944</td>\n",
              "      <td>5427.110677</td>\n",
              "      <td>0.499897</td>\n",
              "      <td>0.694932</td>\n",
              "      <td>0.097377</td>\n",
              "      <td>0</td>\n",
              "    </tr>\n",
              "  </tbody>\n",
              "</table>\n",
              "<p>194 rows × 11 columns</p>\n",
              "</div>"
            ],
            "text/plain": [
              "     Unnamed: 0  Nominal_Diameter_[mm]  ...  Rotation_Resistance_encoded  Target\n",
              "0           0.0                    8.0  ...                     0.425287       1\n",
              "1           1.0                    8.0  ...                     0.425287       1\n",
              "2           2.0                    8.0  ...                     0.195402       1\n",
              "3           3.0                    8.0  ...                     0.040230       1\n",
              "4           4.0                    8.0  ...                     0.155172       1\n",
              "..          ...                    ...  ...                          ...     ...\n",
              "124         NaN                    8.0  ...                     0.207066       0\n",
              "52          NaN                    8.0  ...                     0.432869       0\n",
              "159         NaN                    8.0  ...                     0.156777       0\n",
              "54          NaN                    8.0  ...                     0.237414       0\n",
              "53          NaN                    8.0  ...                     0.097377       0\n",
              "\n",
              "[194 rows x 11 columns]"
            ]
          },
          "metadata": {
            "tags": []
          },
          "execution_count": 30
        }
      ]
    },
    {
      "cell_type": "code",
      "metadata": {
        "id": "khlgWqlgwbRD",
        "colab_type": "code",
        "colab": {
          "base_uri": "https://localhost:8080/",
          "height": 542
        },
        "outputId": "e2b99342-2420-4868-dce6-da6893f9147f"
      },
      "source": [
        "import plotly.express as px\n",
        "\n",
        "fig = px.scatter_3d(df_8mm, x='Approximate_Mass_[kg/m]', y='Tensile_Strength(1770 Mpa)_[Kg]', z='Tensile_Strength(1770 Mpa)_[kN]',\n",
        "              color='Target')\n",
        "fig.update_layout(margin=dict(l=0, r=0, b=0, t=0),)\n",
        "fig.show()"
      ],
      "execution_count": null,
      "outputs": [
        {
          "output_type": "display_data",
          "data": {
            "text/html": [
              "<html>\n",
              "<head><meta charset=\"utf-8\" /></head>\n",
              "<body>\n",
              "    <div>\n",
              "            <script src=\"https://cdnjs.cloudflare.com/ajax/libs/mathjax/2.7.5/MathJax.js?config=TeX-AMS-MML_SVG\"></script><script type=\"text/javascript\">if (window.MathJax) {MathJax.Hub.Config({SVG: {font: \"STIX-Web\"}});}</script>\n",
              "                <script type=\"text/javascript\">window.PlotlyConfig = {MathJaxConfig: 'local'};</script>\n",
              "        <script src=\"https://cdn.plot.ly/plotly-latest.min.js\"></script>    \n",
              "            <div id=\"6c80a02b-a043-4dc7-a868-1e043556e313\" class=\"plotly-graph-div\" style=\"height:525px; width:100%;\"></div>\n",
              "            <script type=\"text/javascript\">\n",
              "                \n",
              "                    window.PLOTLYENV=window.PLOTLYENV || {};\n",
              "                    \n",
              "                if (document.getElementById(\"6c80a02b-a043-4dc7-a868-1e043556e313\")) {\n",
              "                    Plotly.newPlot(\n",
              "                        '6c80a02b-a043-4dc7-a868-1e043556e313',\n",
              "                        [{\"hoverlabel\": {\"namelength\": 0}, \"hovertemplate\": \"Approximate_Mass_[kg/m]=%{x}<br>Tensile_Strength(1770 Mpa)_[Kg]=%{y}<br>Tensile_Strength(1770 Mpa)_[kN]=%{z}<br>Target=%{marker.color}\", \"legendgroup\": \"\", \"marker\": {\"color\": [1, 1, 1, 1, 1, 1, 1, 1, 1, 1, 1, 1, 1, 1, 1, 1, 1, 1, 1, 1, 1, 1, 1, 1, 1, 1, 1, 1, 1, 1, 1, 1, 1, 1, 1, 1, 1, 1, 1, 1, 1, 1, 1, 1, 1, 1, 1, 1, 1, 1, 1, 1, 1, 1, 1, 1, 1, 1, 1, 1, 1, 1, 1, 1, 1, 1, 1, 1, 1, 1, 1, 1, 1, 1, 1, 1, 1, 1, 1, 1, 1, 1, 1, 1, 1, 1, 1, 1, 1, 1, 1, 1, 1, 1, 1, 1, 1, 1, 1, 1, 1, 1, 1, 1, 1, 1, 1, 1, 1, 1, 1, 1, 1, 1, 1, 1, 1, 1, 1, 1, 1, 1, 1, 1, 1, 1, 1, 1, 1, 1, 1, 1, 1, 1, 1, 1, 1, 1, 1, 1, 1, 1, 1, 1, 1, 1, 1, 1, 1, 1, 1, 1, 1, 1, 1, 1, 1, 1, 1, 1, 1, 1, 1, 1, 1, 1, 1, 1, 1, 1, 1, 1, 1, 1, 0, 0, 0, 0, 0, 0, 0, 0, 0, 0, 0, 0, 0, 0, 0, 0, 0, 0, 0, 0], \"coloraxis\": \"coloraxis\", \"symbol\": \"circle\"}, \"mode\": \"markers\", \"name\": \"\", \"scene\": \"scene\", \"showlegend\": false, \"type\": \"scatter3d\", \"x\": [0.262, 0.244, 0.26, 0.267, 0.257, 0.221, 0.235, 0.262, 0.218, 0.223, 0.235, 0.244, 0.317, 0.3, 0.34, 0.2710142110944224, 0.29544625736832714, 0.30290992693739593, 0.2799723022935469, 0.277756771054237, 0.2918394946551953, 0.2660686904368805, 0.3024271911350589, 0.2948937915786858, 0.3254384636919978, 0.28568669913812345, 0.2814964093740903, 0.2930171906614719, 0.2973777124243507, 0.3118691671370074, 0.2620324731326539, 0.26972385235823176, 0.2688378111730521, 0.2928412860686034, 0.286194601021287, 0.2997855608351924, 0.28805929840006983, 0.2913701291128221, 0.2583373928992255, 0.2633667789517435, 0.2602433280049308, 0.3186888598195797, 0.3080667571184826, 0.2671082765443033, 0.27711696815617753, 0.3235594584653465, 0.2672363278322737, 0.2691591218691217, 0.26739393589357746, 0.3017635051325088, 0.28220537293031106, 0.2667314634761763, 0.2710400735904301, 0.3088903348397176, 0.26645080550815226, 0.2764840230447068, 0.33317158670785657, 0.2673170088885368, 0.2948069348711257, 0.2758604664113188, 0.2696486605233951, 0.3065021607950527, 0.26954128916430503, 0.31639836327036536, 0.2846358574904799, 0.2688201410319729, 0.2994620260007673, 0.2830670501568022, 0.2862377000389922, 0.3217878680893773, 0.2795994713152795, 0.2856301957253019, 0.3362728127294842, 0.2879608462905808, 0.32825157260749444, 0.29920715421977273, 0.33414215252076634, 0.2858897657384157, 0.2655254184120284, 0.28964465758102764, 0.2841960569830913, 0.2734851587985374, 0.2976988549173936, 0.3190755834946614, 0.2889170469739477, 0.2631000943521356, 0.27079345674046434, 0.2738705436128209, 0.33765918671915923, 0.29422988139497835, 0.2828714721898131, 0.2715439767900343, 0.272822477852463, 0.2991098995249953, 0.3398070590526505, 0.2825669110512382, 0.3318462043883583, 0.26397504689177104, 0.2822938497683874, 0.25625096472141706, 0.2999032395947423, 0.27503396325822355, 0.3304370889648389, 0.2852193174275774, 0.3271682283754235, 0.29365154218989586, 0.2442716095501185, 0.2783304254826376, 0.2338360521676655, 0.237182856596896, 0.26960759059690004, 0.2314017149233877, 0.24253509382313004, 0.25958290099365705, 0.2481000973181779, 0.2405453873078369, 0.2639895347067016, 0.26763304362891466, 0.2598094552589583, 0.262, 0.2182830164089119, 0.2567136451921686, 0.2100815016937448, 0.2424814045401497, 0.2053534754514498, 0.23518280960359705, 0.262, 0.22340058112363886, 0.21734878245923886, 0.237718827266966, 0.2566331198833529, 0.262, 0.23777958636880586, 0.2438309277995897, 0.235, 0.2245069383166671, 0.23163244999277546, 0.2156087536784484, 0.2284089298156023, 0.2689813395398304, 0.2591269266182709, 0.2693679694939378, 0.26197532003924584, 0.25861829663200503, 0.2188071512811476, 0.2700420770373048, 0.26130003281747066, 0.22473727737258986, 0.2347766949236036, 0.2365424275777753, 0.22370582348333667, 0.22369957008836092, 0.23181669912363745, 0.21876712443832, 0.267194021881044, 0.1985188675862775, 0.2605748889490289, 0.24451561354575715, 0.26452135976308155, 0.23271361789395295, 0.219840014661242, 0.21911964437243167, 0.2582772950183599, 0.22225758733375225, 0.2303155224387045, 0.262, 0.235, 0.2391513175451625, 0.2628319012399118, 0.2254736241532053, 0.22020669969298395, 0.23147649609017276, 0.2746410247584131, 0.2681823879850317, 0.2731449803943219, 0.30509924396019333, 0.31134529037649206, 0.20607250061254906, 0.21243362689719134, 0.3012067751304468, 0.36191130428935103, 0.24016968662344435, 0.24639034477155522, 0.21291131833081414, 0.18194890321066443, 0.36808611805380875, 0.2967683817225756, 0.23945191357353923, 0.2354540674507413, 0.22942334188723526, 0.26906949749654513, 0.2504049298118556, 0.2838247673262979, 0.31845789238955863], \"y\": [4113.0, 4180.0, 4110.0, 4110.0, 3789.0, 3547.0, 3810.0, 4110.0, 3390.0, 3390.0, 3813.0, 3789.0, 6062.0, 4997.0, 5506.0, 4354.240131018814, 4890.706060150164, 5034.028820278363, 4529.511371957266, 4399.128967427522, 4816.040793978957, 4244.573210437824, 5027.886007193624, 4883.769828257357, 5320.704450480672, 4662.897424618829, 4565.087239863636, 4842.15620291814, 4935.790287378924, 5148.035151818419, 4110.7579912806295, 4183.213849750047, 4305.978462762429, 4804.582446753066, 4690.86527764704, 4991.994538442517, 4676.0484145715745, 4765.0395310022195, 4389.1723214047715, 4462.5474714924, 4115.395798509339, 5234.815741204151, 5099.649484332691, 4112.910342266576, 4381.931841046348, 5296.794108971534, 4116.352205673537, 4168.034578724572, 4120.588519321309, 5019.440602811173, 4602.404144729648, 4511.635815357787, 4574.495359346097, 5110.129510835406, 4253.0466121432755, 4364.91904365621, 5419.108440857473, 4520.178504677403, 4857.416703960257, 4461.705842670995, 4554.195636564532, 5079.739996117046, 4321.578087218464, 5205.6691726153995, 4638.368568264622, 4269.196449877894, 4982.539910990322, 4621.511837227089, 4691.820998364651, 5274.250621437325, 4448.65851686827, 4678.349590208571, 5458.5715419826865, 4673.4021412043985, 5356.501261430367, 4975.689266452679, 5431.4588908267515, 4684.105555249368, 4232.52615328673, 4845.922950780349, 4628.102698526368, 4284.313207706142, 4935.148009446306, 5239.736799969567, 4738.300543839253, 4135.678518166955, 4211.963519054299, 4387.083478541371, 5476.213151001301, 4912.818091066023, 4597.18410085169, 4232.136588265467, 4600.499364383255, 4984.014069855736, 5503.544826444977, 4610.421252561207, 5402.242950841859, 4156.10175244739, 4521.080143774534, 4358.732824596389, 4994.8543380134115, 4632.763356820869, 5384.311957077573, 4651.987751533187, 5342.715706077263, 4856.222948060941, 4183.962589329407, 4680.856386059195, 3816.1038608862254, 3666.291418744128, 4110.0, 3818.395998512096, 3789.0, 4110.0, 3779.4331062575848, 3726.816971541065, 4135.105941185573, 4110.0, 4110.0, 4113.850336764835, 3518.412607432899, 3770.4442084525263, 3473.6034280523954, 3761.665281722694, 3195.924488658787, 3630.2905728647465, 4109.895443859938, 3358.5543817943444, 3508.5828415276433, 3864.6577180723543, 3765.226168441268, 4113.000819700229, 3789.0, 4180.739690876795, 3813.111864695509, 3390.0, 3816.673690916972, 3510.758844171792, 3816.2914760851063, 4087.013902823965, 4108.6903899274075, 4108.579218303637, 4110.0, 4110.0, 3523.9274178277265, 4083.065602138921, 4113.419980309518, 3819.796235235255, 3813.243605537887, 4209.0016705308735, 3683.254241313, 3335.0837480636665, 3813.038605381983, 3505.053837662725, 4109.883586871374, 3190.6930299211467, 4113.855066630583, 3787.796901726567, 3780.794880258457, 3819.0970189494587, 3525.2088468504744, 3316.2732430762017, 3797.586260956753, 3612.8137371330326, 3757.4297518121284, 4109.2575680420005, 3814.4073543083364, 4201.212985739914, 4110.0, 3390.0, 3538.6531011174843, 3818.2215091229305, 4086.744707257004, 4109.290567208981, 5480.688908976312, 4525.6809120923745, 4775.292396886966, 4281.127054767927, 3681.6011775309403, 4373.4946475688985, 5432.941884497125, 3731.6288891745894, 4633.4398076739, 4193.746549054615, 4046.3764097834437, 5724.583596561573, 4260.108807567042, 4736.924766680942, 3824.7027624371813, 3146.1934819530393, 4842.672997555025, 3982.3842116419382, 4441.830433144843, 4986.046820870455], \"z\": [40.3, 41.0, 40.3, 40.3, 37.16, 34.8, 37.4, 40.3, 33.2, 33.2, 37.4, 37.2, 59.5, 49.0, 54.0, 42.69559091303686, 47.95743260801174, 49.36374086717449, 44.414711314575214, 43.13587600520794, 47.22509008750498, 41.61994017002149, 49.30339889188236, 47.889399668364156, 52.179807961499726, 45.723007434254576, 44.76365161985752, 47.481238968870144, 48.399634160311884, 50.48364589212592, 40.30743463826549, 41.01810653080655, 42.222223930138824, 47.112702690813606, 45.99732572212993, 48.95090471753089, 45.8519968509275, 46.724852220653105, 43.04819898560364, 43.76668270739193, 40.35292384107244, 51.33610747744746, 50.008344639810325, 40.32854563440722, 42.96720069571953, 51.94493230816832, 40.36230461032669, 40.86922303822298, 40.4038558264886, 49.220438141563605, 45.129668612342655, 44.24735192516805, 44.86286765577574, 50.111291854964705, 41.70305019802312, 42.80033334814998, 53.146448338482074, 44.331001269790974, 47.630919193296776, 43.74965144446183, 44.66409436048502, 49.8127700993816, 42.37523039323634, 51.049795408795674, 45.482420004399344, 41.86145334153064, 48.858170491111395, 45.317083409104484, 46.0066997584808, 51.72348351117215, 43.621678801300966, 45.874567570253156, 53.53410159118553, 45.82604129478947, 52.53144657593681, 48.79097702157645, 53.267769065095784, 45.9310240481054, 41.50177850461617, 47.52066536871824, 45.38172883560247, 42.009723683250776, 48.39333447822194, 51.38444793683268, 46.462587070351184, 40.55186370693631, 41.300093140667855, 43.01772972188267, 53.707398339894894, 48.175697342139756, 45.07846863293089, 41.49795751737268, 45.11749683606615, 48.87284278928505, 53.975882381581314, 45.208303153644316, 52.98077554854479, 40.75218178837913, 44.33201493893849, 42.7501378173453, 48.97895461185646, 45.43342332260337, 52.80463612060486, 45.61600162157692, 52.39602854692793, 47.619210426302345, 41.03880136430264, 45.90434649751965, 37.42586550738521, 36.02593641390987, 40.3, 37.47996189059138, 37.204507403621136, 40.3, 37.10888672626272, 36.605038925238595, 40.51369076479387, 40.3, 40.3, 40.3, 34.51648866875602, 36.98016918068189, 34.08423177770104, 36.938464115247996, 31.254380838684586, 35.681483876175044, 40.3, 32.879535101088855, 34.41900338705101, 37.904925063865115, 36.92959928674561, 40.3, 37.21913973424984, 41.00739690876795, 37.4, 33.2, 37.436736909169724, 34.446573852253835, 37.471902583829795, 40.028503462339934, 40.3, 40.3, 40.3, 40.3, 34.57118100325017, 39.98725255966037, 40.3, 37.511956974117204, 37.402436055378864, 41.290016705308744, 36.18692178154357, 32.640343929311264, 37.43472691865123, 34.385323109973704, 40.3, 31.22191578568357, 40.3, 37.1885419212054, 37.077948802584565, 37.450808491245496, 34.58457415137351, 32.46088464236794, 37.24373378453692, 35.47071324466785, 36.89685241008308, 40.3, 37.4, 41.21212985739914, 40.3, 33.2, 34.71722083752877, 37.47830008688505, 40.06744707257003, 40.3, 48.05931749212794, 49.69767557961807, 40.0885143742011, 40.19742544581813, 36.53315387830273, 42.5871537380481, 52.475967550440906, 33.72904960412628, 50.092015268945886, 34.325011855624346, 34.30973170481664, 49.77618164705516, 35.90073278620059, 45.49720333420079, 42.74538140195566, 31.86657645571834, 41.5546858916953, 38.00809422332478, 37.89809380319201, 46.614259422186706]}],\n",
              "                        {\"coloraxis\": {\"colorbar\": {\"title\": {\"text\": \"Target\"}}, \"colorscale\": [[0.0, \"#0d0887\"], [0.1111111111111111, \"#46039f\"], [0.2222222222222222, \"#7201a8\"], [0.3333333333333333, \"#9c179e\"], [0.4444444444444444, \"#bd3786\"], [0.5555555555555556, \"#d8576b\"], [0.6666666666666666, \"#ed7953\"], [0.7777777777777778, \"#fb9f3a\"], [0.8888888888888888, \"#fdca26\"], [1.0, \"#f0f921\"]]}, \"legend\": {\"tracegroupgap\": 0}, \"margin\": {\"b\": 0, \"l\": 0, \"r\": 0, \"t\": 0}, \"scene\": {\"domain\": {\"x\": [0.0, 1.0], \"y\": [0.0, 1.0]}, \"xaxis\": {\"title\": {\"text\": \"Approximate_Mass_[kg/m]\"}}, \"yaxis\": {\"title\": {\"text\": \"Tensile_Strength(1770 Mpa)_[Kg]\"}}, \"zaxis\": {\"title\": {\"text\": \"Tensile_Strength(1770 Mpa)_[kN]\"}}}, \"template\": {\"data\": {\"bar\": [{\"error_x\": {\"color\": \"#2a3f5f\"}, \"error_y\": {\"color\": \"#2a3f5f\"}, \"marker\": {\"line\": {\"color\": \"#E5ECF6\", \"width\": 0.5}}, \"type\": \"bar\"}], \"barpolar\": [{\"marker\": {\"line\": {\"color\": \"#E5ECF6\", \"width\": 0.5}}, \"type\": \"barpolar\"}], \"carpet\": [{\"aaxis\": {\"endlinecolor\": \"#2a3f5f\", \"gridcolor\": \"white\", \"linecolor\": \"white\", \"minorgridcolor\": \"white\", \"startlinecolor\": \"#2a3f5f\"}, \"baxis\": {\"endlinecolor\": \"#2a3f5f\", \"gridcolor\": \"white\", \"linecolor\": \"white\", \"minorgridcolor\": \"white\", \"startlinecolor\": \"#2a3f5f\"}, \"type\": \"carpet\"}], \"choropleth\": [{\"colorbar\": {\"outlinewidth\": 0, \"ticks\": \"\"}, \"type\": \"choropleth\"}], \"contour\": [{\"colorbar\": {\"outlinewidth\": 0, \"ticks\": \"\"}, \"colorscale\": [[0.0, \"#0d0887\"], [0.1111111111111111, \"#46039f\"], [0.2222222222222222, \"#7201a8\"], [0.3333333333333333, \"#9c179e\"], [0.4444444444444444, \"#bd3786\"], [0.5555555555555556, \"#d8576b\"], [0.6666666666666666, \"#ed7953\"], [0.7777777777777778, \"#fb9f3a\"], [0.8888888888888888, \"#fdca26\"], [1.0, \"#f0f921\"]], \"type\": \"contour\"}], \"contourcarpet\": [{\"colorbar\": {\"outlinewidth\": 0, \"ticks\": \"\"}, \"type\": \"contourcarpet\"}], \"heatmap\": [{\"colorbar\": {\"outlinewidth\": 0, \"ticks\": \"\"}, \"colorscale\": [[0.0, \"#0d0887\"], [0.1111111111111111, \"#46039f\"], [0.2222222222222222, \"#7201a8\"], [0.3333333333333333, \"#9c179e\"], [0.4444444444444444, \"#bd3786\"], [0.5555555555555556, \"#d8576b\"], [0.6666666666666666, \"#ed7953\"], [0.7777777777777778, \"#fb9f3a\"], [0.8888888888888888, \"#fdca26\"], [1.0, \"#f0f921\"]], \"type\": \"heatmap\"}], \"heatmapgl\": [{\"colorbar\": {\"outlinewidth\": 0, \"ticks\": \"\"}, \"colorscale\": [[0.0, \"#0d0887\"], [0.1111111111111111, \"#46039f\"], [0.2222222222222222, \"#7201a8\"], [0.3333333333333333, \"#9c179e\"], [0.4444444444444444, \"#bd3786\"], [0.5555555555555556, \"#d8576b\"], [0.6666666666666666, \"#ed7953\"], [0.7777777777777778, \"#fb9f3a\"], [0.8888888888888888, \"#fdca26\"], [1.0, \"#f0f921\"]], \"type\": \"heatmapgl\"}], \"histogram\": [{\"marker\": {\"colorbar\": {\"outlinewidth\": 0, \"ticks\": \"\"}}, \"type\": \"histogram\"}], \"histogram2d\": [{\"colorbar\": {\"outlinewidth\": 0, \"ticks\": \"\"}, \"colorscale\": [[0.0, \"#0d0887\"], [0.1111111111111111, \"#46039f\"], [0.2222222222222222, \"#7201a8\"], [0.3333333333333333, \"#9c179e\"], [0.4444444444444444, \"#bd3786\"], [0.5555555555555556, \"#d8576b\"], [0.6666666666666666, \"#ed7953\"], [0.7777777777777778, \"#fb9f3a\"], [0.8888888888888888, \"#fdca26\"], [1.0, \"#f0f921\"]], \"type\": \"histogram2d\"}], \"histogram2dcontour\": [{\"colorbar\": {\"outlinewidth\": 0, \"ticks\": \"\"}, \"colorscale\": [[0.0, \"#0d0887\"], [0.1111111111111111, \"#46039f\"], [0.2222222222222222, \"#7201a8\"], [0.3333333333333333, \"#9c179e\"], [0.4444444444444444, \"#bd3786\"], [0.5555555555555556, \"#d8576b\"], [0.6666666666666666, \"#ed7953\"], [0.7777777777777778, \"#fb9f3a\"], [0.8888888888888888, \"#fdca26\"], [1.0, \"#f0f921\"]], \"type\": \"histogram2dcontour\"}], \"mesh3d\": [{\"colorbar\": {\"outlinewidth\": 0, \"ticks\": \"\"}, \"type\": \"mesh3d\"}], \"parcoords\": [{\"line\": {\"colorbar\": {\"outlinewidth\": 0, \"ticks\": \"\"}}, \"type\": \"parcoords\"}], \"pie\": [{\"automargin\": true, \"type\": \"pie\"}], \"scatter\": [{\"marker\": {\"colorbar\": {\"outlinewidth\": 0, \"ticks\": \"\"}}, \"type\": \"scatter\"}], \"scatter3d\": [{\"line\": {\"colorbar\": {\"outlinewidth\": 0, \"ticks\": \"\"}}, \"marker\": {\"colorbar\": {\"outlinewidth\": 0, \"ticks\": \"\"}}, \"type\": \"scatter3d\"}], \"scattercarpet\": [{\"marker\": {\"colorbar\": {\"outlinewidth\": 0, \"ticks\": \"\"}}, \"type\": \"scattercarpet\"}], \"scattergeo\": [{\"marker\": {\"colorbar\": {\"outlinewidth\": 0, \"ticks\": \"\"}}, \"type\": \"scattergeo\"}], \"scattergl\": [{\"marker\": {\"colorbar\": {\"outlinewidth\": 0, \"ticks\": \"\"}}, \"type\": \"scattergl\"}], \"scattermapbox\": [{\"marker\": {\"colorbar\": {\"outlinewidth\": 0, \"ticks\": \"\"}}, \"type\": \"scattermapbox\"}], \"scatterpolar\": [{\"marker\": {\"colorbar\": {\"outlinewidth\": 0, \"ticks\": \"\"}}, \"type\": \"scatterpolar\"}], \"scatterpolargl\": [{\"marker\": {\"colorbar\": {\"outlinewidth\": 0, \"ticks\": \"\"}}, \"type\": \"scatterpolargl\"}], \"scatterternary\": [{\"marker\": {\"colorbar\": {\"outlinewidth\": 0, \"ticks\": \"\"}}, \"type\": \"scatterternary\"}], \"surface\": [{\"colorbar\": {\"outlinewidth\": 0, \"ticks\": \"\"}, \"colorscale\": [[0.0, \"#0d0887\"], [0.1111111111111111, \"#46039f\"], [0.2222222222222222, \"#7201a8\"], [0.3333333333333333, \"#9c179e\"], [0.4444444444444444, \"#bd3786\"], [0.5555555555555556, \"#d8576b\"], [0.6666666666666666, \"#ed7953\"], [0.7777777777777778, \"#fb9f3a\"], [0.8888888888888888, \"#fdca26\"], [1.0, \"#f0f921\"]], \"type\": \"surface\"}], \"table\": [{\"cells\": {\"fill\": {\"color\": \"#EBF0F8\"}, \"line\": {\"color\": \"white\"}}, \"header\": {\"fill\": {\"color\": \"#C8D4E3\"}, \"line\": {\"color\": \"white\"}}, \"type\": \"table\"}]}, \"layout\": {\"annotationdefaults\": {\"arrowcolor\": \"#2a3f5f\", \"arrowhead\": 0, \"arrowwidth\": 1}, \"coloraxis\": {\"colorbar\": {\"outlinewidth\": 0, \"ticks\": \"\"}}, \"colorscale\": {\"diverging\": [[0, \"#8e0152\"], [0.1, \"#c51b7d\"], [0.2, \"#de77ae\"], [0.3, \"#f1b6da\"], [0.4, \"#fde0ef\"], [0.5, \"#f7f7f7\"], [0.6, \"#e6f5d0\"], [0.7, \"#b8e186\"], [0.8, \"#7fbc41\"], [0.9, \"#4d9221\"], [1, \"#276419\"]], \"sequential\": [[0.0, \"#0d0887\"], [0.1111111111111111, \"#46039f\"], [0.2222222222222222, \"#7201a8\"], [0.3333333333333333, \"#9c179e\"], [0.4444444444444444, \"#bd3786\"], [0.5555555555555556, \"#d8576b\"], [0.6666666666666666, \"#ed7953\"], [0.7777777777777778, \"#fb9f3a\"], [0.8888888888888888, \"#fdca26\"], [1.0, \"#f0f921\"]], \"sequentialminus\": [[0.0, \"#0d0887\"], [0.1111111111111111, \"#46039f\"], [0.2222222222222222, \"#7201a8\"], [0.3333333333333333, \"#9c179e\"], [0.4444444444444444, \"#bd3786\"], [0.5555555555555556, \"#d8576b\"], [0.6666666666666666, \"#ed7953\"], [0.7777777777777778, \"#fb9f3a\"], [0.8888888888888888, \"#fdca26\"], [1.0, \"#f0f921\"]]}, \"colorway\": [\"#636efa\", \"#EF553B\", \"#00cc96\", \"#ab63fa\", \"#FFA15A\", \"#19d3f3\", \"#FF6692\", \"#B6E880\", \"#FF97FF\", \"#FECB52\"], \"font\": {\"color\": \"#2a3f5f\"}, \"geo\": {\"bgcolor\": \"white\", \"lakecolor\": \"white\", \"landcolor\": \"#E5ECF6\", \"showlakes\": true, \"showland\": true, \"subunitcolor\": \"white\"}, \"hoverlabel\": {\"align\": \"left\"}, \"hovermode\": \"closest\", \"mapbox\": {\"style\": \"light\"}, \"paper_bgcolor\": \"white\", \"plot_bgcolor\": \"#E5ECF6\", \"polar\": {\"angularaxis\": {\"gridcolor\": \"white\", \"linecolor\": \"white\", \"ticks\": \"\"}, \"bgcolor\": \"#E5ECF6\", \"radialaxis\": {\"gridcolor\": \"white\", \"linecolor\": \"white\", \"ticks\": \"\"}}, \"scene\": {\"xaxis\": {\"backgroundcolor\": \"#E5ECF6\", \"gridcolor\": \"white\", \"gridwidth\": 2, \"linecolor\": \"white\", \"showbackground\": true, \"ticks\": \"\", \"zerolinecolor\": \"white\"}, \"yaxis\": {\"backgroundcolor\": \"#E5ECF6\", \"gridcolor\": \"white\", \"gridwidth\": 2, \"linecolor\": \"white\", \"showbackground\": true, \"ticks\": \"\", \"zerolinecolor\": \"white\"}, \"zaxis\": {\"backgroundcolor\": \"#E5ECF6\", \"gridcolor\": \"white\", \"gridwidth\": 2, \"linecolor\": \"white\", \"showbackground\": true, \"ticks\": \"\", \"zerolinecolor\": \"white\"}}, \"shapedefaults\": {\"line\": {\"color\": \"#2a3f5f\"}}, \"ternary\": {\"aaxis\": {\"gridcolor\": \"white\", \"linecolor\": \"white\", \"ticks\": \"\"}, \"baxis\": {\"gridcolor\": \"white\", \"linecolor\": \"white\", \"ticks\": \"\"}, \"bgcolor\": \"#E5ECF6\", \"caxis\": {\"gridcolor\": \"white\", \"linecolor\": \"white\", \"ticks\": \"\"}}, \"title\": {\"x\": 0.05}, \"xaxis\": {\"automargin\": true, \"gridcolor\": \"white\", \"linecolor\": \"white\", \"ticks\": \"\", \"title\": {\"standoff\": 15}, \"zerolinecolor\": \"white\", \"zerolinewidth\": 2}, \"yaxis\": {\"automargin\": true, \"gridcolor\": \"white\", \"linecolor\": \"white\", \"ticks\": \"\", \"title\": {\"standoff\": 15}, \"zerolinecolor\": \"white\", \"zerolinewidth\": 2}}}},\n",
              "                        {\"responsive\": true}\n",
              "                    ).then(function(){\n",
              "                            \n",
              "var gd = document.getElementById('6c80a02b-a043-4dc7-a868-1e043556e313');\n",
              "var x = new MutationObserver(function (mutations, observer) {{\n",
              "        var display = window.getComputedStyle(gd).display;\n",
              "        if (!display || display === 'none') {{\n",
              "            console.log([gd, 'removed!']);\n",
              "            Plotly.purge(gd);\n",
              "            observer.disconnect();\n",
              "        }}\n",
              "}});\n",
              "\n",
              "// Listen for the removal of the full notebook cells\n",
              "var notebookContainer = gd.closest('#notebook-container');\n",
              "if (notebookContainer) {{\n",
              "    x.observe(notebookContainer, {childList: true});\n",
              "}}\n",
              "\n",
              "// Listen for the clearing of the current output cell\n",
              "var outputEl = gd.closest('.output');\n",
              "if (outputEl) {{\n",
              "    x.observe(outputEl, {childList: true});\n",
              "}}\n",
              "\n",
              "                        })\n",
              "                };\n",
              "                \n",
              "            </script>\n",
              "        </div>\n",
              "</body>\n",
              "</html>"
            ]
          },
          "metadata": {
            "tags": []
          }
        }
      ]
    },
    {
      "cell_type": "code",
      "metadata": {
        "id": "n3LGZrIdD_mg",
        "colab_type": "code",
        "colab": {}
      },
      "source": [
        "g = sns.jointplot('Approximate_Mass_[kg/m]','Tensile_Strength(1770 Mpa)_[Kg]' , kind='reg', scatter = False ,data=df_8mm)\n",
        "g.ax_joint.scatter('Approximate_Mass_[kg/m]','Tensile_Strength(1770 Mpa)_[Kg]' , c='Target',data=df_8mm)"
      ],
      "execution_count": null,
      "outputs": []
    },
    {
      "cell_type": "code",
      "metadata": {
        "id": "XfhLgQaYHRb9",
        "colab_type": "code",
        "colab": {}
      },
      "source": [
        "g = sns.jointplot('Approximate_Mass_[kg/m]','Tensile_Strength(1770 Mpa)_[kN]' , kind='reg', scatter = False ,data=df_8mm)\n",
        "g.ax_joint.scatter('Approximate_Mass_[kg/m]','Tensile_Strength(1770 Mpa)_[kN]' , c='Target',data=df_8mm)"
      ],
      "execution_count": null,
      "outputs": []
    },
    {
      "cell_type": "code",
      "metadata": {
        "id": "RxNJI2MPuZGK",
        "colab_type": "code",
        "colab": {}
      },
      "source": [
        "g = sns.jointplot('Tensile_Strength(1770 Mpa)_[kN]','Tensile_Strength(1770 Mpa)_[Kg]' , kind='reg', scatter = False ,data=df_8mm)\n",
        "g.ax_joint.scatter('Tensile_Strength(1770 Mpa)_[kN]','Tensile_Strength(1770 Mpa)_[Kg]' , c='Target',data=df_8mm)"
      ],
      "execution_count": null,
      "outputs": []
    },
    {
      "cell_type": "code",
      "metadata": {
        "id": "PVRrfIwPzF5k",
        "colab_type": "code",
        "colab": {}
      },
      "source": [
        "import plotly.express as px\n",
        "\n",
        "fig = px.scatter_3d(df_8mm, x='Approximate_Mass_[kg/m]', y='Tensile_Strength(1960 Mpa)_[Kg]', z='Tensile_Strength(1960 Mpa)_[kN]',\n",
        "              color='Target')\n",
        "fig.update_layout(margin=dict(l=0, r=0, b=0, t=0))\n",
        "fig.show()"
      ],
      "execution_count": null,
      "outputs": []
    },
    {
      "cell_type": "code",
      "metadata": {
        "id": "CXHsmbi_HpPZ",
        "colab_type": "code",
        "colab": {}
      },
      "source": [
        "g = sns.jointplot('Tensile_Strength(1960 Mpa)_[kN]','Tensile_Strength(1960 Mpa)_[Kg]' , kind='reg', scatter = False ,data=df_8mm)\n",
        "g.ax_joint.scatter('Tensile_Strength(1960 Mpa)_[kN]','Tensile_Strength(1960 Mpa)_[Kg]' , c='Target',data=df_8mm)"
      ],
      "execution_count": null,
      "outputs": []
    },
    {
      "cell_type": "code",
      "metadata": {
        "id": "jUYsY3RiziON",
        "colab_type": "code",
        "colab": {}
      },
      "source": [
        "g = sns.jointplot('Approximate_Mass_[kg/m]','Tensile_Strength(1960 Mpa)_[kN]' , kind='reg', scatter = False ,data=df_8mm)\n",
        "g.ax_joint.scatter('Approximate_Mass_[kg/m]','Tensile_Strength(1960 Mpa)_[kN]' , c='Target',data=df_8mm)"
      ],
      "execution_count": null,
      "outputs": []
    },
    {
      "cell_type": "code",
      "metadata": {
        "id": "mu_bNQPtH1Wp",
        "colab_type": "code",
        "colab": {}
      },
      "source": [
        "g = sns.jointplot('Approximate_Mass_[kg/m]','Tensile_Strength(1960 Mpa)_[Kg]' , kind='reg', scatter = False ,data=df_8mm)\n",
        "g.ax_joint.scatter('Approximate_Mass_[kg/m]','Tensile_Strength(1960 Mpa)_[Kg]' , c='Target',data=df_8mm)"
      ],
      "execution_count": null,
      "outputs": []
    },
    {
      "cell_type": "code",
      "metadata": {
        "id": "X6IdZMzoyaAz",
        "colab_type": "code",
        "colab": {}
      },
      "source": [
        "from sklearn.model_selection import KFold, StratifiedKFold, train_test_split, cross_validate, cross_val_score\n",
        "from sklearn.svm import OneClassSVM \n",
        "from sklearn.metrics import confusion_matrix\n",
        "from sklearn.metrics import accuracy_score, classification_report\n",
        "from statistics import mean\n",
        "from sklearn.ensemble import IsolationForest\n",
        "from sklearn.metrics import f1_score\n",
        "from sklearn.metrics import precision_recall_fscore_support\n",
        "from sklearn.model_selection import learning_curve, GridSearchCV\n",
        "from sklearn import svm\n",
        "import pandas as pd"
      ],
      "execution_count": null,
      "outputs": []
    },
    {
      "cell_type": "code",
      "metadata": {
        "id": "UW9SM8GWhFv4",
        "colab_type": "code",
        "colab": {
          "base_uri": "https://localhost:8080/",
          "height": 139
        },
        "outputId": "0122b666-59ce-4693-890a-a529463e64a1"
      },
      "source": [
        "df_8mm.columns"
      ],
      "execution_count": null,
      "outputs": [
        {
          "output_type": "execute_result",
          "data": {
            "text/plain": [
              "Index(['Abrasion_Crush_Resistance_encoded', 'Approximate_Mass_[kg/m]',\n",
              "       'Fatigue_Resistance_encoded', 'Nominal_Diameter_[mm]',\n",
              "       'Rotation_Resistance_encoded', 'Target',\n",
              "       'Tensile_Strength(1770 Mpa)_[Kg]', 'Tensile_Strength(1770 Mpa)_[kN]',\n",
              "       'Tensile_Strength(1960 Mpa)_[Kg]', 'Tensile_Strength(1960 Mpa)_[kN]',\n",
              "       'Unnamed: 0', 'Unnamed: 0.1'],\n",
              "      dtype='object')"
            ]
          },
          "metadata": {
            "tags": []
          },
          "execution_count": 31
        }
      ]
    },
    {
      "cell_type": "code",
      "metadata": {
        "id": "JSx2OM6Ak-2u",
        "colab_type": "code",
        "colab": {}
      },
      "source": [
        "cols=['Approximate_Mass_[kg/m]',\n",
        "       'Tensile_Strength(1770 Mpa)_[kN]', 'Tensile_Strength(1770 Mpa)_[Kg]',\n",
        "       'Tensile_Strength(1960 Mpa)_[kN]', 'Tensile_Strength(1960 Mpa)_[Kg]',\n",
        "       'Abrasion_Crush_Resistance_encoded', 'Fatigue_Resistance_encoded']"
      ],
      "execution_count": null,
      "outputs": []
    },
    {
      "cell_type": "code",
      "metadata": {
        "id": "lqAOdrMChHxK",
        "colab_type": "code",
        "colab": {
          "base_uri": "https://localhost:8080/",
          "height": 301
        },
        "outputId": "de0e7906-6409-466e-b093-51d60856fd77"
      },
      "source": [
        "df_8mm[cols].corr()"
      ],
      "execution_count": null,
      "outputs": [
        {
          "output_type": "execute_result",
          "data": {
            "text/html": [
              "<div>\n",
              "<style scoped>\n",
              "    .dataframe tbody tr th:only-of-type {\n",
              "        vertical-align: middle;\n",
              "    }\n",
              "\n",
              "    .dataframe tbody tr th {\n",
              "        vertical-align: top;\n",
              "    }\n",
              "\n",
              "    .dataframe thead th {\n",
              "        text-align: right;\n",
              "    }\n",
              "</style>\n",
              "<table border=\"1\" class=\"dataframe\">\n",
              "  <thead>\n",
              "    <tr style=\"text-align: right;\">\n",
              "      <th></th>\n",
              "      <th>Approximate_Mass_[kg/m]</th>\n",
              "      <th>Tensile_Strength(1770 Mpa)_[kN]</th>\n",
              "      <th>Tensile_Strength(1770 Mpa)_[Kg]</th>\n",
              "      <th>Tensile_Strength(1960 Mpa)_[kN]</th>\n",
              "      <th>Tensile_Strength(1960 Mpa)_[Kg]</th>\n",
              "      <th>Abrasion_Crush_Resistance_encoded</th>\n",
              "      <th>Fatigue_Resistance_encoded</th>\n",
              "    </tr>\n",
              "  </thead>\n",
              "  <tbody>\n",
              "    <tr>\n",
              "      <th>Approximate_Mass_[kg/m]</th>\n",
              "      <td>1.000000</td>\n",
              "      <td>0.833071</td>\n",
              "      <td>0.831129</td>\n",
              "      <td>0.812797</td>\n",
              "      <td>0.830538</td>\n",
              "      <td>0.405350</td>\n",
              "      <td>0.420349</td>\n",
              "    </tr>\n",
              "    <tr>\n",
              "      <th>Tensile_Strength(1770 Mpa)_[kN]</th>\n",
              "      <td>0.833071</td>\n",
              "      <td>1.000000</td>\n",
              "      <td>0.865474</td>\n",
              "      <td>0.860641</td>\n",
              "      <td>0.851676</td>\n",
              "      <td>0.474206</td>\n",
              "      <td>0.374711</td>\n",
              "    </tr>\n",
              "    <tr>\n",
              "      <th>Tensile_Strength(1770 Mpa)_[Kg]</th>\n",
              "      <td>0.831129</td>\n",
              "      <td>0.865474</td>\n",
              "      <td>1.000000</td>\n",
              "      <td>0.833396</td>\n",
              "      <td>0.843834</td>\n",
              "      <td>0.458543</td>\n",
              "      <td>0.400425</td>\n",
              "    </tr>\n",
              "    <tr>\n",
              "      <th>Tensile_Strength(1960 Mpa)_[kN]</th>\n",
              "      <td>0.812797</td>\n",
              "      <td>0.860641</td>\n",
              "      <td>0.833396</td>\n",
              "      <td>1.000000</td>\n",
              "      <td>0.820867</td>\n",
              "      <td>0.415240</td>\n",
              "      <td>0.358243</td>\n",
              "    </tr>\n",
              "    <tr>\n",
              "      <th>Tensile_Strength(1960 Mpa)_[Kg]</th>\n",
              "      <td>0.830538</td>\n",
              "      <td>0.851676</td>\n",
              "      <td>0.843834</td>\n",
              "      <td>0.820867</td>\n",
              "      <td>1.000000</td>\n",
              "      <td>0.419869</td>\n",
              "      <td>0.295751</td>\n",
              "    </tr>\n",
              "    <tr>\n",
              "      <th>Abrasion_Crush_Resistance_encoded</th>\n",
              "      <td>0.405350</td>\n",
              "      <td>0.474206</td>\n",
              "      <td>0.458543</td>\n",
              "      <td>0.415240</td>\n",
              "      <td>0.419869</td>\n",
              "      <td>1.000000</td>\n",
              "      <td>-0.039482</td>\n",
              "    </tr>\n",
              "    <tr>\n",
              "      <th>Fatigue_Resistance_encoded</th>\n",
              "      <td>0.420349</td>\n",
              "      <td>0.374711</td>\n",
              "      <td>0.400425</td>\n",
              "      <td>0.358243</td>\n",
              "      <td>0.295751</td>\n",
              "      <td>-0.039482</td>\n",
              "      <td>1.000000</td>\n",
              "    </tr>\n",
              "  </tbody>\n",
              "</table>\n",
              "</div>"
            ],
            "text/plain": [
              "                                   Approximate_Mass_[kg/m]  ...  Fatigue_Resistance_encoded\n",
              "Approximate_Mass_[kg/m]                           1.000000  ...                    0.420349\n",
              "Tensile_Strength(1770 Mpa)_[kN]                   0.833071  ...                    0.374711\n",
              "Tensile_Strength(1770 Mpa)_[Kg]                   0.831129  ...                    0.400425\n",
              "Tensile_Strength(1960 Mpa)_[kN]                   0.812797  ...                    0.358243\n",
              "Tensile_Strength(1960 Mpa)_[Kg]                   0.830538  ...                    0.295751\n",
              "Abrasion_Crush_Resistance_encoded                 0.405350  ...                   -0.039482\n",
              "Fatigue_Resistance_encoded                        0.420349  ...                    1.000000\n",
              "\n",
              "[7 rows x 7 columns]"
            ]
          },
          "metadata": {
            "tags": []
          },
          "execution_count": 153
        }
      ]
    },
    {
      "cell_type": "code",
      "metadata": {
        "id": "Hj9Zs_MC5G7Y",
        "colab_type": "code",
        "colab": {}
      },
      "source": [
        "# nus = [0.9,0.8, 0.7, 0.6, 0.5]\n",
        "# gammas = [0.00001,0.0001,0.001, 0.01]\n",
        "# tuned_parameters = {'kernel' : ['rbf'], 'gamma' : gammas, 'nu': nus}\n",
        "# X_train=df_8mm[cols]\n",
        "# y_train = df_8mm.loc[:,'Target']\n",
        "# print(X_train)\n",
        "# print(y_train)\n",
        "# y_target=np.full(y_train.shape, 1)"
      ],
      "execution_count": null,
      "outputs": []
    },
    {
      "cell_type": "code",
      "metadata": {
        "id": "sW0CjB6b77r2",
        "colab_type": "code",
        "colab": {}
      },
      "source": [
        "# scores = ['precision', 'recall','f1']\n",
        "# for score in scores:\n",
        "#     clf = GridSearchCV(OneClassSVM(), tuned_parameters, cv=4,\n",
        "#                            scoring='%s_macro' % score, return_train_score=True)\n",
        "\n",
        "#     clf.fit(X_train,y_target)\n",
        "\n",
        "#     resultDf = pd.DataFrame(clf.cv_results_)\n",
        "#     #print(resultDf[[\"mean_test_score\", \"std_test_score\", \"params\"]].sort_values(by=[\"mean_test_score\"], ascending=False).head())\n",
        "\n",
        "#     print(\"Best parameters set found on development set:\")\n",
        "#     print(clf.best_params_)\n",
        "#     print(clf.best_params_['gamma'])\n",
        "#     #print(resultDf['params'])\n",
        "# svm = OneClassSVM(kernel=clf.best_params_['kernel'], nu=clf.best_params_['nu'], gamma=clf.best_params_['gamma'])  #20% outliers if nu=0.8\n",
        "# svm.fit(X_train)\n",
        "# y_pred=clf.predict(X_test)\n",
        "# y_pred"
      ],
      "execution_count": null,
      "outputs": []
    },
    {
      "cell_type": "code",
      "metadata": {
        "id": "SmGMx9EWyfj-",
        "colab_type": "code",
        "colab": {}
      },
      "source": [
        "kf4 = KFold(n_splits=5, shuffle=True)\n",
        "skf = StratifiedKFold(n_splits=5, random_state=None, shuffle=True)"
      ],
      "execution_count": null,
      "outputs": []
    },
    {
      "cell_type": "code",
      "metadata": {
        "id": "-lIw1DJFMN1X",
        "colab_type": "code",
        "colab": {}
      },
      "source": [
        "import warnings\n",
        "warnings.filterwarnings('ignore') "
      ],
      "execution_count": null,
      "outputs": []
    },
    {
      "cell_type": "code",
      "metadata": {
        "id": "GQEFjVRnypvj",
        "colab_type": "code",
        "colab": {
          "base_uri": "https://localhost:8080/",
          "height": 297
        },
        "outputId": "ec1da00a-ee75-4b40-e10e-6b5114417dc2"
      },
      "source": [
        "i=0\n",
        "avg_score=[]\n",
        "f1_score=[]\n",
        "for train_index, test_index in kf4.split(df_8mm):\n",
        "  X_train = df_8mm.iloc[train_index].loc[:, cols]\n",
        "  X_test =df_8mm.iloc[test_index][cols]\n",
        "  y_train = df_8mm.iloc[train_index].loc[:,'Target']\n",
        "  m,n=X_train.shape\n",
        "  y_test = df_8mm.iloc[test_index]['Target']\n",
        "  train_normal = y_train[y_train==1] \n",
        "  train_outliers = y_train[y_train==0] \n",
        "  outlier_prop = len(train_outliers) / len(train_normal) \n",
        " \n",
        "  svm = OneClassSVM(kernel='rbf', nu=outlier_prop, gamma=0.1)  #20% outliers if nu=0.8\n",
        "  svm.fit(X_train)\n",
        "  y_pred=svm.predict(X_test)\n",
        "  for i in range(len(y_pred)):\n",
        "    if y_pred[i]==-1:\n",
        "      y_pred[i]=0\n",
        "  y_test=y_test.tolist()\n",
        "  # print(y_test)\n",
        "  # print(y_pred)\n",
        "  #print(f\"Accuracy for the fold no. {i} on the test set: {confusion_matrix(y_test, y_pred)}\")\n",
        "  print(f\"Precison_recall_fscore for the fold no. {i} on the test set: {precision_recall_fscore_support(y_test, y_pred, average='weighted')}\")\n",
        "  a,b,c,d=precision_recall_fscore_support(y_test, y_pred, average='weighted')\n",
        "  i =i+1\n",
        "  score=accuracy_score(y_test,y_pred)\n",
        "  print(score)  \n",
        "  print(c)\n",
        "  avg_score.append(score)\n",
        "  f1_score.append(c)\n",
        "\n",
        "  "
      ],
      "execution_count": null,
      "outputs": [
        {
          "output_type": "stream",
          "text": [
            "Precison_recall_fscore for the fold no. 41 on the test set: (0.7503607503607503, 0.7380952380952381, 0.7438438061791882, None)\n",
            "0.7380952380952381\n",
            "0.7438438061791882\n",
            "Precison_recall_fscore for the fold no. 41 on the test set: (0.7785714285714287, 0.7142857142857143, 0.7415966386554622, None)\n",
            "0.7142857142857143\n",
            "0.7415966386554622\n",
            "Precison_recall_fscore for the fold no. 41 on the test set: (0.8504504504504504, 0.8333333333333334, 0.8414814814814814, None)\n",
            "0.8333333333333334\n",
            "0.8414814814814814\n",
            "Precison_recall_fscore for the fold no. 40 on the test set: (0.655210643015521, 0.6829268292682927, 0.6581748253079721, None)\n",
            "0.6829268292682927\n",
            "0.6581748253079721\n",
            "Precison_recall_fscore for the fold no. 40 on the test set: (0.8827628612420578, 0.8048780487804879, 0.8384823848238483, None)\n",
            "0.8048780487804879\n",
            "0.8384823848238483\n"
          ],
          "name": "stdout"
        }
      ]
    },
    {
      "cell_type": "code",
      "metadata": {
        "id": "Ur1u5XsqB1lY",
        "colab_type": "code",
        "colab": {
          "base_uri": "https://localhost:8080/",
          "height": 52
        },
        "outputId": "386ad342-6ddd-4849-f0c1-d3c01fc2b63b"
      },
      "source": [
        "print(mean(avg_score))\n",
        "print(mean(f1_score))"
      ],
      "execution_count": null,
      "outputs": [
        {
          "output_type": "stream",
          "text": [
            "0.7547038327526133\n",
            "0.7647158272895904\n"
          ],
          "name": "stdout"
        }
      ]
    },
    {
      "cell_type": "code",
      "metadata": {
        "id": "j9EYVFLnIOXX",
        "colab_type": "code",
        "colab": {
          "base_uri": "https://localhost:8080/",
          "height": 211
        },
        "outputId": "4fe97f65-2ad6-467f-87f0-2bd24fa890ad"
      },
      "source": [
        "i=0\n",
        "avg_score=[]\n",
        "for train_index, test_index in kf4.split(df_8mm):\n",
        "  X_train = df_8mm.iloc[train_index].loc[:, cols]\n",
        "  X_test =df_8mm.iloc[test_index][cols]\n",
        "  y_train = df_8mm.iloc[train_index].loc[:,'Target']\n",
        "  y_test = df_8mm.iloc[test_index]['Target']\n",
        "  train_normal = y_train[y_train==1] \n",
        "  train_outliers = y_train[y_train==0] \n",
        "  outlier_prop = len(train_outliers) / len(train_normal) \n",
        "  model=IsolationForest(n_estimators=70, max_samples='auto', contamination=float(outlier_prop),max_features=6)\n",
        "  model.fit(X_train)\n",
        "  y_pred=model.predict(X_test)\n",
        "  # print(X_train.shape)\n",
        "  for i in range(len(y_pred)):\n",
        "    if y_pred[i]==-1:\n",
        "      y_pred[i]=0\n",
        "  \n",
        "  #y_test= np.full(y_pred.shape, 1)\n",
        "  y_test=y_test.to_list()\n",
        "  # print(f\"Predicted values: {y_pred}\")\n",
        "  # print(f\"Actual values: {y_test}\")\n",
        "  #print(f\"Accuracy for the fold no. {i} on the test set: {confusion_matrix(y_test, y_pred)}\")\n",
        "  a,b,c,d=precision_recall_fscore_support(y_test, y_pred, average='weighted')\n",
        "  print(f\"Precison_recall_fscore for the fold no. {i} on the test set: {precision_recall_fscore_support(y_test, y_pred, average='weighted')}\")\n",
        "  i =i+1\n",
        "  score=accuracy_score(y_test,y_pred)\n",
        "  print(score)  \n",
        "  avg_score.append(score)\n",
        "  f1_score.append(c)"
      ],
      "execution_count": null,
      "outputs": [
        {
          "output_type": "stream",
          "text": [
            "Precison_recall_fscore for the fold no. 41 on the test set: (0.9480519480519481, 0.9285714285714286, 0.9325621746674377, None)\n",
            "0.9285714285714286\n",
            "Precison_recall_fscore for the fold no. 41 on the test set: (0.9342105263157895, 0.9285714285714286, 0.9202988792029888, None)\n",
            "0.9285714285714286\n",
            "Precison_recall_fscore for the fold no. 41 on the test set: (0.8816326530612246, 0.8571428571428571, 0.8670634920634922, None)\n",
            "0.8571428571428571\n",
            "Precison_recall_fscore for the fold no. 40 on the test set: (0.9512195121951219, 0.926829268292683, 0.9325081907535495, None)\n",
            "0.926829268292683\n",
            "Precison_recall_fscore for the fold no. 40 on the test set: (0.9024390243902439, 0.9024390243902439, 0.9024390243902439, None)\n",
            "0.9024390243902439\n"
          ],
          "name": "stdout"
        }
      ]
    },
    {
      "cell_type": "code",
      "metadata": {
        "id": "QoFRm76ZJZA8",
        "colab_type": "code",
        "colab": {
          "base_uri": "https://localhost:8080/",
          "height": 52
        },
        "outputId": "bb5e0edc-3d60-4c1e-c5a4-c26627e285b6"
      },
      "source": [
        "print(mean(avg_score))\n",
        "print(mean(f1_score))"
      ],
      "execution_count": null,
      "outputs": [
        {
          "output_type": "stream",
          "text": [
            "0.9087108013937283\n",
            "0.8378450897525664\n"
          ],
          "name": "stdout"
        }
      ]
    },
    {
      "cell_type": "code",
      "metadata": {
        "id": "J3uhS1f7LQWM",
        "colab_type": "code",
        "colab": {
          "base_uri": "https://localhost:8080/",
          "height": 245
        },
        "outputId": "37be579f-8824-4d2a-a310-2ed236d8f8d6"
      },
      "source": [
        "pip install eif"
      ],
      "execution_count": null,
      "outputs": [
        {
          "output_type": "stream",
          "text": [
            "Collecting eif\n",
            "\u001b[?25l  Downloading https://files.pythonhosted.org/packages/83/b2/d87d869deeb192ab599c899b91a9ad1d3775d04f5b7adcaf7ff6daa54c24/eif-2.0.2.tar.gz (1.6MB)\n",
            "\u001b[K     |████████████████████████████████| 1.6MB 3.3MB/s \n",
            "\u001b[?25hRequirement already satisfied: numpy in /usr/local/lib/python3.6/dist-packages (from eif) (1.18.5)\n",
            "Requirement already satisfied: cython in /usr/local/lib/python3.6/dist-packages (from eif) (0.29.21)\n",
            "Building wheels for collected packages: eif\n",
            "  Building wheel for eif (setup.py) ... \u001b[?25l\u001b[?25hdone\n",
            "  Created wheel for eif: filename=eif-2.0.2-cp36-cp36m-linux_x86_64.whl size=251080 sha256=de2b9cea96be3685e47320ce599dad5fbfb8a1910c70dcbc9869cc271f27b62a\n",
            "  Stored in directory: /root/.cache/pip/wheels/24/ff/c3/6a610ba4a6c8e968483ba15a0e38feacd7c0a26c932b2f91bd\n",
            "Successfully built eif\n",
            "Installing collected packages: eif\n",
            "Successfully installed eif-2.0.2\n"
          ],
          "name": "stdout"
        }
      ]
    },
    {
      "cell_type": "code",
      "metadata": {
        "id": "CfH5ZnSSLYyt",
        "colab_type": "code",
        "colab": {}
      },
      "source": [
        "import random as rn\n",
        "import eif as iso"
      ],
      "execution_count": null,
      "outputs": []
    },
    {
      "cell_type": "code",
      "metadata": {
        "id": "M05-AbrnMaVy",
        "colab_type": "code",
        "colab": {
          "base_uri": "https://localhost:8080/",
          "height": 297
        },
        "outputId": "e77fd4de-3266-485c-869d-ef255a03cff7"
      },
      "source": [
        "i=0\n",
        "avg_score=[]\n",
        "f1_score=[]\n",
        "for train_index, test_index in kf4.split(df_8mm):\n",
        "  X_train = df_8mm.iloc[train_index].loc[:, cols]\n",
        "  X_test =df_8mm.iloc[test_index][cols]\n",
        "  y_train = df_8mm.iloc[train_index].loc[:,'Target']\n",
        "  y_test = df_8mm.iloc[test_index]['Target']\n",
        "  X_train=X_train.to_numpy() \n",
        "  y_train=y_train.to_numpy()\n",
        "  X_test=X_test.to_numpy()\n",
        "  y_test=y_test.to_numpy()\n",
        "  model=iso.iForest(X_train, ntrees=100, sample_size=160, ExtensionLevel=5)#160,150\n",
        "  S1 = model.compute_paths(X_in=X_train)                                   #100,160\n",
        "  ss1=np.argsort(S1)\n",
        " \n",
        "  c=0\n",
        "  for val in ss1:\n",
        "    if y_train[val]==0 and S1[val]>0.5:\n",
        "      #print(f'{val}-{y_train[val]}-{S1[val]}')\n",
        "      c=c+1\n",
        "      \n",
        "    if y_train[val]==1 and S1[val]<0.5:\n",
        "      #print(f'{val}-{y_train[val]}-{S1[val]}')\n",
        "      c=c+1\n",
        "  acc=c/len(y_train)\n",
        "  # print(f'train accuracy: {acc}')\n",
        "  \n",
        "  S2= model.compute_paths(X_in=X_test)\n",
        "  ss2=np.argsort(S2)\n",
        "  c=0\n",
        "  y_pred= np.full(y_test.shape, 2)\n",
        "  y_pred=np.array(y_pred)\n",
        "  for val in ss2:\n",
        "    if y_test[val]==0 and S2[val]>=0.5:\n",
        "      #print(f'{val}-{y_test[val]}-{S2[val]}')\n",
        "      y_pred[val]=0\n",
        "      c=c+1\n",
        "    elif y_test[val]==1 and S2[val]<0.5:\n",
        "      #print(f'{val}-{y_test[val]}-{S2[val]}')\n",
        "      c=c+1\n",
        "      y_pred[val]=1\n",
        "    elif y_test[val]==0:\n",
        "      y_pred[val]=1\n",
        "    else:\n",
        "      y_pred[val]=0\n",
        "  acc=c/len(y_test)\n",
        "\n",
        "  avg_score.append(acc)\n",
        "  print(f'test accuracy: {acc}')\n",
        "  y_test=y_test.tolist()\n",
        "  y_pred=y_pred.tolist()\n",
        "  # print(y_test)\n",
        "  # print(y_pred)\n",
        "  # print(f\"Predicted values: {y_pred}\")\n",
        "  # print(f\"Actual values: {y_test}\")\n",
        "  #print(f\"Accuracy for the fold no. {i} on the test set: {confusion_matrix(y_test, y_pred)}\")\n",
        "  a,b,c,d=precision_recall_fscore_support(y_test, y_pred, average='weighted')\n",
        "  print(f\"Precison_recall_fscore for the fold no. {i} on the test set: {precision_recall_fscore_support(y_test, y_pred, average='weighted')}\")\n",
        "  i =i+1\n",
        "    \n",
        "  print(f'F-score:{c}')\n",
        "  # avg_score.append(score)\n",
        "  f1_score.append(c)"
      ],
      "execution_count": null,
      "outputs": [
        {
          "output_type": "stream",
          "text": [
            "test accuracy: 0.9285714285714286\n",
            "Precison_recall_fscore for the fold no. 0 on the test set: (0.9269957983193278, 0.9285714285714286, 0.9270036372758058, None)\n",
            "F-score:0.9270036372758058\n",
            "test accuracy: 0.9761904761904762\n",
            "Precison_recall_fscore for the fold no. 1 on the test set: (0.9768170426065164, 0.9761904761904762, 0.9750264550264548, None)\n",
            "F-score:0.9750264550264548\n",
            "test accuracy: 0.9523809523809523\n",
            "Precison_recall_fscore for the fold no. 2 on the test set: (0.9550264550264549, 0.9523809523809523, 0.9496598639455781, None)\n",
            "F-score:0.9496598639455781\n",
            "test accuracy: 0.975609756097561\n",
            "Precison_recall_fscore for the fold no. 3 on the test set: (0.9762351469668542, 0.975609756097561, 0.9733291099144755, None)\n",
            "F-score:0.9733291099144755\n",
            "test accuracy: 0.9024390243902439\n",
            "Precison_recall_fscore for the fold no. 4 on the test set: (0.9024390243902439, 0.9024390243902439, 0.9024390243902439, None)\n",
            "F-score:0.9024390243902439\n"
          ],
          "name": "stdout"
        }
      ]
    },
    {
      "cell_type": "code",
      "metadata": {
        "id": "Ek9a5dIiAVme",
        "colab_type": "code",
        "colab": {
          "base_uri": "https://localhost:8080/",
          "height": 52
        },
        "outputId": "e28a6a83-ac75-4154-83af-ba8581fa79f1"
      },
      "source": [
        "print(f'average_accuracy:{mean(avg_score)}')\n",
        "print(f'mean f1_score:{mean(f1_score)}')"
      ],
      "execution_count": null,
      "outputs": [
        {
          "output_type": "stream",
          "text": [
            "average_accuracy:0.9470383275261324\n",
            "mean f1_score:0.9454916181105116\n"
          ],
          "name": "stdout"
        }
      ]
    },
    {
      "cell_type": "code",
      "metadata": {
        "id": "hb6lGiH8MvAB",
        "colab_type": "code",
        "colab": {}
      },
      "source": [
        "# i=0\n",
        "# avg_score=[]\n",
        "# f1_score=[]\n",
        "# for train_index, test_index in kf4.split(df_8mm):\n",
        "#   X_train = df_8mm.iloc[train_index].loc[:, cols]\n",
        "#   X_test =df_8mm.iloc[test_index][cols]\n",
        "#   # print(X_train)\n",
        "#   # print(X_test)\n",
        "#   y_train = df_8mm.iloc[train_index].loc[:,'Target']\n",
        "#   y_test = df_8mm.iloc[test_index]['Target']\n",
        "#   clf = GridSearchCV(OneClassSVM(), tuned_parameters, cv=4, scoring='precision', return_train_score=True)\n",
        "#   y_tra= np.full(y_train.shape, 1)\n",
        "#   clf.fit(X_train,y_tra)\n",
        "\n",
        "#   resultDf = pd.DataFrame(clf.cv_results_)\n",
        "#   print(resultDf[[\"mean_test_score\", \"std_test_score\", \"params\"]].sort_values(by=[\"mean_test_score\"], ascending=False).head())\n",
        "\n",
        "#   print(\"Best parameters set found on development set:\")\n",
        "#   print(clf.best_params_)\n",
        "#   # train_normal = y_train[y_train==1] \n",
        "#   # train_outliers = y_train[y_train==0] \n",
        "#   # print(len(train_normal))\n",
        "#   # print(len(train_outliers))\n",
        "#   # outlier_prop = len(train_outliers) / len(train_normal) \n",
        "#   # print(outlier_prop)\n",
        "#   # svm = OneClassSVM(kernel='rbf', nu=0.6, gamma=0.01)  #20% outliers if nu=0.8\n",
        "#   # svm.fit(X_train)\n",
        "#   #y_pred=svm.predict(X_test)\n",
        "#   y_pred=clf.predict(X_test)\n",
        "#   for i in range(len(y_pred)):\n",
        "#     if y_pred[i]==-1:\n",
        "#       y_pred[i]=0\n",
        "#   #y_test= np.full(y_pred.shape, 1)\n",
        "#   y_test=y_test.tolist()\n",
        "#   print(y_test)\n",
        "#   print(y_pred)\n",
        "#   #print(f\"Accuracy for the fold no. {i} on the test set: {confusion_matrix(y_test, y_pred)}\")\n",
        "#   #print(f\"Precison_recall_fscore for the fold no. {i} on the test set: {precision_recall_fscore_support(y_test, y_pred, average='weighted')}\")\n",
        "#   a,b,c,d=precision_recall_fscore_support(y_test, y_pred, average='weighted')\n",
        "#   i =i+1\n",
        "#   score=accuracy_score(y_test,y_pred)\n",
        "#   print(score)  \n",
        "#   avg_score.append(score)\n",
        "#   f1_score.append(c)\n",
        "\n",
        "  "
      ],
      "execution_count": null,
      "outputs": []
    },
    {
      "cell_type": "code",
      "metadata": {
        "id": "j7fTgedIWGPC",
        "colab_type": "code",
        "colab": {}
      },
      "source": [
        "# import matplotlib.pyplot as plt\n",
        "# import matplotlib as mpl\n",
        "# import numpy as np\n",
        "\n",
        "# from sklearn import datasets\n",
        "# from sklearn.externals.six.moves import xrange\n",
        "# from sklearn.mixture import GaussianMixture as GMM\n",
        "\n",
        "\n",
        "# x = df_8mm[cols]\n",
        "# y =df_8mm['Target']\n",
        "\n",
        "# # Break up the dataset into non-overlapping training (75%) and testing\n",
        "# # (25%) sets.\n",
        "# skf = StratifiedKFold(n_splits=5, random_state=None, shuffle=True)\n",
        "# classifier = GMM(n_components=2,covariance_type='full', init_params='random',max_iter=20)\n",
        "\n",
        "# # Only take the first fold.\n",
        "# for train_index, test_index in skf.split(x, y):\n",
        "#   X_train = df_8mm.iloc[train_index].loc[:, cols]\n",
        "#   X_test =df_8mm.iloc[test_index][cols]\n",
        "#   y_train = df_8mm.iloc[train_index].loc[:,'Target']\n",
        "#   y_test = df_8mm.iloc[test_index]['Target']\n",
        "#   classifier.fit(X_train)\n",
        "\n",
        "#   y_train_pred = classifier.predict(X_train)\n",
        "#   train_accuracy = np.mean(y_train_pred.ravel() == y_train.ravel()) * 100\n",
        "#   print(f'train_accuracy is: {train_accuracy}')\n",
        "\n",
        "#   y_test_pred = classifier.predict(X_test)\n",
        "#   print(y_test_pred.ravel())\n",
        "#   print(y_test.ravel())\n",
        "#   test_accuracy = np.mean(y_test_pred.ravel() == y_test.ravel()) * 100\n",
        "#   print(test_accuracy)\n"
      ],
      "execution_count": null,
      "outputs": []
    }
  ]
}